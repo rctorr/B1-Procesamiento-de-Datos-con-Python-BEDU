{
 "cells": [
  {
   "cell_type": "markdown",
   "id": "8db36c63-5c75-4b09-932a-165629ef2bd0",
   "metadata": {},
   "source": [
    "**Módulo 7:** The Movie Database API"
   ]
  },
  {
   "cell_type": "markdown",
   "id": "0518d5ef-1707-4606-9a42-218b8a76ad43",
   "metadata": {},
   "source": [
    "## Crear una muestra de Cine Internacional para una Empresa que distribuye y exhibe películas\n",
    "---"
   ]
  },
  {
   "cell_type": "markdown",
   "id": "6203cd1b-a073-4aba-90a5-9c9372251422",
   "metadata": {
    "editable": true,
    "slideshow": {
     "slide_type": ""
    },
    "tags": []
   },
   "source": [
    "### Definición del problema\n",
    "\n",
    "Eres parte de una empresa distribuidora de contenido multimedia en Latinoamérica y en colaboración con la Secretaría de Cultura de tu país se va a organizar una muestra de Cine Internacional con las mejores películas de todos los tiempos. La muestra tendrá una duración de una semana, en los primeros 5 días se exhibirán una categoría distinta por día (por ejemplo el primer se podrían exhibir sólo películas de Acción o el segundo de Drama) y los últimos 2 se proyectarán las mejores peliculas de todas las cateogrías. Por lo que se necesita saber cuales son las 5 categorías que contienen las mejores películas de todos los tiempos.\n",
    "\n",
    "Se cuentan con 7 salas de proyección así que se requiere de contar con 7 películas por categoría además es importante mencionar que los criterios para usar pueden ser las mas votadas o las de mejor valoración o las que obtuvieron más ingresos.\n",
    "\n",
    "Se requiere la lista de las 5 categorías y para cada categoría la lista de 7 títulos de películas indicando los criterios utilizados.\n",
    "\n",
    "Adicionalmente se requiere de 2 listas con 7 películas cada con las mejores películas de todos los tiempos sin considerar la categoría y también indicando los criterios de evaluación."
   ]
  },
  {
   "cell_type": "markdown",
   "id": "23e83936-e92c-4141-88fa-ab268564b412",
   "metadata": {
    "editable": true,
    "slideshow": {
     "slide_type": ""
    },
    "tags": []
   },
   "source": [
    "### Definiendo fuentes de datos"
   ]
  },
  {
   "cell_type": "markdown",
   "id": "63b97fbf-bd1d-4f18-9c30-497f26c0e560",
   "metadata": {},
   "source": [
    "- Se exclora [IMDb](https://www.imdb.com) ya que es una base de datos que contiene información desde 1990 sobre pleículas, series y actores.\n",
    "  - Cuenta con un acceso a [las 250 mejores películas](https://www.imdb.com/chart/top/?ref_=nv_mv_250) sólo que no incluye categoría o ingresos y además la API demora cuando menos 3 días en dar acceso, sin embargo se podría usar el módulo BeautifulSoup para obtener la información pero será necesario complementarla y son las mejores 250 según la calificación de los votantes habituales de IMDb.\n",
    "  - Cuenta con un acceso a [las mejores películas (100)](https://www.imdb.com/chart/moviemeter/?ref_=nv_mv_mpm) según lo indicado por los usuarios de IMDb, parece ser una clasificación realizada periódicamente, sin embargo tampoco hay categorías o ingresos obtenidos por película.\n",
    "  - También se puede obtener la información por película donde si se cuenta con los géneros a los que pertenece, pero habría que obtener el **id** que utiliza IMDb para cada película. Un link de ejemplo es: https://www.imdb.com/title/tt10160976\n",
    "  - Afiliada a IMDb existe una página [BoxOfficeMojo](https://www.boxofficemojo.com/chart/ww_top_lifetime_gross/?area=XWW&ref_=bo_cso_ac) que muestra una tabla con las películas más taquilleras de todos los tiempos a nivel internacional, pero sólo es está el nombre de la película en inglés habría que encontrar el nombre de cada película en inglés también."
   ]
  },
  {
   "cell_type": "markdown",
   "id": "3cadce8d-63bb-42ce-b9cf-d569e3379845",
   "metadata": {},
   "source": [
    "- Se explora también [The Movie Data Base](https://www.themoviedb.org) que es otra base de datos de películas que también cuenta con API y cuyo acceso logré en el transcurso de un día.\n",
    "  - Usando la API se puede obtener la lista de pleículas del top de peliculas de todos los tiempos en base a las valoraciones de los usuarios y se puede acceder desde el siguiente [link](https://developer.themoviedb.org/reference/movie-top-rated-list)\n",
    "  - Usando la API se puede obtener la lista de géneros usando el [link](https://developer.themoviedb.org/reference/genre-movie-list)\n",
    "  - Usando la API también se puede obtener información de cada película incluyendo los generos y lo recaudado por cada película usando el [link](https://developer.themoviedb.org/reference/movie-details)"
   ]
  },
  {
   "cell_type": "markdown",
   "id": "14ed08d8-204d-4b42-8bef-d1bad30cdaf1",
   "metadata": {},
   "source": [
    "Debido a que ya se cuenta con el acceso a la API de The Movie Data Base se tratará de obtener y explotar al máximo éste conjunto de datos, sin embargo no se descarta hacer uso de los datos de BoxOfficeMojo ya que proporciona una buena lista de las películas con más ingresos de todos los tiempos."
   ]
  },
  {
   "cell_type": "markdown",
   "id": "7c76452b-c6dc-4d1d-8d2a-2a54e7dd6453",
   "metadata": {
    "editable": true,
    "slideshow": {
     "slide_type": ""
    },
    "tags": []
   },
   "source": [
    "### Obteniendo una lista de 250 películas del top y complementando la información"
   ]
  },
  {
   "cell_type": "markdown",
   "id": "ab6b04d1-dcd1-4583-a40c-34330f81c665",
   "metadata": {},
   "source": [
    "Lo primero hay que obtener la primera página de películas del Top, para ello hacer uso del módulo requests y se crear un DataFrame que incluya un conjunto de 250 películas esperando sean suficientes para obtener 7 por categoría.\n",
    "\n",
    "Revisar la documentación de la API en el [link API películas top](https://developer.themoviedb.org/reference/movie-top-rated-list)\n",
    "\n",
    "Al final guarda el resultado en el archivo `peliculas-top-raw.csv`"
   ]
  },
  {
   "cell_type": "code",
   "execution_count": null,
   "id": "223f4cb3-4c9b-4acb-b065-340ffa733c0a",
   "metadata": {},
   "outputs": [],
   "source": []
  },
  {
   "cell_type": "markdown",
   "id": "e38d9887-f6c1-4ee6-8cd8-d776e1f59048",
   "metadata": {
    "editable": true,
    "slideshow": {
     "slide_type": ""
    },
    "tags": []
   },
   "source": [
    "### Exploración y limpieza de la lista del películas\n",
    "\n",
    "Primero describe el conjunto de datos\n",
    "\n",
    "Segundo realiza limpieza de valores nules y selecciona las columna útiles, renombra las columnas en caso de ser necesario.\n",
    "\n",
    "Al final guarda el resultado en el archivo `peliculas-top-clean.csv`"
   ]
  },
  {
   "cell_type": "code",
   "execution_count": null,
   "id": "796793a6-89fa-4345-99b3-9d16e09b9c17",
   "metadata": {},
   "outputs": [],
   "source": []
  },
  {
   "cell_type": "markdown",
   "id": "1c56f86d-0f6b-48a4-9ac3-00d1d0f383aa",
   "metadata": {
    "editable": true,
    "slideshow": {
     "slide_type": ""
    },
    "tags": []
   },
   "source": [
    "### Validando los tipos de datos de columnas y revisando valores anómalos\n",
    "\n",
    "- Revisar si hay columnas con tipos de datos erroneamente asignado y en caso de existir realizar las conversiones necesarias y comentar porque fueron necesarias.\n",
    "- Revisar si hay valores anómalos en las columnas y en caso afirmativo realizar las transformaciones necesarias hasta contar con datos homogéneos en cada columna.\n",
    "\n",
    "Al final guarda el resultado en el archivo `peliculas-top-ready.csv`"
   ]
  },
  {
   "cell_type": "code",
   "execution_count": null,
   "id": "4ff5804f-0707-4858-ae65-b04141e4f025",
   "metadata": {},
   "outputs": [],
   "source": []
  },
  {
   "cell_type": "markdown",
   "id": "4c546c70-ebef-4948-b7e9-37cbf2285e5a",
   "metadata": {
    "editable": true,
    "slideshow": {
     "slide_type": ""
    },
    "tags": []
   },
   "source": [
    "### Buscando las 5 mejores categorías\n",
    "\n",
    "- Agrupar las películas por categoría y contabilizar cuantas películas hay por cada género o categoría\n",
    "- Ordenar en base al número de películas de mayor a menor y obtener las primeras 5 categorías.\n",
    "- Crear una gráfica de barras horizontal de los géneros contra el número de películas para observar cuales serán las 5 categorías elegidas."
   ]
  },
  {
   "cell_type": "code",
   "execution_count": null,
   "id": "1b1cd5c4-ba44-487b-9cdb-27bbe5989eae",
   "metadata": {},
   "outputs": [],
   "source": []
  },
  {
   "cell_type": "markdown",
   "id": "f94b70d6-a203-4ebb-a189-8cb30e13380c",
   "metadata": {
    "editable": true,
    "slideshow": {
     "slide_type": ""
    },
    "tags": []
   },
   "source": [
    "### Complementar la información de las categorías obtenidas\n",
    "\n",
    "- Descargar el catálogo de categorías usando la API y guardarlo en el archivo `generos.csv`\n",
    "- Complementar el DataFrame de los `generos_top_5` con el nombre del género y almacenarlo en el archivo `generos-top-5-full.csv` ya que este és una de las listas solicitadas."
   ]
  },
  {
   "cell_type": "code",
   "execution_count": null,
   "id": "82c3f9b4-1b4a-4389-aa13-139759e9727c",
   "metadata": {},
   "outputs": [],
   "source": []
  },
  {
   "cell_type": "markdown",
   "id": "b7987368-649b-4d5f-8ddc-eb9d018ec241",
   "metadata": {
    "editable": true,
    "slideshow": {
     "slide_type": ""
    },
    "tags": []
   },
   "source": [
    "### Obtener la lista de 7 películas por cada género.\n",
    "\n",
    "- Usar los archivos `peliculas-top-ready.csv`, `generos-top-5-full.csv` y `peliculas-por-genero.csv` para obtener cada una de las listas de las 7 mejores películas para cada uno de los 5 géneros.\n",
    "- Para cada lista crea un archivo con el nombre `peliculas-top-del-[genero].csv` y remplaza `[genero]` con el nombre del género según corresponda cada lista"
   ]
  },
  {
   "cell_type": "code",
   "execution_count": null,
   "id": "f62b069b-173a-4ef7-82a4-f75fcf2f0993",
   "metadata": {},
   "outputs": [],
   "source": []
  },
  {
   "cell_type": "markdown",
   "id": "d5699da3-d612-4707-bcf4-3df6191b4dd7",
   "metadata": {
    "editable": true,
    "slideshow": {
     "slide_type": ""
    },
    "tags": []
   },
   "source": [
    "### Obtener la lista de 7 películas por cada género.\n",
    "\n",
    "- Usar los archivos `peliculas-top-ready.csv`, `generos-top-5-full.csv` y `peliculas-por-genero.csv` para obtener cada una de las listas de las 7 mejores películas para cada uno de los 5 géneros.\n",
    "- Para cada lista crea un archivo con el nombre `peliculas-top-del-[genero].csv` y remplaza `[genero]` con el nombre del género según corresponda cada lista"
   ]
  },
  {
   "cell_type": "code",
   "execution_count": null,
   "id": "dc09c5d1-a34a-45e7-bc10-2c0628d7ba9d",
   "metadata": {},
   "outputs": [],
   "source": []
  },
  {
   "cell_type": "markdown",
   "id": "a7b388a8-2c8c-445f-98dd-c09a8f2a1286",
   "metadata": {
    "editable": true,
    "slideshow": {
     "slide_type": ""
    },
    "tags": []
   },
   "source": [
    "### Obtener la lista de 7 películas para cada uno de los últimos 2 días\n",
    "\n",
    "- En realidad habría que obtener las 14 mejores películas de todos los tiempos\n",
    "- Para la lista del día 6 crearla con las que corresponden a las posiciones impares y almacenarlas en el archivo `peliculas-top-dia-6.csv`\n",
    "- Para la lista del día 7 crearla con las que corresponden a las posiciones pares y almacenarlas en el archivo `peliculas-top-dia-7.csv`"
   ]
  },
  {
   "cell_type": "code",
   "execution_count": null,
   "id": "049413bf-0140-4eee-be90-31431e264bc0",
   "metadata": {},
   "outputs": [],
   "source": []
  },
  {
   "cell_type": "markdown",
   "id": "e22a53c5-a317-40a9-8020-ef9f31e69b19",
   "metadata": {
    "editable": true,
    "slideshow": {
     "slide_type": ""
    },
    "tags": []
   },
   "source": [
    "### Convertir los archivos csv a archivos en formato Excel\n",
    "\n",
    "- Debido a que no se conoce si el usuario final son programadores es conveniente entregar los resultados en formato Excel para simplificar su lectura.\n",
    "- Generar también archivos en formato png de las gráficas que apoyen la elección tanto de las películas como de los géneros.\n",
    "- Crear un documento donde se mencione el conjunto de datos utilizado incluyendo referencias, un resumen del procedimiento realizado, incluyendo las gráficas para justificar la elección de las categorías y películas y todos los archivos agruparlos en una carpeta comprimida llamada `las-mejores-peliculas.zip` que será el entregable final."
   ]
  },
  {
   "cell_type": "code",
   "execution_count": null,
   "id": "5dde6487-01b4-4dff-964d-044c7f535471",
   "metadata": {},
   "outputs": [],
   "source": []
  }
 ],
 "metadata": {
  "kernelspec": {
   "display_name": "Python 3 (ipykernel)",
   "language": "python",
   "name": "python3"
  },
  "language_info": {
   "codemirror_mode": {
    "name": "ipython",
    "version": 3
   },
   "file_extension": ".py",
   "mimetype": "text/x-python",
   "name": "python",
   "nbconvert_exporter": "python",
   "pygments_lexer": "ipython3",
   "version": "3.11.5"
  }
 },
 "nbformat": 4,
 "nbformat_minor": 5
}
