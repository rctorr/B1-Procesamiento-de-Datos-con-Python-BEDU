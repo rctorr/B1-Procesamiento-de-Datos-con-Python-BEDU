{
 "cells": [
  {
   "cell_type": "markdown",
   "metadata": {},
   "source": [
    "## Ejemplo 1: Listas\n",
    "\n",
    "### 1. Objetivos:\n",
    "    - Entender la sintaxis de las listas en Python\n",
    "    - Aprender a crear listas y accesarlas\n",
    " \n",
    "---\n",
    "    \n",
    "### 2. Desarrollo:"
   ]
  },
  {
   "cell_type": "markdown",
   "metadata": {},
   "source": [
    "#### Creando listas y accediendo a ellas\n",
    "\n",
    "Las listas son secuencias ordenadas de datos. El orden de los datos en la lista es el mismo orden que tienen los datos a la hora de ser asignados a la lista. Una lista se ve así:"
   ]
  },
  {
   "cell_type": "code",
   "execution_count": 1,
   "metadata": {},
   "outputs": [],
   "source": [
    "lista_1 = [1, 2, 3, 4, 5]"
   ]
  },
  {
   "cell_type": "markdown",
   "metadata": {},
   "source": [
    "Cada elemento en la lista tiene un índice. que se usa para poder acceder a dicho elemento. Dado que las listas son ordenadas. los índices se van asignando secuencialmente desde el primer elemento hasta el último. El primer índice es siempre `0`. y por lo tanto el último índice es siempre `n - 1`. donde `n` es el número total de elementos en la lista."
   ]
  },
  {
   "cell_type": "markdown",
   "metadata": {},
   "source": [
    "Por lo tanto. para acceder al primer y al último elemento de la lista anterior. hacemos lo siguiente: "
   ]
  },
  {
   "cell_type": "code",
   "execution_count": 2,
   "metadata": {},
   "outputs": [
    {
     "data": {
      "text/plain": [
       "1"
      ]
     },
     "execution_count": 2,
     "metadata": {},
     "output_type": "execute_result"
    }
   ],
   "source": [
    "# primer elemento\n",
    "lista_1[0]"
   ]
  },
  {
   "cell_type": "code",
   "execution_count": 3,
   "metadata": {},
   "outputs": [
    {
     "data": {
      "text/plain": [
       "5"
      ]
     },
     "execution_count": 3,
     "metadata": {},
     "output_type": "execute_result"
    }
   ],
   "source": [
    "# último elemento contanto los elementos\n",
    "lista_1[4]"
   ]
  },
  {
   "cell_type": "markdown",
   "metadata": {},
   "source": [
    "Si intentamos acceder a un índice que no existe. porque no hay suficientes elementos en la lista. Python nos da un error:"
   ]
  },
  {
   "cell_type": "code",
   "execution_count": 4,
   "metadata": {},
   "outputs": [
    {
     "ename": "IndexError",
     "evalue": "list index out of range",
     "output_type": "error",
     "traceback": [
      "\u001b[0;31m---------------------------------------------------------------------------\u001b[0m",
      "\u001b[0;31mIndexError\u001b[0m                                Traceback (most recent call last)",
      "Cell \u001b[0;32mIn[4], line 2\u001b[0m\n\u001b[1;32m      1\u001b[0m \u001b[38;5;66;03m# índice que no existe\u001b[39;00m\n\u001b[0;32m----> 2\u001b[0m \u001b[43mlista_1\u001b[49m\u001b[43m[\u001b[49m\u001b[38;5;241;43m5\u001b[39;49m\u001b[43m]\u001b[49m\n",
      "\u001b[0;31mIndexError\u001b[0m: list index out of range"
     ]
    }
   ],
   "source": [
    "# índice que no existe\n",
    "lista_1[5]"
   ]
  },
  {
   "cell_type": "markdown",
   "metadata": {},
   "source": [
    "Dado que es difícil saber cuántos elementos hay en una lista. a menos que nos pongamos a contar. hay algo que podemos hacer para acceder a los últimos elementos de una lista sin arriesgarnos a tener un error:"
   ]
  },
  {
   "cell_type": "markdown",
   "metadata": {},
   "source": [
    "- Python nos permite acceder a los elementos empezando desde el último elemento hasta el primero (al revés. pues). Esto se hace usando números negativos. O sea que para acceder al último número puedo usar un `-1`. para acceder al penúltimo número puedo usar `-2` y así consecutivamente:"
   ]
  },
  {
   "cell_type": "code",
   "execution_count": 8,
   "metadata": {},
   "outputs": [
    {
     "data": {
      "text/plain": [
       "5"
      ]
     },
     "execution_count": 8,
     "metadata": {},
     "output_type": "execute_result"
    }
   ],
   "source": [
    "lista_1[ len(lista_1) - 1 ]"
   ]
  },
  {
   "cell_type": "code",
   "execution_count": 9,
   "metadata": {},
   "outputs": [
    {
     "data": {
      "text/plain": [
       "5"
      ]
     },
     "execution_count": 9,
     "metadata": {},
     "output_type": "execute_result"
    }
   ],
   "source": [
    "# último elemento al estilo Python\n",
    "lista_1[-1]"
   ]
  },
  {
   "cell_type": "code",
   "execution_count": 10,
   "metadata": {},
   "outputs": [
    {
     "data": {
      "text/plain": [
       "4"
      ]
     },
     "execution_count": 10,
     "metadata": {},
     "output_type": "execute_result"
    }
   ],
   "source": [
    "# penúltimo elemento\n",
    "lista_1[-2]"
   ]
  },
  {
   "cell_type": "markdown",
   "metadata": {},
   "source": [
    "Como podrás imaginar. no solamente podemos guardar datos crudos en una lista (`1. 2. 3. 4. etc`). Podemos guardar datos en variables y luego guardar esas variables en la lista. Las siguientes dos listas son equivalentes:"
   ]
  },
  {
   "cell_type": "code",
   "execution_count": null,
   "metadata": {},
   "outputs": [],
   "source": [
    "uno = 1\n",
    "dos = 2\n",
    "tres = 3\n",
    "cuatro = 4\n",
    "cinco = 5"
   ]
  },
  {
   "cell_type": "code",
   "execution_count": null,
   "metadata": {},
   "outputs": [],
   "source": [
    "# crea la lista con las variables"
   ]
  },
  {
   "cell_type": "markdown",
   "metadata": {},
   "source": [
    "#### Tipos de datos en una lista\n",
    "\n",
    "Como vimos en el Prework. una lista puede contener cualquier tipo de dato de los que ya conocemos (incluso otras listas)."
   ]
  },
  {
   "cell_type": "code",
   "execution_count": 11,
   "metadata": {},
   "outputs": [],
   "source": [
    "lista_de_ints = [1,2,3,4,5]\n",
    "lista_de_floats = [1.0, 2.5, 3.0]\n",
    "lista_de_strings = [\"uno\", \"dos\", 'tres']\n",
    "lista_de_booleanos = [True, False, False, True]\n",
    "lista_de_listas_de_ints = [ [1,2,3], [4,5,6], [7,8,9] ]  # matrix 3x3"
   ]
  },
  {
   "cell_type": "markdown",
   "metadata": {},
   "source": [
    "A pesar de que Python nos permite guardar diversos tipos de datos en una sola lista. aprendimos que la mejor práctica es evitar esto y guardar un solo tipo de dato por lista"
   ]
  },
  {
   "cell_type": "markdown",
   "metadata": {},
   "source": [
    "¡Vayamos a nuestro primer reto!\n",
    "\n",
    "---"
   ]
  },
  {
   "cell_type": "markdown",
   "metadata": {},
   "source": [
    "## Reto 1: Creando listas y accediendo a ellas\n",
    "\n",
    "### 1. Objetivos:\n",
    "    - Practicar crear listas con valores crudos y variables\n",
    "    - Practicar acceder a listas usando índices\n",
    " \n",
    "---\n",
    "    \n",
    "### 2. Desarrollo:"
   ]
  },
  {
   "cell_type": "markdown",
   "metadata": {},
   "source": [
    "#### a) Definiendo una lista\n",
    "\n",
    "Debajo de esta celda hay un nombre de una variable que aún no ha sido asignada:"
   ]
  },
  {
   "cell_type": "code",
   "execution_count": null,
   "metadata": {},
   "outputs": [],
   "source": [
    "mi_informacion = [ ... ]"
   ]
  },
  {
   "cell_type": "markdown",
   "metadata": {},
   "source": [
    "Ahora. tenemos un `print` que imprime una string formateada para mostrar cierta información acerca de ti (Las triples comillas `'''` nos sirven para generar strings de varias líneas):"
   ]
  },
  {
   "cell_type": "code",
   "execution_count": null,
   "metadata": {},
   "outputs": [],
   "source": [
    "print(f'''\n",
    "¡Hola! Mi nombre es {mi_informacion[0]}. Todos me dicen {mi_informacion[1]}.\n",
    "Mi comida favorita es {mi_informacion[2]}. Y la comida que más detesto es {mi_informacion[3]}.\n",
    "Mi trabajo ideal sería {mi_informacion[4]}.\n",
    "¡Gracias. chau!\n",
    "''')"
   ]
  },
  {
   "cell_type": "markdown",
   "metadata": {},
   "source": [
    "Para que esta string funcione. asigna una lista a la variable `mi_informacion` con toda la información necesaria para imprimir tu micro-bio debajo de la celda."
   ]
  },
  {
   "cell_type": "markdown",
   "metadata": {},
   "source": [
    "#### b) Una lista construida con variables \n",
    "\n",
    "Debajo de esta celda vemos los nombres de varias variables y una lista que las contiene."
   ]
  },
  {
   "cell_type": "code",
   "execution_count": null,
   "metadata": {},
   "outputs": [],
   "source": [
    "info_0 = \n",
    "info_1 = \n",
    "info_2 = \n",
    "info_3 = \n",
    "info_4 = \n",
    "\n",
    "info_faltante[info_0. info_1. info_2. info_3. info_4]"
   ]
  },
  {
   "cell_type": "markdown",
   "metadata": {},
   "source": [
    "Ahora. tenemos un `print` que imprime una pequeña historia utilizando la lista `info_faltante` que contiene a las demás variables:"
   ]
  },
  {
   "cell_type": "code",
   "execution_count": null,
   "metadata": {},
   "outputs": [],
   "source": [
    "print(f'''\n",
    "Algún día los {info_faltante[0]} lograrán su objetivo. Su objetivo de {info_faltante[1]}.\n",
    "Ese día. los humanos {info_faltante[2]} y tendrán que {info_faltante[3]}.\n",
    "Por esa razón yo todos los días {info_faltante[4]}.\n",
    "''')"
   ]
  },
  {
   "cell_type": "markdown",
   "metadata": {},
   "source": [
    "Tu reto será asignar las variables `info_x` con la información que desees para crear una historia a tu gusto. Cada variable puede contener una string que tenga varias palabras (frases. pues). Si te dan ganas. ¡comparte la historia con tus compañeros!"
   ]
  },
  {
   "cell_type": "markdown",
   "metadata": {},
   "source": [
    "#### c) Practicando el operador de indexación \n",
    "\n",
    "Debajo de esta celda hay una lista con números dentro:"
   ]
  },
  {
   "cell_type": "code",
   "execution_count": null,
   "metadata": {},
   "outputs": [],
   "source": [
    "respuestas = [0.58. 9. 2. 3. 37. 5. 75. 4]"
   ]
  },
  {
   "cell_type": "markdown",
   "metadata": {},
   "source": [
    "Ahora. tenemos un `print` con una string interpolada. Como puedes ver todas las interpolaciones están vacías:"
   ]
  },
  {
   "cell_type": "code",
   "execution_count": null,
   "metadata": {},
   "outputs": [],
   "source": [
    "print(f'''\n",
    "1. Los humanos tenemos {} ojos en la cara.\n",
    "2. Un humano adulto tiene {} dientes dentro de su boca.\n",
    "3. Un feto tarda {} meses en gestarse antes de nacer.\n",
    "4. La expectativa de vida en México es de alrededor de {} años.\n",
    "5. Las horas de sueño al día recomendadas para adultos jóvenes son entre {} y {}.\n",
    "6. El récord actual de velocidad en 100 metros (09/05/2020) fue establecido por Usain Bolt y es de {}\n",
    "''')"
   ]
  },
  {
   "cell_type": "markdown",
   "metadata": {},
   "source": [
    "Tu reto es llenar las interpolaciones en la string con elementos de la lista de arriba. Usa los índices de los elementos para acceder a las respuestas correctas y llenar la lista con información coherente. No todas las respuestas están en la lista. Para obtener algunas respuestas tendrás que acceder a elementos de la lista y realizar operaciones numéricas conn ellos (usando `+` o `-`).\n",
    "\n",
    "> Reto extra: Si quieres un poco más de dificultad. accede a todos los elementos usando **solamente** números negativos como índices"
   ]
  },
  {
   "cell_type": "markdown",
   "metadata": {},
   "source": [
    "#### d) Practicando creación e indexación de listas\n",
    "\n",
    "En la carpeta de la Sesion-02 existe el archivo `6.C Integración.xlsx` obtenido de uno de los Opens previos a éste módulo, abre la hoja de cálculo y copia todos los datos de la columna **ingresos** para crear una lista de Python con todos los datos copiados y almacena la lista en una variable llamada `ingresos`.\n",
    "\n",
    "Luego imprime la lista de todos los valores que están en las posiciones pares de la lista, o sea, imprime el valor en los índices 0, 2, 4, 6, etc. Por ejemplo podrías usar varias instrucciones `print()` de la siguiente forma:\n",
    "\n",
    "```python\n",
    "print(ingresos[0])\n",
    "print(ingresos[2])\n",
    "print(ingresos[4])\n",
    "...\n",
    "```\n",
    "Si existe una forma más eficiente de resolverlo úsala!\n",
    "\n",
    "Deberías de obtener una lista de 30 números igual a la siguiente:\n",
    "\n",
    "```\n",
    "[23613.32, 16584.38, 13189.51, 14553.07, 15930.66, 13554.47, 16111.15, 14968.22, 17230.24, 19083.66, 16673.1, 19398.68, 13452.55, 18741.43, 20271.95, 20064.8, 17034.18, 16259.55, 14356.71, 19099.44, 19295.55, 19640.58, 19273.18, 16795.54, 17661.09, 17089.48, 19794.82, 20600.72, 14783.69, 19721.02]\n",
    "```"
   ]
  },
  {
   "cell_type": "code",
   "execution_count": 19,
   "metadata": {},
   "outputs": [
    {
     "name": "stdout",
     "output_type": "stream",
     "text": [
      "[23613.32, 16584.38, 13189.51, 14553.07, 15930.66, 13554.47, 16111.15, 14968.22, 17230.24, 19083.66, 16673.1, 19398.68, 13452.55, 18741.43, 20271.95, 20064.8, 17034.18, 16259.55, 14356.71, 19099.44, 19295.55, 19640.58, 19273.18, 16795.54, 17661.09, 17089.48, 19794.82, 20600.72, 14783.69, 19721.02]\n"
     ]
    }
   ],
   "source": [
    "ingresos = [23613.32,16748.30,16584.38,18009.76,13189.51,18537.95,14553.07,18225.29,15930.66,18474.74,13554.47,16213.50,16111.15,17625.02,14968.22,18221.85,17230.24,18742.04,19083.66,17967.79,16673.10,16700.43,19398.68,17234.62,13452.55,20346.51,18741.43,13717.44,20271.95,12497.15,20064.80,17038.77,17034.18,16895.26,16259.55,17202.63,14356.71,17691.28,19099.44,19720.42,19295.55,18258.57,19640.58,13347.71,19273.18,15433.53,16795.54,19411.59,17661.09,16535.31,17089.48,19292.09,19794.82,17457.98,20600.72,18079.34,14783.69,15504.10,19721.02,10381.14]\n",
    "print(ingresos[::2])"
   ]
  },
  {
   "cell_type": "code",
   "execution_count": 12,
   "metadata": {
    "scrolled": true
   },
   "outputs": [
    {
     "name": "stdout",
     "output_type": "stream",
     "text": [
      "The Zen of Python, by Tim Peters\n",
      "\n",
      "Beautiful is better than ugly.\n",
      "Explicit is better than implicit.\n",
      "Simple is better than complex.\n",
      "Complex is better than complicated.\n",
      "Flat is better than nested.\n",
      "Sparse is better than dense.\n",
      "Readability counts.\n",
      "Special cases aren't special enough to break the rules.\n",
      "Although practicality beats purity.\n",
      "Errors should never pass silently.\n",
      "Unless explicitly silenced.\n",
      "In the face of ambiguity, refuse the temptation to guess.\n",
      "There should be one-- and preferably only one --obvious way to do it.\n",
      "Although that way may not be obvious at first unless you're Dutch.\n",
      "Now is better than never.\n",
      "Although never is often better than *right* now.\n",
      "If the implementation is hard to explain, it's a bad idea.\n",
      "If the implementation is easy to explain, it may be a good idea.\n",
      "Namespaces are one honking great idea -- let's do more of those!\n"
     ]
    }
   ],
   "source": [
    "import this"
   ]
  },
  {
   "cell_type": "code",
   "execution_count": 22,
   "metadata": {},
   "outputs": [
    {
     "name": "stdout",
     "output_type": "stream",
     "text": [
      "23613.32\n",
      "16584.38\n",
      "13189.51\n",
      "14553.07\n",
      "15930.66\n",
      "13554.47\n",
      "16111.15\n",
      "14968.22\n",
      "17230.24\n",
      "19083.66\n",
      "16673.1\n",
      "19398.68\n",
      "13452.55\n",
      "18741.43\n",
      "20271.95\n",
      "20064.8\n",
      "17034.18\n",
      "16259.55\n",
      "14356.71\n",
      "19099.44\n",
      "19295.55\n",
      "19640.58\n",
      "19273.18\n",
      "16795.54\n",
      "17661.09\n",
      "17089.48\n",
      "19794.82\n",
      "20600.72\n",
      "14783.69\n",
      "19721.02\n"
     ]
    }
   ],
   "source": [
    "for i in range(0,len(ingresos)-1):\n",
    "    if i%2==0:\n",
    "        print(ingresos[i])"
   ]
  },
  {
   "cell_type": "code",
   "execution_count": 23,
   "metadata": {},
   "outputs": [
    {
     "name": "stdout",
     "output_type": "stream",
     "text": [
      "23613.32\n",
      "16584.38\n",
      "13189.51\n",
      "14553.07\n",
      "15930.66\n",
      "13554.47\n",
      "16111.15\n",
      "14968.22\n",
      "17230.24\n",
      "19083.66\n",
      "16673.1\n",
      "19398.68\n",
      "13452.55\n",
      "18741.43\n",
      "20271.95\n",
      "20064.8\n",
      "17034.18\n",
      "16259.55\n",
      "14356.71\n",
      "19099.44\n",
      "19295.55\n",
      "19640.58\n",
      "19273.18\n",
      "16795.54\n",
      "17661.09\n",
      "17089.48\n",
      "19794.82\n",
      "20600.72\n",
      "14783.69\n",
      "19721.02\n"
     ]
    }
   ],
   "source": [
    "for i in range(0, len(ingresos), 2):\n",
    "    print(ingresos[i])"
   ]
  }
 ],
 "metadata": {
  "kernelspec": {
   "display_name": "Python 3 (ipykernel)",
   "language": "python",
   "name": "python3"
  },
  "language_info": {
   "codemirror_mode": {
    "name": "ipython",
    "version": 3
   },
   "file_extension": ".py",
   "mimetype": "text/x-python",
   "name": "python",
   "nbconvert_exporter": "python",
   "pygments_lexer": "ipython3",
   "version": "3.11.4"
  }
 },
 "nbformat": 4,
 "nbformat_minor": 4
}
