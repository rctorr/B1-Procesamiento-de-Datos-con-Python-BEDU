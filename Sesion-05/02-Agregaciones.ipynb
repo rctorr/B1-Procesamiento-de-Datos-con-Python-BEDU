{
 "cells": [
  {
   "cell_type": "markdown",
   "metadata": {},
   "source": [
    "## Ejemplo 2: Agregaciones\n",
    "\n",
    "### 1. Objetivos:\n",
    "    - Aprender cómo usar agregaciones para resumir o reducir un arreglo\n",
    " \n",
    "### 2. Desarrollo:"
   ]
  },
  {
   "cell_type": "markdown",
   "metadata": {},
   "source": [
    "Las agregaciones entonces aplican una función a todos los elementos del conjunto y regresan un único valor (talvéz como el sumar o adicionar o agregar todos los elementos fue de las primeras en implementarse heredó el nombre de **agregaciones** al resto de las funciones u operaciones de éste tipo).\n",
    "\n",
    "`Pandas` tiene incluidas bastantes de éstas funciones, así que podemos llamarlas con tan sólo usar un método de nuestra `Serie`."
   ]
  },
  {
   "cell_type": "code",
   "execution_count": 1,
   "metadata": {},
   "outputs": [],
   "source": [
    "import pandas as pd"
   ]
  },
  {
   "cell_type": "markdown",
   "metadata": {},
   "source": [
    "Usemos la siguiente serie como ejemplo:"
   ]
  },
  {
   "cell_type": "code",
   "execution_count": 2,
   "metadata": {},
   "outputs": [
    {
     "data": {
      "text/plain": [
       "0    328\n",
       "1    778\n",
       "2    186\n",
       "3    115\n",
       "4    125\n",
       "5    554\n",
       "6    964\n",
       "7    764\n",
       "8    537\n",
       "9    812\n",
       "dtype: int64"
      ]
     },
     "execution_count": 2,
     "metadata": {},
     "output_type": "execute_result"
    }
   ],
   "source": [
    "import random\n",
    "\n",
    "serie = pd.Series([random.randint(1, 1000) for x in range(100)])\n",
    "serie.head(10)"
   ]
  },
  {
   "cell_type": "markdown",
   "metadata": {},
   "source": [
    "En Python ya existe una función llamada `sum(-colección-)` que suma todos los elementos de cualquier colección de Python como una Lista o nuestra Serie:"
   ]
  },
  {
   "cell_type": "code",
   "execution_count": 3,
   "metadata": {},
   "outputs": [
    {
     "data": {
      "text/plain": [
       "52998"
      ]
     },
     "execution_count": 3,
     "metadata": {},
     "output_type": "execute_result"
    }
   ],
   "source": [
    "sum(serie)"
   ]
  },
  {
   "cell_type": "markdown",
   "metadata": {},
   "source": [
    "Pero Pandas tiene su propia función optimizada de la forma `serie.sum()`:"
   ]
  },
  {
   "cell_type": "code",
   "execution_count": 4,
   "metadata": {},
   "outputs": [
    {
     "data": {
      "text/plain": [
       "52998"
      ]
     },
     "execution_count": 4,
     "metadata": {},
     "output_type": "execute_result"
    }
   ],
   "source": [
    "serie.sum()"
   ]
  },
  {
   "cell_type": "markdown",
   "metadata": {},
   "source": [
    "Y también sus propias funciones `serie.min()` y `serie.max()` nos dan el valor mínimo y máximo respectivamente,  de nuestra serie:"
   ]
  },
  {
   "cell_type": "code",
   "execution_count": 5,
   "metadata": {},
   "outputs": [
    {
     "data": {
      "text/plain": [
       "6"
      ]
     },
     "execution_count": 5,
     "metadata": {},
     "output_type": "execute_result"
    }
   ],
   "source": [
    "serie.min()"
   ]
  },
  {
   "cell_type": "code",
   "execution_count": null,
   "metadata": {},
   "outputs": [],
   "source": [
    "..."
   ]
  },
  {
   "cell_type": "markdown",
   "metadata": {},
   "source": [
    "También podemos obtener con `serie.count()` el conteo total de elementos en nuestra serie:"
   ]
  },
  {
   "cell_type": "code",
   "execution_count": 6,
   "metadata": {},
   "outputs": [
    {
     "data": {
      "text/plain": [
       "100"
      ]
     },
     "execution_count": 6,
     "metadata": {},
     "output_type": "execute_result"
    }
   ],
   "source": [
    "serie.count()"
   ]
  },
  {
   "cell_type": "markdown",
   "metadata": {},
   "source": [
    "También podrías usan la función `len(-colección-)` de Python:"
   ]
  },
  {
   "cell_type": "code",
   "execution_count": 7,
   "metadata": {},
   "outputs": [
    {
     "data": {
      "text/plain": [
       "100"
      ]
     },
     "execution_count": 7,
     "metadata": {},
     "output_type": "execute_result"
    }
   ],
   "source": [
    "len(serie)"
   ]
  },
  {
   "cell_type": "code",
   "execution_count": 8,
   "metadata": {},
   "outputs": [
    {
     "data": {
      "text/plain": [
       "100"
      ]
     },
     "execution_count": 8,
     "metadata": {},
     "output_type": "execute_result"
    }
   ],
   "source": [
    "serie.size"
   ]
  },
  {
   "cell_type": "markdown",
   "metadata": {},
   "source": [
    "a estas alturas habrás observado que está la forma tradicional de Python para realizar ciertas tareas y la forma **Pandesca** de resolver esas mismas tareas, pero cual es mejor usar, entonces si a estas alturas aún dudas y sólo has escuchado que Pandas es sólo un **cuento urbano** vamos a calcular la eficiencia de obtener la suma de una colección de 1 millón de números usando listas y series para entonces comparar el resultado de `Python vs Pandas` ..."
   ]
  },
  {
   "cell_type": "code",
   "execution_count": 10,
   "metadata": {},
   "outputs": [],
   "source": [
    "import time\n",
    "\n",
    "l1 = range(1_000_000)  # versión de lista como un generador\n",
    "l2 = list(range(1_000_000))  # versión de lista con todos sus elementos vivitos en memoria\n",
    "s1 = pd.Series(l1)  # versión Serie construida a partir de un generador\n",
    "s2 = pd.Series(l2)  # versión Serie construida a partir de una lista"
   ]
  },
  {
   "cell_type": "markdown",
   "metadata": {},
   "source": [
    "Primero, obtendremos la suma usando generadores y la función `sum()` de Python y también calculamos el tiempo que se tarda en realizar la operación haciendo uso de la función `time.time()` que regresa la hora actual en milisegundos."
   ]
  },
  {
   "cell_type": "code",
   "execution_count": 19,
   "metadata": {},
   "outputs": [
    {
     "name": "stdout",
     "output_type": "stream",
     "text": [
      "0.00016188502311706543 seg\n"
     ]
    }
   ],
   "source": [
    "t1 = time.time()  # tiempo actual antes de iniciar el cálculo\n",
    "sum(l1)\n",
    "t2 = time.time()  # tiempo actual después de realizar el cálculo\n",
    "\n",
    "# Se obtiene la diferencia de tiempos y se convierte en segundos\n",
    "print(f\"{(t2 - t1) / 1000} seg\")"
   ]
  },
  {
   "cell_type": "markdown",
   "metadata": {},
   "source": [
    "Después, obtendremos la suma usando una lista con cada uno de sus elementos y la función `sum()` de Python:"
   ]
  },
  {
   "cell_type": "code",
   "execution_count": 22,
   "metadata": {},
   "outputs": [
    {
     "name": "stdout",
     "output_type": "stream",
     "text": [
      "0.000041 seg\n"
     ]
    }
   ],
   "source": [
    "t1 = time.time()  # tiempo actual antes de iniciar el cálculo\n",
    "sum(l2)\n",
    "t2 = time.time()  # tiempo actual después de realizar el cálculo\n",
    "\n",
    "# Se obtiene la diferencia de tiempos y se convierte en segundos\n",
    "print(f\"{(t2 - t1) / 1000:.6f} seg\")"
   ]
  },
  {
   "cell_type": "markdown",
   "metadata": {},
   "source": [
    "Sigue la suma usando una Serie obtenida a partir de un generador y la función `sum()` de Python (mezclando dos mundos):"
   ]
  },
  {
   "cell_type": "code",
   "execution_count": 26,
   "metadata": {},
   "outputs": [
    {
     "name": "stdout",
     "output_type": "stream",
     "text": [
      "0.00036744236946105956 seg\n"
     ]
    }
   ],
   "source": [
    "t1 = time.time()  # tiempo actual antes de iniciar el cálculo\n",
    "sum(s1)\n",
    "t2 = time.time()  # tiempo actual después de realizar el cálculo\n",
    "\n",
    "# Se obtiene la diferencia de tiempos y se convierte en segundos\n",
    "print(f\"{(t2 - t1) / 1000} seg\")"
   ]
  },
  {
   "cell_type": "markdown",
   "metadata": {},
   "source": [
    "Sigue la suma usando una Serie obtenida a partir de una Lista y la función `sum()` de Python (mezclando dos mundos):"
   ]
  },
  {
   "cell_type": "code",
   "execution_count": 30,
   "metadata": {},
   "outputs": [
    {
     "name": "stdout",
     "output_type": "stream",
     "text": [
      "0.0002953751087188721 seg\n"
     ]
    }
   ],
   "source": [
    "t1 = time.time()  # tiempo actual antes de iniciar el cálculo\n",
    "sum(s2)\n",
    "t2 = time.time()  # tiempo actual después de realizar el cálculo\n",
    "\n",
    "# Se obtiene la diferencia de tiempos y se convierte en segundos\n",
    "print(f\"{(t2 - t1) / 1000} seg\")"
   ]
  },
  {
   "cell_type": "markdown",
   "metadata": {},
   "source": [
    "Finalmente calculando la suma de ambas series, pero usando función `serie.sum()` de Pandas:"
   ]
  },
  {
   "cell_type": "code",
   "execution_count": 33,
   "metadata": {},
   "outputs": [
    {
     "name": "stdout",
     "output_type": "stream",
     "text": [
      "0.000003 seg\n",
      "0.000001 seg\n"
     ]
    }
   ],
   "source": [
    "t1g = time.time()  # tiempo actual antes de iniciar el cálculo\n",
    "s1.sum()\n",
    "t2g = time.time()  # tiempo actual después de realizar el cálculo\n",
    "\n",
    "t1l = time.time()  # tiempo actual antes de iniciar el cálculo\n",
    "s2.sum()\n",
    "t2l = time.time()  # tiempo actual después de realizar el cálculo\n",
    "\n",
    "# Se obtiene la diferencia de tiempos y se convierte en segundos\n",
    "print(f\"{(t2g - t1g) / 1000:.6f} seg\")\n",
    "print(f\"{(t2l - t1l) / 1000:.6f} seg\")"
   ]
  },
  {
   "cell_type": "markdown",
   "metadata": {},
   "source": [
    "Las conclusiones se cuentan solas, o sea, Pandas es bueno, pero puede realizar estas operaciones gracias a hace un uso muy fuerte del módulo **NumPy** que está fuertemente optimizado para realizar este tipo de operaciones, además de todos los demás módulos que acompañan a Pandas."
   ]
  },
  {
   "cell_type": "markdown",
   "metadata": {},
   "source": [
    "---\n",
    "---"
   ]
  },
  {
   "cell_type": "markdown",
   "metadata": {},
   "source": [
    "## Reto 2: Agregaciones\n",
    "\n",
    "### 1. Objetivos:\n",
    "    - Usar funciones vectorizadas y agregaciones para computar la desviación estándar de un conjunto de datos\n",
    " \n",
    "### 2. Desarrollo:"
   ]
  },
  {
   "cell_type": "markdown",
   "metadata": {},
   "source": [
    "#### a) Desviación Estándar\n",
    "\n",
    "La desviación estándar es una medida que nos dice qué tan dispersos están los datos con respecto a la media. Es una de las medidas estadísticas más comunes e importantes. En este reto vamos a calcular la desviación estándar de un conjunto de datos usando funciones vectorizadas y agregaciones"
   ]
  },
  {
   "cell_type": "markdown",
   "metadata": {},
   "source": [
    "Imagina que has realizado un censo en la H. Universidad de las Américas Unidas. Quieres saber qué tanta dispersión de edades hay en la universidad. Dada la naturaleza de la universidad, hay tanto alumnos extremadamente jóvenes (el más joven tiene 15 años) hasta alumnos bastante mayores (el alumno de más edad tiene 52 años). Para saber qué tan dispersas están las edades de los alumnos, vas a usar la desviación estándar.\n",
    "\n",
    "El algoritmo para sacar la desviación estándar es el siguiente:\n",
    "\n",
    "1. Saca el promedio de tu `Serie`. Esto se hace sumando todos tus datos y luego dividiéndolos entre la cantidad de datos (`n`)\n",
    "2. Después toma tu `Serie` y réstale a cada elemento el promedio. De esta manera obtenemos una nueva `Serie` que contiene las diferencias entre cada dato y el promedio.\n",
    "3. Después eleva tu `Serie` al cuadrado. Esto sirve para acentuar a los datos que están más alejados de tu promedio.\n",
    "4. Ahora suma todos los elementos de tu `Serie` y divídelos entre la cantidad de datos de la `Serie` original menos 1 (`n - 1`).\n",
    "5. Por último, saca la raíz cuadrada del valor obtenido: Ésta es tu desviación estándar.\n",
    "\n",
    "La fórmula para calcular la desviación estándar es: `ds = √(Σ(x_i - x_med)²/(n - 1))`\n",
    "\n",
    "Utiliza aritmética con `Series`, funciones vectorizadas y agregaciones para calcular esta estadística.\n",
    "\n",
    "Asigna tu resultado final a la variable `std`."
   ]
  },
  {
   "cell_type": "code",
   "execution_count": 40,
   "metadata": {},
   "outputs": [],
   "source": [
    "import pandas as pd\n",
    "import numpy as np"
   ]
  },
  {
   "cell_type": "code",
   "execution_count": 35,
   "metadata": {},
   "outputs": [],
   "source": [
    "edades = pd.Series([23, 24, 23, 34, 30, 17, 18, 24, 35, 28, 27,\n",
    "    27, 34, 32, 29, 16, 16, 17, 19, 34, 45, 46, 43, 45, 43, 32,\n",
    "    25, 29, 28, 38, 30, 37, 38, 24, 26, 25, 24, 19, 19, 18, 17,\n",
    "    18, 21, 20, 23, 24, 25, 25, 26, 24, 23, 32, 24, 25, 24, 36,\n",
    "    35, 36, 38, 39, 45, 46, 43, 48, 42, 41, 41, 26, 19, 19, 19,\n",
    "    20, 39, 38, 43, 28, 27, 39, 43, 52, 50, 38, 15, 17, 23, 25,\n",
    "    19, 32, 34, 35, 19, 19, 20, 26, 25, 43, 45, 46, 34, 33, 30,\n",
    "    30, 34, 45, 50, 50, 47, 25, 34, 37, 38, 19, 19, 20, 25, 28,\n",
    "    34, 32, 36, 39, 39, 28, 34, 33, 22, 25, 17, 17, 22, 24, 25,\n",
    "    45, 46, 43, 34, 35, 32, 23])"
   ]
  },
  {
   "cell_type": "code",
   "execution_count": 38,
   "metadata": {},
   "outputs": [
    {
     "data": {
      "text/plain": [
       "9.55678104254041"
      ]
     },
     "execution_count": 38,
     "metadata": {},
     "output_type": "execute_result"
    }
   ],
   "source": [
    "edades.std()"
   ]
  },
  {
   "cell_type": "code",
   "execution_count": 41,
   "metadata": {},
   "outputs": [
    {
     "data": {
      "text/plain": [
       "9.55678104254041"
      ]
     },
     "execution_count": 41,
     "metadata": {},
     "output_type": "execute_result"
    }
   ],
   "source": [
    "promedio = edades.sum() / edades.count()\n",
    "resta = edades - promedio\n",
    "cuadrado = np.power(resta, 2)  # resta ** 2\n",
    "suma = cuadrado.sum()\n",
    "division = suma / (edades.count() - 1)\n",
    "std = np.sqrt(division)\n",
    " \n",
    "std "
   ]
  },
  {
   "cell_type": "markdown",
   "metadata": {},
   "source": [
    "A continuación tu celda de validación ..."
   ]
  },
  {
   "cell_type": "code",
   "execution_count": 42,
   "metadata": {},
   "outputs": [
    {
     "name": "stdout",
     "output_type": "stream",
     "text": [
      "== Comparación Desviaciones Estándares ==\n",
      "\n",
      "Esperada: 9.55678104254041\n",
      "Recibida: 9.55678104254041\n",
      "Cálculo Correcto... Felicidades!\n"
     ]
    }
   ],
   "source": [
    "def comparar_std(edades, std):\n",
    "    print(f'== Comparación Desviaciones Estándares ==\\n')\n",
    "    print(f'Esperada: {edades.std()}\\nRecibida: {std}')\n",
    "    print(f'Cálculo {\"Correcto... Felicidades!\" if edades.std() == std else \"Incorrecto... Intenta de nuevo\"}')\n",
    "    \n",
    "comparar_std(edades, std)"
   ]
  },
  {
   "cell_type": "code",
   "execution_count": 36,
   "metadata": {},
   "outputs": [
    {
     "data": {
      "text/plain": [
       "\u001b[0;31mSignature:\u001b[0m\n",
       "\u001b[0mpd\u001b[0m\u001b[0;34m.\u001b[0m\u001b[0mSeries\u001b[0m\u001b[0;34m.\u001b[0m\u001b[0mstd\u001b[0m\u001b[0;34m(\u001b[0m\u001b[0;34m\u001b[0m\n",
       "\u001b[0;34m\u001b[0m    \u001b[0mself\u001b[0m\u001b[0;34m,\u001b[0m\u001b[0;34m\u001b[0m\n",
       "\u001b[0;34m\u001b[0m    \u001b[0maxis\u001b[0m\u001b[0;34m:\u001b[0m \u001b[0;34m'Axis | None'\u001b[0m \u001b[0;34m=\u001b[0m \u001b[0;32mNone\u001b[0m\u001b[0;34m,\u001b[0m\u001b[0;34m\u001b[0m\n",
       "\u001b[0;34m\u001b[0m    \u001b[0mskipna\u001b[0m\u001b[0;34m:\u001b[0m \u001b[0;34m'bool'\u001b[0m \u001b[0;34m=\u001b[0m \u001b[0;32mTrue\u001b[0m\u001b[0;34m,\u001b[0m\u001b[0;34m\u001b[0m\n",
       "\u001b[0;34m\u001b[0m    \u001b[0mddof\u001b[0m\u001b[0;34m:\u001b[0m \u001b[0;34m'int'\u001b[0m \u001b[0;34m=\u001b[0m \u001b[0;36m1\u001b[0m\u001b[0;34m,\u001b[0m\u001b[0;34m\u001b[0m\n",
       "\u001b[0;34m\u001b[0m    \u001b[0mnumeric_only\u001b[0m\u001b[0;34m:\u001b[0m \u001b[0;34m'bool'\u001b[0m \u001b[0;34m=\u001b[0m \u001b[0;32mFalse\u001b[0m\u001b[0;34m,\u001b[0m\u001b[0;34m\u001b[0m\n",
       "\u001b[0;34m\u001b[0m    \u001b[0;34m**\u001b[0m\u001b[0mkwargs\u001b[0m\u001b[0;34m,\u001b[0m\u001b[0;34m\u001b[0m\n",
       "\u001b[0;34m\u001b[0m\u001b[0;34m)\u001b[0m\u001b[0;34m\u001b[0m\u001b[0;34m\u001b[0m\u001b[0m\n",
       "\u001b[0;31mDocstring:\u001b[0m\n",
       "Return sample standard deviation over requested axis.\n",
       "\n",
       "Normalized by N-1 by default. This can be changed using the ddof argument.\n",
       "\n",
       "Parameters\n",
       "----------\n",
       "axis : {index (0)}\n",
       "    For `Series` this parameter is unused and defaults to 0.\n",
       "skipna : bool, default True\n",
       "    Exclude NA/null values. If an entire row/column is NA, the result\n",
       "    will be NA.\n",
       "ddof : int, default 1\n",
       "    Delta Degrees of Freedom. The divisor used in calculations is N - ddof,\n",
       "    where N represents the number of elements.\n",
       "numeric_only : bool, default False\n",
       "    Include only float, int, boolean columns. Not implemented for Series.\n",
       "\n",
       "Returns\n",
       "-------\n",
       "scalar or Series (if level specified) \n",
       "\n",
       "Notes\n",
       "-----\n",
       "To have the same behaviour as `numpy.std`, use `ddof=0` (instead of the\n",
       "default `ddof=1`)\n",
       "\n",
       "Examples\n",
       "--------\n",
       ">>> df = pd.DataFrame({'person_id': [0, 1, 2, 3],\n",
       "...                    'age': [21, 25, 62, 43],\n",
       "...                    'height': [1.61, 1.87, 1.49, 2.01]}\n",
       "...                   ).set_index('person_id')\n",
       ">>> df\n",
       "           age  height\n",
       "person_id\n",
       "0           21    1.61\n",
       "1           25    1.87\n",
       "2           62    1.49\n",
       "3           43    2.01\n",
       "\n",
       "The standard deviation of the columns can be found as follows:\n",
       "\n",
       ">>> df.std()\n",
       "age       18.786076\n",
       "height     0.237417\n",
       "dtype: float64\n",
       "\n",
       "Alternatively, `ddof=0` can be set to normalize by N instead of N-1:\n",
       "\n",
       ">>> df.std(ddof=0)\n",
       "age       16.269219\n",
       "height     0.205609\n",
       "dtype: float64\n",
       "\u001b[0;31mFile:\u001b[0m      ~/miniconda3/envs/bam-guatemala/lib/python3.12/site-packages/pandas/core/series.py\n",
       "\u001b[0;31mType:\u001b[0m      function"
      ]
     },
     "metadata": {},
     "output_type": "display_data"
    }
   ],
   "source": [
    "pd.Series.std?"
   ]
  }
 ],
 "metadata": {
  "kernelspec": {
   "display_name": "Python 3 (ipykernel)",
   "language": "python",
   "name": "python3"
  },
  "language_info": {
   "codemirror_mode": {
    "name": "ipython",
    "version": 3
   },
   "file_extension": ".py",
   "mimetype": "text/x-python",
   "name": "python",
   "nbconvert_exporter": "python",
   "pygments_lexer": "ipython3",
   "version": "3.12.0"
  }
 },
 "nbformat": 4,
 "nbformat_minor": 4
}
