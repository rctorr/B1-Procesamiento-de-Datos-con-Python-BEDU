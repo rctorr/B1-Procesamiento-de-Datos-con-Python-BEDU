{
 "cells": [
  {
   "cell_type": "markdown",
   "metadata": {},
   "source": [
    "## Ejemplo 7: Estructuras de control de flujo\n",
    "\n",
    "### 1. Objetivos:\n",
    "    - Conocer las estructuras de control, cómo funcionan y para qué sirven\n",
    " \n",
    "---\n",
    "    \n",
    "### 2. Desarrollo:"
   ]
  },
  {
   "cell_type": "markdown",
   "metadata": {},
   "source": [
    "Queremos darle a nuestro programa la capacidad de tomar decisiones. Esto puede hacerse usando una `sentencia if`. Una `sentencia if` usa una comparación para obtener un booleano. Si el booleano es `True`, el bloque de la sentencia se corre. Si el booleano es `False` nos saltamos a lo que sigue después del bloque."
   ]
  },
  {
   "cell_type": "code",
   "execution_count": 7,
   "metadata": {},
   "outputs": [],
   "source": [
    "var_1 = 10\n",
    "var_2 = 50"
   ]
  },
  {
   "cell_type": "markdown",
   "metadata": {},
   "source": [
    "Vamos ejecutar la instrucción `print(\"Bloque 1 de código ejecutado\")` sólo si el valor de `var_1` es menor que el de `var_2`"
   ]
  },
  {
   "cell_type": "code",
   "execution_count": null,
   "metadata": {},
   "outputs": [],
   "source": [
    "-bloque que se ejecuta-\n",
    "-bloque que se ejecuta-\n",
    "if -condición-:\n",
    "    -bloque que se ejecuta si la condición es verdadera o True-\n",
    "    -bloque que se ejecuta si la condición es verdadera o True-\n",
    "    -bloque que se ejecuta si la condición es verdadera o True-\n",
    "-bloque que se ejecuta si la condición es falsa o False-\n",
    "-bloque que se ejecuta si la condición es falsa o False-\n",
    "-bloque que se ejecuta si la condición es falsa o False-\n"
   ]
  },
  {
   "cell_type": "code",
   "execution_count": 4,
   "metadata": {},
   "outputs": [],
   "source": [
    "if var_1 < var_2:\n",
    "    print(\"Bloque 1 de código ejecutado\")"
   ]
  },
  {
   "cell_type": "markdown",
   "metadata": {},
   "source": [
    "Ahora vamos ejecutar la instrucción `print(\"Bloque 1 de código ejecutado\")` sólo si el valor de `var_1` es mayor que el de `var_2` pero siempre vamos a ejecutar la instrucción `print(\"Bloque 2 de código ejecutado\")`"
   ]
  },
  {
   "cell_type": "code",
   "execution_count": 5,
   "metadata": {},
   "outputs": [
    {
     "name": "stdout",
     "output_type": "stream",
     "text": [
      "Bloque 1 de código ejecutado\n",
      "Bloque 2 de código ejecutado\n"
     ]
    }
   ],
   "source": [
    "if var_1 > var_2:\n",
    "    print(\"Bloque 1 de código ejecutado\")\n",
    "print(\"Bloque 2 de código ejecutado\")"
   ]
  },
  {
   "cell_type": "markdown",
   "metadata": {},
   "source": [
    "Hay veces que queremos tener una acción `default`, que queremos que suceda en caso de que la comparación sea `False`. Para eso podemos usar una sentencia `else`. Piénsalo como preguntarse a uno mismo: \"Si meto mi mano a la bolsa y resulta que encuentro un billete de $50, me compro unos nachos; si no hay nada, veré la película llorando de tristeza\".\n",
    "\n",
    "Implementamos la acción `default` así, queremos ejecutar la instrucción `print(\"Bloque 1\")` si `var_1` es mayor que `var_2` y en caso contrario ejecutar la instrucción `print(\"Bloque 2\")`."
   ]
  },
  {
   "cell_type": "code",
   "execution_count": 8,
   "metadata": {},
   "outputs": [
    {
     "name": "stdout",
     "output_type": "stream",
     "text": [
      "Bloque 2\n"
     ]
    }
   ],
   "source": [
    "if var_1 > var_2:\n",
    "    print(\"Bloque 1\")\n",
    "else:\n",
    "    print(\"Bloque 2\")"
   ]
  },
  {
   "cell_type": "markdown",
   "metadata": {},
   "source": [
    "Si queremos que haya más de dos opciones, podemos agregar opciones usando la sentencia `elif` lo que permite anidar instrucciones if y crear muchas alternativas."
   ]
  },
  {
   "cell_type": "code",
   "execution_count": null,
   "metadata": {},
   "outputs": [],
   "source": [
    "if -condición 1-:\n",
    "    -bloque se ejecuta cuando condición 1 es verdadera-\n",
    "elif -condición 2-:\n",
    "    -bloque se ejecuta cuando condición 1 es falsa y condición 2 es verdadera-\n",
    "else:\n",
    "    -bloque se ejecuta cuando condición 1 y condición 2 son falsas-"
   ]
  },
  {
   "cell_type": "markdown",
   "metadata": {},
   "source": [
    "¡Vayamos al último reto de la sesión!"
   ]
  },
  {
   "cell_type": "markdown",
   "metadata": {},
   "source": [
    "## Reto 7: Estructuras de control de flujo\n",
    "\n",
    "### 1. Objetivos:\n",
    "    - Entender el funcionamiento de las estructuras de control de flujo a través de un reto\n",
    " \n",
    "---\n",
    "    \n",
    "### 2. Desarrollo:"
   ]
  },
  {
   "cell_type": "markdown",
   "metadata": {},
   "source": [
    "#### 1. Comparaciones numéricas\n",
    "\n",
    "Vamos a imaginar que estamos analizando un conjunto de datos que contiene las ventas anuales en pesos de unos vendedores que trabajan en nuestra empresa. Obtenemos el total de ventas anuales en pesos y lo tenemos asignado a la variable `ventas_anuales_totales`. Escribe una estructura de control que nos diga de cuánto va a ser el bono de nuestro empleado.\n",
    "\n",
    "Si las ventas son mayores a `$`1,000,000 el bono será de 20% del sueldo; si son entre `$`700,000 y `$`1,000,000 el bono será de 15% del sueldo; entre `$`400,000 y `$`700,000 el bono será de 10% del sueldo; entre `$`100,00 y 400,000 el bono será de 5% del sueldo; y debajo de `$`100,000 el bono será del 1% del sueldo.\n",
    "\n",
    "Escribe tu estructura de control y, por ahora (más adelante tendremos más herramientas para hacer esto más interesante) imprime una string que diga de cuánto va a ser el bono.\n",
    "\n",
    "> Reto opcional: Agrega una variable `sueldo` que sea el sueldo de tu empleado y agrégale el porcentaje de bono a esa variable dependiendo de la condición que se cumpla. Después hasta el final imprime una string interpolada que diga algo como \"Felicidades, tu sueldo es x; tu bono es de x; y el total de sueldo con el bono incluido es de x\". ¡Para que esto funcione también debes de agregar una variable donde guardes la cantidad del bono!\n",
    "\n",
    "Tip: Instrucciones a utilizar `if`, `elif`, `else`, `variables`, `print()`, `f-strings`"
   ]
  },
  {
   "cell_type": "code",
   "execution_count": 12,
   "metadata": {},
   "outputs": [],
   "source": [
    "ventas_anuales_totales = 1_500_000 # Este valor lo puedes cambiar para obtener diferentes resultados\n",
    "\n",
    "# OPCIONAL\n",
    "# sueldo = escribe aquí el suelo de tu empleado\n",
    "sueldo = 10_000"
   ]
  },
  {
   "cell_type": "code",
   "execution_count": 15,
   "metadata": {},
   "outputs": [
    {
     "name": "stdout",
     "output_type": "stream",
     "text": [
      "2000.0\n"
     ]
    }
   ],
   "source": [
    "if ventas_anuales_totales >= 1_000_000:\n",
    "\n",
    "    bono = sueldo * 0.2\n",
    "\n",
    "elif ventas_anuales_totales >= 700_000:  # and ventas_anuales_totales < 1_000_000\n",
    "\n",
    "    bono = sueldo * 0.15\n",
    "\n",
    "elif ventas_anuales_totales >= 400_000:  # and ventas_anuales_totales < 700_000\n",
    "\n",
    "    bono = sueldo * 0.1\n",
    "\n",
    "elif ventas_anuales_totales >= 100_000:\n",
    "\n",
    "    bono = sueldo * 0.05\n",
    "\n",
    "else:\n",
    "\n",
    "    bono = sueldo * 0.01\n",
    "\n",
    "print(bono)"
   ]
  },
  {
   "cell_type": "code",
   "execution_count": 13,
   "metadata": {},
   "outputs": [
    {
     "name": "stdout",
     "output_type": "stream",
     "text": [
      "Felicidades, tu sueldo es 10000; tu bono es de 300000.0; tu sueldo mas tu bono es de 310000.0\n"
     ]
    }
   ],
   "source": [
    "if ventas_anuales_totales > 100000 and ventas_anuales_totales <= 400000:\n",
    "    bono = ventas_anuales_totales * 0.05\n",
    "elif ventas_anuales_totales > 400000 and ventas_anuales_totales  <= 700000:\n",
    "    bono = ventas_anuales_totales * 0.10   \n",
    "elif ventas_anuales_totales > 700000 and ventas_anuales_totales <= 1000000:\n",
    "    bono = ventas_anuales_totales * 0.15    \n",
    "elif ventas_anuales_totales > 1000000:\n",
    "    bono = ventas_anuales_totales * 0.20\n",
    "else:\n",
    "    bono = ventas_anuales_totales * 0.01\n",
    "\n",
    "print(f\"Felicidades, tu sueldo es {sueldo}; tu bono es de {bono}; tu sueldo mas tu bono es de {sueldo + bono}\")"
   ]
  }
 ],
 "metadata": {
  "kernelspec": {
   "display_name": "Python 3 (ipykernel)",
   "language": "python",
   "name": "python3"
  },
  "language_info": {
   "codemirror_mode": {
    "name": "ipython",
    "version": 3
   },
   "file_extension": ".py",
   "mimetype": "text/x-python",
   "name": "python",
   "nbconvert_exporter": "python",
   "pygments_lexer": "ipython3",
   "version": "3.11.4"
  }
 },
 "nbformat": 4,
 "nbformat_minor": 4
}
