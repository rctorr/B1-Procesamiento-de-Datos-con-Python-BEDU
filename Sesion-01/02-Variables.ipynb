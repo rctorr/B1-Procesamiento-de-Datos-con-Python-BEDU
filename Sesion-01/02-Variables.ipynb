{
 "cells": [
  {
   "cell_type": "markdown",
   "metadata": {
    "slideshow": {
     "slide_type": "slide"
    }
   },
   "source": [
    "## Ejemplo 2: Variables\n",
    "\n",
    "### 1. Objetivos:\n",
    "\n",
    "- Entender cuál es la sintaxis de la asignación de variables en Python\n",
    "- Aprender la convención de nombramiento de variables"
   ]
  },
  {
   "cell_type": "markdown",
   "metadata": {
    "slideshow": {
     "slide_type": "subslide"
    }
   },
   "source": [
    "### 2. Desarrollo:\n",
    "\n",
    "Las siguientes son nombres posibles de variables en Python:\n",
    "\n",
    "- var_1 &#10004;\n",
    "- variable_2 \n",
    "- variable_dos\n",
    "- variable_nueva_3\n",
    "- esta_es_una_variable_nueva\n",
    "- variableDos"
   ]
  },
  {
   "cell_type": "markdown",
   "metadata": {
    "slideshow": {
     "slide_type": "subslide"
    }
   },
   "source": [
    "Los siguientes son nombres inválidos para una variable de Python:\n",
    "\n",
    "- 1_2\n",
    "- 1_variable\n",
    "- EstaEsUnaVariable\n",
    "- Soy una variable\n",
    "- soy_variable_en_español"
   ]
  },
  {
   "cell_type": "markdown",
   "metadata": {
    "slideshow": {
     "slide_type": "slide"
    }
   },
   "source": [
    "Asignemos unas cuantas variables a continuación:"
   ]
  },
  {
   "cell_type": "code",
   "execution_count": 1,
   "metadata": {
    "slideshow": {
     "slide_type": "subslide"
    }
   },
   "outputs": [],
   "source": [
    "var_1 = 3\n",
    "var_2 = 6\n",
    "variable_3 = 10\n",
    "variable_nueva_4 = 20"
   ]
  },
  {
   "cell_type": "markdown",
   "metadata": {
    "slideshow": {
     "slide_type": "slide"
    }
   },
   "source": [
    "Podemos acceder al contenido de la variable `var_1` o `variable_nueva_4` con tan solo escribir el nombre de la variable en una celda y correr la celda:"
   ]
  },
  {
   "cell_type": "code",
   "execution_count": 2,
   "metadata": {
    "slideshow": {
     "slide_type": "subslide"
    }
   },
   "outputs": [
    {
     "data": {
      "text/plain": [
       "3"
      ]
     },
     "execution_count": 2,
     "metadata": {},
     "output_type": "execute_result"
    }
   ],
   "source": [
    "var_1"
   ]
  },
  {
   "cell_type": "code",
   "execution_count": 3,
   "metadata": {
    "slideshow": {
     "slide_type": "subslide"
    }
   },
   "outputs": [
    {
     "data": {
      "text/plain": [
       "20"
      ]
     },
     "execution_count": 3,
     "metadata": {},
     "output_type": "execute_result"
    }
   ],
   "source": [
    "variable_nueva_4"
   ]
  },
  {
   "cell_type": "markdown",
   "metadata": {
    "slideshow": {
     "slide_type": "slide"
    }
   },
   "source": [
    "Si intento llamar una variable que no he asignado, por ejemplo `var_5`, JN me va a lanzar un error:"
   ]
  },
  {
   "cell_type": "code",
   "execution_count": 4,
   "metadata": {
    "slideshow": {
     "slide_type": "subslide"
    }
   },
   "outputs": [
    {
     "ename": "NameError",
     "evalue": "name 'var_5' is not defined",
     "output_type": "error",
     "traceback": [
      "\u001b[0;31m---------------------------------------------------------------------------\u001b[0m",
      "\u001b[0;31mNameError\u001b[0m                                 Traceback (most recent call last)",
      "Cell \u001b[0;32mIn[4], line 1\u001b[0m\n\u001b[0;32m----> 1\u001b[0m \u001b[43mvar_5\u001b[49m\n",
      "\u001b[0;31mNameError\u001b[0m: name 'var_5' is not defined"
     ]
    }
   ],
   "source": [
    "var_5"
   ]
  },
  {
   "cell_type": "markdown",
   "metadata": {
    "slideshow": {
     "slide_type": "slide"
    }
   },
   "source": [
    "De igual, manera, si escribo una asignación a la `var_5`, pero no corro la celda, esa variable no estará disponible para mí más adelante:"
   ]
  },
  {
   "cell_type": "code",
   "execution_count": 6,
   "metadata": {
    "slideshow": {
     "slide_type": "subslide"
    }
   },
   "outputs": [],
   "source": [
    "var_5 = 10"
   ]
  },
  {
   "cell_type": "code",
   "execution_count": 7,
   "metadata": {
    "slideshow": {
     "slide_type": "subslide"
    }
   },
   "outputs": [
    {
     "data": {
      "text/plain": [
       "10"
      ]
     },
     "execution_count": 7,
     "metadata": {},
     "output_type": "execute_result"
    }
   ],
   "source": [
    "var_5"
   ]
  },
  {
   "cell_type": "markdown",
   "metadata": {
    "slideshow": {
     "slide_type": "slide"
    }
   },
   "source": [
    "Es hora de que tú practiques."
   ]
  },
  {
   "cell_type": "markdown",
   "metadata": {},
   "source": [
    "## Reto 2: Variables\n",
    "\n",
    "### 1. Objetivos:\n",
    "    - Practicar convención de nombramiento y asignación de variables\n",
    " \n",
    "---\n",
    "    \n",
    "### 2. Desarrollo:"
   ]
  },
  {
   "cell_type": "markdown",
   "metadata": {},
   "source": [
    "**Reconocimiento de variables**\n",
    "\n",
    "Indica cuáles nombres de variables **NO** son válidos colocando un comentario al inicio de la línea (el símbolo `#` indica el inicio de un comentario) y ejecuta la celda. Los comentarios son texto que Python ignora a la hora de correr una celda y son usados para hacer anotaciones."
   ]
  },
  {
   "cell_type": "code",
   "execution_count": 16,
   "metadata": {},
   "outputs": [],
   "source": [
    "var_1 = 5\n",
    "\n",
    "variable_nueva_2 = 10\n",
    "\n",
    "# Variable_nueva_3 = 11\n",
    "\n",
    "var_3_1 = 14\n",
    "\n",
    "varNueva4 = 44\n",
    "\n",
    "# var_nuevaNumero = 98\n",
    "\n",
    "var_num = 22\n",
    "\n",
    "# VarNum = 11\n",
    "\n",
    "soyUnaVariable = 16\n",
    "\n",
    "# soyVariableDelAño = 1000"
   ]
  },
  {
   "cell_type": "markdown",
   "metadata": {},
   "source": [
    "Después ejecuta la celda siguiente para verificar tu resultado, entonces modifica la celda anterior hasta que ya no aparezcan errores y no te preocupes si no comprendes el código"
   ]
  },
  {
   "cell_type": "code",
   "execution_count": 17,
   "metadata": {},
   "outputs": [
    {
     "name": "stdout",
     "output_type": "stream",
     "text": [
      "\n",
      "        ERROR: Hay 1 variables erroneamente definidas,\n",
      "        comenta o descomenta alguna e intenta de nuevo!\n",
      "        \n"
     ]
    }
   ],
   "source": [
    "def test_variables(globs):\n",
    "    \"\"\" Prueba para reconocimiento de variables\"\"\"\n",
    "    \n",
    "    vars_1 = ['var_1', 'variable_nueva_2', 'Variable_nueva_3', 'var_3_1', 'varNueva4', 'var_nuevaNumero', 'var_num', 'VarNum', 'soyUnaVariable', 'soyVariableDelAño']\n",
    "    vars_2 = [5, 10, 11, 14, 44, 0, 22, 0, 16, 0]\n",
    "    \n",
    "    v = sum([v in globs for v in vars_1])\n",
    "    if v == 0:\n",
    "        print(\"\"\"\n",
    "        ERROR: Debes ejecutar primero la celda donde están\n",
    "        definidas las variables!\n",
    "        \"\"\")\n",
    "        return\n",
    "        \n",
    "    v = [(v in globs) != bool(vv) for v, vv in zip(vars_1, vars_2)]\n",
    "    sv = sum(v)\n",
    "    if sv > 0:\n",
    "        print(f\"\"\"\n",
    "        ERROR: Hay {sv} variables erroneamente definidas,\n",
    "        comenta o descomenta alguna e intenta de nuevo!\n",
    "        \"\"\")\n",
    "    else:\n",
    "        print(f\"\"\"\n",
    "        FELICIDADES!: Todas las variables definidas son correctas\n",
    "        \"\"\")\n",
    "    for v in vars_1:\n",
    "        if v in globs:\n",
    "            del globs[v]\n",
    "\n",
    "test_variables(globals())"
   ]
  },
  {
   "cell_type": "code",
   "execution_count": null,
   "metadata": {},
   "outputs": [],
   "source": []
  }
 ],
 "metadata": {
  "celltoolbar": "Slideshow",
  "kernelspec": {
   "display_name": "Python 3 (ipykernel)",
   "language": "python",
   "name": "python3"
  },
  "language_info": {
   "codemirror_mode": {
    "name": "ipython",
    "version": 3
   },
   "file_extension": ".py",
   "mimetype": "text/x-python",
   "name": "python",
   "nbconvert_exporter": "python",
   "pygments_lexer": "ipython3",
   "version": "3.11.4"
  }
 },
 "nbformat": 4,
 "nbformat_minor": 4
}
