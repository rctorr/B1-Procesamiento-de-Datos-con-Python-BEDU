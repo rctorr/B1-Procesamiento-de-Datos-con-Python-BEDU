{
 "cells": [
  {
   "cell_type": "markdown",
   "metadata": {},
   "source": [
    "## Ejemplo 1: Casting\n",
    "\n",
    "### 1. Objetivos:\n",
    "    - Aprender a usar `astype`\n",
    "    - Aprender a lidiar con errores usando `to_numeric`\n",
    "    - Aprender a convertir `strings` e `ints` a `datetime`\n",
    " \n",
    "---\n",
    "    \n",
    "### 2. Desarrollo:"
   ]
  },
  {
   "cell_type": "code",
   "execution_count": null,
   "metadata": {},
   "outputs": [],
   "source": [
    "import pandas as pd"
   ]
  },
  {
   "cell_type": "markdown",
   "metadata": {},
   "source": [
    "Vamos a trabajar con el conjunto de datos `new_york_times_bestsellers-dirty.csv` que está en la carpeta `DataFrames`, sería conveniente revisar el contenido del archivo antes de importarlo como un `DataFrame` y observa como existe una columna que puede ser usada como índice, así que ahora leeremos el archivo usando la función `read_csv()` de la siguiente forma:\n",
    "\n",
    "`pd.read_csv(-nombre de archivo-, index_col=-número de columna que se usará como índice-)`\n",
    "\n",
    "en este caso es la columna `0`:"
   ]
  },
  {
   "cell_type": "code",
   "execution_count": null,
   "metadata": {},
   "outputs": [],
   "source": [
    "...\n",
    "\n",
    "df.head()"
   ]
  },
  {
   "cell_type": "markdown",
   "metadata": {},
   "source": [
    "Tenemos aquí un dataset donde no todos los tipos de datos han sido deducidos correctamente, así que primero vamos a obtener los tipos de datos asignados por Pandas para cada conlumna con:\n",
    "\n",
    "`dataframe.dtypes`"
   ]
  },
  {
   "cell_type": "code",
   "execution_count": null,
   "metadata": {},
   "outputs": [],
   "source": [
    "..."
   ]
  },
  {
   "cell_type": "markdown",
   "metadata": {},
   "source": [
    "Específicamente, tenemos dos columnas con fechas (`bestsellers_date.numberLong` y `published_date.numberLong`)  que tienen tipos `object` e `int64`. También tenemos una columna `rank.numberInt` que no tiene el tipo de dato adecuado."
   ]
  },
  {
   "cell_type": "markdown",
   "metadata": {},
   "source": [
    "Podemos usar el método `astype` para pasarle a nuestro `DataFrame` un `diccionario` de conversión. Por ejemplo, vamos a convertir nuestras dos columnas de fechas usando un `diccionario` de conversión. El tipo de dato que usamos para manejar fechas es el llamado `datetime`. Este tipo de dato nos permite manipular fechas y horarios muy eficientemente."
   ]
  },
  {
   "cell_type": "code",
   "execution_count": null,
   "metadata": {},
   "outputs": [],
   "source": [
    "diccionario_de_conversion = {\n",
    "    \"bestsellers_date.numberLong\":\"datetime64[ns]\",\n",
    "    \"published_date.numberLong\":\"datetime64[ns]\",\n",
    "}"
   ]
  },
  {
   "cell_type": "markdown",
   "metadata": {},
   "source": [
    "Bueno, hagamos una disertación sobre como funcionan las fechas en Python, primero para usar fechas hay que hacer uso del módulo `datetime` (Pandas lo usa en automático), luego a partir de este módulo existen los tipos de datos `datetime`, `date` y `time` para manejar fechas-hora, fechas y horas en Python.\n",
    "\n",
    "Por ejemplo, vamos a crear tres variables, con la fecha-hora, la fecha y la hora actual usando las funciones `datetinme.datetime.today()`, `datetinme.date.today()` y `datetinme.datetime.today().time()`."
   ]
  },
  {
   "cell_type": "code",
   "execution_count": 3,
   "metadata": {},
   "outputs": [
    {
     "name": "stdout",
     "output_type": "stream",
     "text": [
      "2023-10-17 08:26:50.438860 <class 'datetime.datetime'>\n",
      "2023-10-17 <class 'datetime.date'>\n",
      "08:26:50.439051 <class 'datetime.time'>\n"
     ]
    }
   ],
   "source": [
    "import datetime\n",
    "\n",
    "hoy = datetime.datetime.today()\n",
    "fecha = datetime.date.today()\n",
    "tiempo = datetime.datetime.today().time()\n",
    "\n",
    "print(hoy, type(hoy))\n",
    "print(fecha, type(fecha))\n",
    "print(tiempo, type(tiempo))"
   ]
  },
  {
   "cell_type": "markdown",
   "metadata": {},
   "source": [
    "Y también podemos acceder a los atributos de cada uno de estos tipos de datos como son **año**, **mes**, **día**, **hora**, **minuto**, **segundo** entre otros, vamos a imprimir lo siguiente:\n",
    "\n",
    "- Año y hora usando la variable `hoy`\n",
    "- La fecha en formato México usando la variable `fecha` y una `f-string`\n",
    "- La hora con horas, minutos y segundos usando la variable `hora` con la función `hora.strftime(-formato-)` [más info ...](https://docs.python.org/3/library/datetime.html#strftime-and-strptime-format-codes)"
   ]
  },
  {
   "cell_type": "code",
   "execution_count": 8,
   "metadata": {},
   "outputs": [
    {
     "name": "stdout",
     "output_type": "stream",
     "text": [
      "2023 8\n",
      "2023-10-17 17-10-2023\n",
      "08:26:50\n"
     ]
    }
   ],
   "source": [
    "import datetime\n",
    "\n",
    "# t = datetime.datetime.today().time()\n",
    "# t.strftime()\n",
    "\n",
    "print(hoy.year, hoy.hour)\n",
    "print(fecha, f\"{fecha.day}-{fecha.month}-{fecha.year}\")\n",
    "print(tiempo.strftime(\"%H:%M:%S\") )"
   ]
  },
  {
   "cell_type": "markdown",
   "metadata": {},
   "source": [
    "Entonces, regresando a nuestro dataframe, aplicamos el diccionario de conversión usando la forma:\n",
    "\n",
    "`dataframe.astype(-diccionario-)`"
   ]
  },
  {
   "cell_type": "code",
   "execution_count": null,
   "metadata": {},
   "outputs": [],
   "source": [
    "...\n",
    "\n",
    "df_1.head()"
   ]
  },
  {
   "cell_type": "markdown",
   "metadata": {},
   "source": [
    "Se examinan nuevamente los tipos de las columnas con `df.dtypes`:"
   ]
  },
  {
   "cell_type": "code",
   "execution_count": null,
   "metadata": {},
   "outputs": [],
   "source": [
    "..."
   ]
  },
  {
   "cell_type": "markdown",
   "metadata": {},
   "source": [
    "Como puedes ver, nuestras columnas han sido transformadas. Pero parece que hay un problema, puesto que hay muchísima diferencia de años entre la columna `bestsellers_date` y la columna `published_date`. Esto se debe a que `published_date` está en formato 'milisegundos desde La Época (la medianoche UTC del 1 de enero de 1970)' y `pandas` asume por default que estamos lidiando con nanosegundos."
   ]
  },
  {
   "cell_type": "markdown",
   "metadata": {},
   "source": [
    "Vamos a resolverlo de dos formas, la matemática (no entrar en pánico) y la forma **pandesca**, para la primera hay que saber que en unidades de medida existe los segundos, milisegundos (o la milesima parte), los microsegundos (o la millonésima parte) y los nanosegundos (o la mil millonésima parte), otra forma de verlo es que la siguiente:\n",
    "\n",
    "- 1 seg = 1 x 1000 milisegundos\n",
    "- 1 seg = 1 x 1000 000 microsegundos\n",
    "- 1 seg = 1 x 1000 000 000 nanosegundos\n",
    "\n",
    "así que si queremos pasar de milisegundos a nanosegundos hay que multiplicar por un millón (1 000 000) la columna de `published_date` y luego se aplica la función `df.astype()`:"
   ]
  },
  {
   "cell_type": "code",
   "execution_count": null,
   "metadata": {},
   "outputs": [],
   "source": [
    "df_2 = df.copy()\n",
    "df_2[\"published_date.numberLong\"] = ...\n",
    "\n",
    "df_2.astype(diccionario_de_conversion).head(3)"
   ]
  },
  {
   "cell_type": "markdown",
   "metadata": {},
   "source": [
    "Genial las fechas ya están mucho mejor, ahora la forma usando **Pandas** es por medio de la función `pd.to_datetime` en la forma:\n",
    "\n",
    "`pd.to_datatime(-serie-, unit=\"ns\")`\n",
    "\n",
    "- `-serie-` es la columna del dataframe a convertir\n",
    "- `unit=\"ns\"` indicamos las unidades de nuestros datos, en este caso usaremos ms = milisegundos"
   ]
  },
  {
   "cell_type": "code",
   "execution_count": null,
   "metadata": {},
   "outputs": [],
   "source": [
    "..."
   ]
  },
  {
   "cell_type": "markdown",
   "metadata": {},
   "source": [
    "Ahora remplacemos los valores de la columna `published_date` con las nuevas fechas: "
   ]
  },
  {
   "cell_type": "code",
   "execution_count": null,
   "metadata": {},
   "outputs": [],
   "source": [
    "df_1[\"published_date.numberLong\"] = ...\n",
    "\n",
    "df_1.head(3)"
   ]
  },
  {
   "cell_type": "markdown",
   "metadata": {},
   "source": [
    "Muy bien, las fechas ya son manejables por Python ahora, vamos a corroborar los tipos en el dataframe usando `df.dtypes`:"
   ]
  },
  {
   "cell_type": "code",
   "execution_count": null,
   "metadata": {},
   "outputs": [],
   "source": [
    "..."
   ]
  },
  {
   "cell_type": "markdown",
   "metadata": {},
   "source": [
    "La columna `rank.numberInt` aparece como **object**, pero contiene datos de tipo entero, así que vamos a realizar la conversión usando `astype` en la forma:\n",
    "\n",
    "`dataframe[-columna-].astype(-nuevo tipo de dato-)`"
   ]
  },
  {
   "cell_type": "code",
   "execution_count": null,
   "metadata": {},
   "outputs": [],
   "source": [
    "..."
   ]
  },
  {
   "cell_type": "markdown",
   "metadata": {},
   "source": [
    "No podemos hacerlo porque hay unos valores tipo `string` que no pueden ser convertidos a `int`. Para esto usamos el método `to_numeric`, que nos permite indicar que cuando un error sea encontrado, debe de ser sustituido por un `NaN` en la forma:\n",
    "\n",
    "`pd.to_numeric(-columna-, errors=\"coerce\")`"
   ]
  },
  {
   "cell_type": "code",
   "execution_count": null,
   "metadata": {},
   "outputs": [],
   "source": [
    "..."
   ]
  },
  {
   "cell_type": "markdown",
   "metadata": {},
   "source": [
    "Vamos a reasignar el resultado al `DataFrame` original:"
   ]
  },
  {
   "cell_type": "code",
   "execution_count": null,
   "metadata": {},
   "outputs": [],
   "source": [
    "df_1['rank.numberInt'] = ...\n",
    "\n",
    "df_1.head(3)"
   ]
  },
  {
   "cell_type": "markdown",
   "metadata": {},
   "source": [
    "Ahora, para convertilo a tipo `int` podemos eliminar los `NaNs` con `df.dropna(axis=0)` y luego usar `-columna-.astype(int)`:"
   ]
  },
  {
   "cell_type": "code",
   "execution_count": null,
   "metadata": {},
   "outputs": [],
   "source": [
    "df_1 = ...\n",
    "df_1[\"rank.numberInt\"] = ...\n",
    "\n",
    "df_1.head(3)"
   ]
  },
  {
   "cell_type": "markdown",
   "metadata": {},
   "source": [
    "Y se examina nuevamente los tipos de cada columna con `df.dtypes`:"
   ]
  },
  {
   "cell_type": "code",
   "execution_count": null,
   "metadata": {},
   "outputs": [],
   "source": [
    "..."
   ]
  },
  {
   "cell_type": "markdown",
   "metadata": {},
   "source": [
    "¡Listo!"
   ]
  },
  {
   "cell_type": "markdown",
   "metadata": {},
   "source": [
    "---\n",
    "---"
   ]
  },
  {
   "cell_type": "markdown",
   "metadata": {},
   "source": [
    "## Reto 1: Casting\n",
    "\n",
    "### 1. Objetivos:\n",
    "    - Aplicar diversas técnicas de casting a un dataset nuevo\n",
    " \n",
    "---\n",
    "    \n",
    "### 2. Desarrollo:"
   ]
  },
  {
   "cell_type": "markdown",
   "metadata": {},
   "source": [
    "#### a) Transformando tipos de datos\n",
    "\n",
    "Vamos a trabajar con una versión un poco modificada del dataset que creaste en la sesión pasada. Si bien recuerdas, al final de la sesión pasada automatizamos un programa de Python para obtener un `DataFrame` con todos los objetos que orbitaron cerca de la Tierra en Enero y Febrero de 1995. Para construir este dataset, usamos el API gratuito que ofrece la [NASA](https://api.nasa.gov/).\n",
    "\n",
    "Me tomé la libertad de modificar un poco dicho dataset para que pudiera ser utilizado más efectivamente para los fines de esta sesión. Encontrarás la versión modificada en la ruta '../../Datasets/near_earth_objects-jan_feb_1995-dirty.csv'. Todos los Retos de esta sesión los harás con ese conjunto de datos.\n",
    "\n",
    "Te recomiendo que al finalizar cada reto guardes la nueva versión modificada de tu dataset bajo un nombre que indique el reto realizado (por ejemplo, 'near_earth_objects-jan_feb_1995-reto_1.csv'), para que puedas ir trabajando incrementalmente a través de los retos y no tengas que repetir procesos. Puedes guardar conjuntos de datos en formato `csv` usando el método `DataFrame.to_csv('ruta')`."
   ]
  },
  {
   "cell_type": "markdown",
   "metadata": {},
   "source": [
    "Tu primer Reto consistirá en seguir los siguientes pasos:\n",
    "\n",
    "1. Lee el dataset y crea un `DataFrame` con él."
   ]
  },
  {
   "cell_type": "code",
   "execution_count": 10,
   "metadata": {},
   "outputs": [
    {
     "data": {
      "text/html": [
       "<div>\n",
       "<style scoped>\n",
       "    .dataframe tbody tr th:only-of-type {\n",
       "        vertical-align: middle;\n",
       "    }\n",
       "\n",
       "    .dataframe tbody tr th {\n",
       "        vertical-align: top;\n",
       "    }\n",
       "\n",
       "    .dataframe thead th {\n",
       "        text-align: right;\n",
       "    }\n",
       "</style>\n",
       "<table border=\"1\" class=\"dataframe\">\n",
       "  <thead>\n",
       "    <tr style=\"text-align: right;\">\n",
       "      <th></th>\n",
       "      <th>id_name</th>\n",
       "      <th>is_potentially_hazardous_asteroid</th>\n",
       "      <th>estimated_diameter.meters.estimated_diameter_min</th>\n",
       "      <th>estimated_diameter.meters.estimated_diameter_max</th>\n",
       "      <th>close_approach_date</th>\n",
       "      <th>epoch_date_close_approach</th>\n",
       "      <th>orbiting_body</th>\n",
       "      <th>relative_velocity.kilometers_per_second</th>\n",
       "      <th>relative_velocity.kilometers_per_hour</th>\n",
       "      <th>orbit_class_description</th>\n",
       "    </tr>\n",
       "  </thead>\n",
       "  <tbody>\n",
       "    <tr>\n",
       "      <th>0</th>\n",
       "      <td>2154652-154652 (2004 EP20)</td>\n",
       "      <td>False</td>\n",
       "      <td>483.676488</td>\n",
       "      <td>1081.533507</td>\n",
       "      <td>1995-01-07</td>\n",
       "      <td>789467580000</td>\n",
       "      <td>earth</td>\n",
       "      <td>16.142864</td>\n",
       "      <td>58114.3086669449</td>\n",
       "      <td>Near-Earth-asteroid-orbits-similar-to-that-o...</td>\n",
       "    </tr>\n",
       "    <tr>\n",
       "      <th>1</th>\n",
       "      <td>3153509-(2003 HM)</td>\n",
       "      <td>True</td>\n",
       "      <td>96.506147</td>\n",
       "      <td>215.794305</td>\n",
       "      <td>1995-01-07</td>\n",
       "      <td>789491340000</td>\n",
       "      <td>earth</td>\n",
       "      <td>12.351044</td>\n",
       "      <td>44463.7577343496</td>\n",
       "      <td>Near-Earth-asteroid-orbits-which-cross-the-E...</td>\n",
       "    </tr>\n",
       "    <tr>\n",
       "      <th>2</th>\n",
       "      <td>3516633-(2010 HA)</td>\n",
       "      <td>False</td>\n",
       "      <td>44.111820</td>\n",
       "      <td>98.637028</td>\n",
       "      <td>1995-01-07</td>\n",
       "      <td>789446820000</td>\n",
       "      <td>earth</td>\n",
       "      <td>6.220435</td>\n",
       "      <td>Unknown</td>\n",
       "      <td>Near-Earth-asteroid-orbits-similar-to-that-o...</td>\n",
       "    </tr>\n",
       "  </tbody>\n",
       "</table>\n",
       "</div>"
      ],
      "text/plain": [
       "                      id_name  is_potentially_hazardous_asteroid  \\\n",
       "0  2154652-154652 (2004 EP20)                              False   \n",
       "1           3153509-(2003 HM)                               True   \n",
       "2           3516633-(2010 HA)                              False   \n",
       "\n",
       "   estimated_diameter.meters.estimated_diameter_min  \\\n",
       "0                                        483.676488   \n",
       "1                                         96.506147   \n",
       "2                                         44.111820   \n",
       "\n",
       "   estimated_diameter.meters.estimated_diameter_max close_approach_date  \\\n",
       "0                                       1081.533507          1995-01-07   \n",
       "1                                        215.794305          1995-01-07   \n",
       "2                                         98.637028          1995-01-07   \n",
       "\n",
       "   epoch_date_close_approach orbiting_body  \\\n",
       "0               789467580000         earth   \n",
       "1               789491340000         earth   \n",
       "2               789446820000         earth   \n",
       "\n",
       "   relative_velocity.kilometers_per_second  \\\n",
       "0                                16.142864   \n",
       "1                                12.351044   \n",
       "2                                 6.220435   \n",
       "\n",
       "  relative_velocity.kilometers_per_hour  \\\n",
       "0                      58114.3086669449   \n",
       "1                      44463.7577343496   \n",
       "2                               Unknown   \n",
       "\n",
       "                             orbit_class_description  \n",
       "0    Near-Earth-asteroid-orbits-similar-to-that-o...  \n",
       "1    Near-Earth-asteroid-orbits-which-cross-the-E...  \n",
       "2    Near-Earth-asteroid-orbits-similar-to-that-o...  "
      ]
     },
     "execution_count": 10,
     "metadata": {},
     "output_type": "execute_result"
    }
   ],
   "source": [
    "import pandas as pd\n",
    "\n",
    "df_reto_1 = pd.read_csv(\"../Datasets/near_earth_objects-jan_feb_1995-dirty.csv\",\n",
    "                        index_col=0)\n",
    "df_reto_1.head(3)"
   ]
  },
  {
   "cell_type": "markdown",
   "metadata": {},
   "source": [
    "2. Realiza una pequeña exploración para familiarizarte con él."
   ]
  },
  {
   "cell_type": "code",
   "execution_count": 11,
   "metadata": {},
   "outputs": [
    {
     "data": {
      "text/plain": [
       "(333, 10)"
      ]
     },
     "execution_count": 11,
     "metadata": {},
     "output_type": "execute_result"
    }
   ],
   "source": [
    "df_reto_1.shape"
   ]
  },
  {
   "cell_type": "code",
   "execution_count": 12,
   "metadata": {},
   "outputs": [
    {
     "name": "stdout",
     "output_type": "stream",
     "text": [
      "<class 'pandas.core.frame.DataFrame'>\n",
      "Index: 333 entries, 0 to 332\n",
      "Data columns (total 10 columns):\n",
      " #   Column                                            Non-Null Count  Dtype  \n",
      "---  ------                                            --------------  -----  \n",
      " 0   id_name                                           333 non-null    object \n",
      " 1   is_potentially_hazardous_asteroid                 333 non-null    bool   \n",
      " 2   estimated_diameter.meters.estimated_diameter_min  333 non-null    float64\n",
      " 3   estimated_diameter.meters.estimated_diameter_max  333 non-null    float64\n",
      " 4   close_approach_date                               333 non-null    object \n",
      " 5   epoch_date_close_approach                         333 non-null    int64  \n",
      " 6   orbiting_body                                     333 non-null    object \n",
      " 7   relative_velocity.kilometers_per_second           333 non-null    float64\n",
      " 8   relative_velocity.kilometers_per_hour             333 non-null    object \n",
      " 9   orbit_class_description                           333 non-null    object \n",
      "dtypes: bool(1), float64(3), int64(1), object(5)\n",
      "memory usage: 26.3+ KB\n"
     ]
    }
   ],
   "source": [
    "df_reto_1.info()"
   ]
  },
  {
   "cell_type": "code",
   "execution_count": 13,
   "metadata": {},
   "outputs": [
    {
     "data": {
      "text/plain": [
       "Index(['id_name', 'is_potentially_hazardous_asteroid',\n",
       "       'estimated_diameter.meters.estimated_diameter_min',\n",
       "       'estimated_diameter.meters.estimated_diameter_max',\n",
       "       'close_approach_date', 'epoch_date_close_approach', 'orbiting_body',\n",
       "       'relative_velocity.kilometers_per_second',\n",
       "       'relative_velocity.kilometers_per_hour', 'orbit_class_description'],\n",
       "      dtype='object')"
      ]
     },
     "execution_count": 13,
     "metadata": {},
     "output_type": "execute_result"
    }
   ],
   "source": [
    "df_reto_1.keys()"
   ]
  },
  {
   "cell_type": "code",
   "execution_count": 14,
   "metadata": {},
   "outputs": [
    {
     "data": {
      "text/plain": [
       "id_name                                              object\n",
       "is_potentially_hazardous_asteroid                      bool\n",
       "estimated_diameter.meters.estimated_diameter_min    float64\n",
       "estimated_diameter.meters.estimated_diameter_max    float64\n",
       "close_approach_date                                  object\n",
       "epoch_date_close_approach                             int64\n",
       "orbiting_body                                        object\n",
       "relative_velocity.kilometers_per_second             float64\n",
       "relative_velocity.kilometers_per_hour                object\n",
       "orbit_class_description                              object\n",
       "dtype: object"
      ]
     },
     "execution_count": 14,
     "metadata": {},
     "output_type": "execute_result"
    }
   ],
   "source": [
    "df_reto_1.dtypes"
   ]
  },
  {
   "cell_type": "markdown",
   "metadata": {},
   "source": [
    "3. Convierte la columna `relative_velocity.kilometers_per_hour` de `object` a `float64` y elimina `NaNs`:"
   ]
  },
  {
   "cell_type": "code",
   "execution_count": 15,
   "metadata": {},
   "outputs": [
    {
     "data": {
      "text/plain": [
       "id_name                                             0\n",
       "is_potentially_hazardous_asteroid                   0\n",
       "estimated_diameter.meters.estimated_diameter_min    0\n",
       "estimated_diameter.meters.estimated_diameter_max    0\n",
       "close_approach_date                                 0\n",
       "epoch_date_close_approach                           0\n",
       "orbiting_body                                       0\n",
       "relative_velocity.kilometers_per_second             0\n",
       "relative_velocity.kilometers_per_hour               0\n",
       "orbit_class_description                             0\n",
       "dtype: int64"
      ]
     },
     "execution_count": 15,
     "metadata": {},
     "output_type": "execute_result"
    }
   ],
   "source": [
    "df_reto_1.isna().sum()"
   ]
  },
  {
   "cell_type": "code",
   "execution_count": 17,
   "metadata": {},
   "outputs": [
    {
     "data": {
      "text/plain": [
       "id_name                                              object\n",
       "is_potentially_hazardous_asteroid                      bool\n",
       "estimated_diameter.meters.estimated_diameter_min    float64\n",
       "estimated_diameter.meters.estimated_diameter_max    float64\n",
       "close_approach_date                                  object\n",
       "epoch_date_close_approach                             int64\n",
       "orbiting_body                                        object\n",
       "relative_velocity.kilometers_per_second             float64\n",
       "relative_velocity.kilometers_per_hour               float64\n",
       "orbit_class_description                              object\n",
       "dtype: object"
      ]
     },
     "execution_count": 17,
     "metadata": {},
     "output_type": "execute_result"
    }
   ],
   "source": [
    "df_reto_1[\"relative_velocity.kilometers_per_hour\"] = \\\n",
    "    pd.to_numeric(df_reto_1[\"relative_velocity.kilometers_per_hour\"], errors=\"coerce\")\n",
    "df_reto_1.dtypes"
   ]
  },
  {
   "cell_type": "code",
   "execution_count": 18,
   "metadata": {},
   "outputs": [
    {
     "data": {
      "text/plain": [
       "id_name                                              0\n",
       "is_potentially_hazardous_asteroid                    0\n",
       "estimated_diameter.meters.estimated_diameter_min     0\n",
       "estimated_diameter.meters.estimated_diameter_max     0\n",
       "close_approach_date                                  0\n",
       "epoch_date_close_approach                            0\n",
       "orbiting_body                                        0\n",
       "relative_velocity.kilometers_per_second              0\n",
       "relative_velocity.kilometers_per_hour               32\n",
       "orbit_class_description                              0\n",
       "dtype: int64"
      ]
     },
     "execution_count": 18,
     "metadata": {},
     "output_type": "execute_result"
    }
   ],
   "source": [
    "df_reto_1.isna().sum()"
   ]
  },
  {
   "cell_type": "code",
   "execution_count": 19,
   "metadata": {},
   "outputs": [
    {
     "data": {
      "text/html": [
       "<div>\n",
       "<style scoped>\n",
       "    .dataframe tbody tr th:only-of-type {\n",
       "        vertical-align: middle;\n",
       "    }\n",
       "\n",
       "    .dataframe tbody tr th {\n",
       "        vertical-align: top;\n",
       "    }\n",
       "\n",
       "    .dataframe thead th {\n",
       "        text-align: right;\n",
       "    }\n",
       "</style>\n",
       "<table border=\"1\" class=\"dataframe\">\n",
       "  <thead>\n",
       "    <tr style=\"text-align: right;\">\n",
       "      <th></th>\n",
       "      <th>id_name</th>\n",
       "      <th>is_potentially_hazardous_asteroid</th>\n",
       "      <th>estimated_diameter.meters.estimated_diameter_min</th>\n",
       "      <th>estimated_diameter.meters.estimated_diameter_max</th>\n",
       "      <th>close_approach_date</th>\n",
       "      <th>epoch_date_close_approach</th>\n",
       "      <th>orbiting_body</th>\n",
       "      <th>relative_velocity.kilometers_per_second</th>\n",
       "      <th>relative_velocity.kilometers_per_hour</th>\n",
       "      <th>orbit_class_description</th>\n",
       "    </tr>\n",
       "  </thead>\n",
       "  <tbody>\n",
       "    <tr>\n",
       "      <th>0</th>\n",
       "      <td>2154652-154652 (2004 EP20)</td>\n",
       "      <td>False</td>\n",
       "      <td>483.676488</td>\n",
       "      <td>1081.533507</td>\n",
       "      <td>1995-01-07</td>\n",
       "      <td>789467580000</td>\n",
       "      <td>earth</td>\n",
       "      <td>16.142864</td>\n",
       "      <td>58114.308667</td>\n",
       "      <td>Near-Earth-asteroid-orbits-similar-to-that-o...</td>\n",
       "    </tr>\n",
       "    <tr>\n",
       "      <th>1</th>\n",
       "      <td>3153509-(2003 HM)</td>\n",
       "      <td>True</td>\n",
       "      <td>96.506147</td>\n",
       "      <td>215.794305</td>\n",
       "      <td>1995-01-07</td>\n",
       "      <td>789491340000</td>\n",
       "      <td>earth</td>\n",
       "      <td>12.351044</td>\n",
       "      <td>44463.757734</td>\n",
       "      <td>Near-Earth-asteroid-orbits-which-cross-the-E...</td>\n",
       "    </tr>\n",
       "    <tr>\n",
       "      <th>2</th>\n",
       "      <td>3837644-(2019 AY3)</td>\n",
       "      <td>False</td>\n",
       "      <td>46.190746</td>\n",
       "      <td>103.285648</td>\n",
       "      <td>1995-01-07</td>\n",
       "      <td>789513900000</td>\n",
       "      <td>earth</td>\n",
       "      <td>22.478615</td>\n",
       "      <td>80923.015021</td>\n",
       "      <td>Near-Earth-asteroid-orbits-similar-to-that-o...</td>\n",
       "    </tr>\n",
       "    <tr>\n",
       "      <th>3</th>\n",
       "      <td>3843493-(2019 PY)</td>\n",
       "      <td>False</td>\n",
       "      <td>22.108281</td>\n",
       "      <td>49.435619</td>\n",
       "      <td>1995-01-07</td>\n",
       "      <td>789446700000</td>\n",
       "      <td>earth</td>\n",
       "      <td>4.998691</td>\n",
       "      <td>17995.288355</td>\n",
       "      <td>Near-Earth-asteroid-orbits-similar-to-that-of...</td>\n",
       "    </tr>\n",
       "    <tr>\n",
       "      <th>4</th>\n",
       "      <td>3765015-(2016 WR48)</td>\n",
       "      <td>False</td>\n",
       "      <td>160.160338</td>\n",
       "      <td>358.129403</td>\n",
       "      <td>1995-01-08</td>\n",
       "      <td>789569160000</td>\n",
       "      <td>earth</td>\n",
       "      <td>7.465089</td>\n",
       "      <td>26874.321682</td>\n",
       "      <td>An-asteroid-orbit-contained-entirely-within-t...</td>\n",
       "    </tr>\n",
       "    <tr>\n",
       "      <th>...</th>\n",
       "      <td>...</td>\n",
       "      <td>...</td>\n",
       "      <td>...</td>\n",
       "      <td>...</td>\n",
       "      <td>...</td>\n",
       "      <td>...</td>\n",
       "      <td>...</td>\n",
       "      <td>...</td>\n",
       "      <td>...</td>\n",
       "      <td>...</td>\n",
       "    </tr>\n",
       "    <tr>\n",
       "      <th>296</th>\n",
       "      <td>2311554-311554 (2006 BQ147)</td>\n",
       "      <td>False</td>\n",
       "      <td>483.676488</td>\n",
       "      <td>1081.533507</td>\n",
       "      <td>1995-02-21</td>\n",
       "      <td>793387740000</td>\n",
       "      <td>earth</td>\n",
       "      <td>15.474761</td>\n",
       "      <td>55709.139812</td>\n",
       "      <td>Near-Earth-asteroid-orbits-similar-to-that-of...</td>\n",
       "    </tr>\n",
       "    <tr>\n",
       "      <th>297</th>\n",
       "      <td>2267136-267136 (2000 EF104)</td>\n",
       "      <td>False</td>\n",
       "      <td>441.118200</td>\n",
       "      <td>986.370281</td>\n",
       "      <td>1995-02-21</td>\n",
       "      <td>793340220000</td>\n",
       "      <td>earth</td>\n",
       "      <td>16.180392</td>\n",
       "      <td>58249.410194</td>\n",
       "      <td>Near-Earth-asteroid-orbits-similar-to-that-o...</td>\n",
       "    </tr>\n",
       "    <tr>\n",
       "      <th>298</th>\n",
       "      <td>3360486-(2006 WE4)</td>\n",
       "      <td>False</td>\n",
       "      <td>441.118200</td>\n",
       "      <td>986.370281</td>\n",
       "      <td>1995-02-21</td>\n",
       "      <td>793381440000</td>\n",
       "      <td>earth</td>\n",
       "      <td>15.106140</td>\n",
       "      <td>54382.104639</td>\n",
       "      <td>Near-Earth-asteroid-orbits-which-cross-the-E...</td>\n",
       "    </tr>\n",
       "    <tr>\n",
       "      <th>299</th>\n",
       "      <td>3656919-(2014 BG3)</td>\n",
       "      <td>False</td>\n",
       "      <td>160.160338</td>\n",
       "      <td>358.129403</td>\n",
       "      <td>1995-02-21</td>\n",
       "      <td>793368480000</td>\n",
       "      <td>earth</td>\n",
       "      <td>20.343173</td>\n",
       "      <td>73235.423517</td>\n",
       "      <td>An-asteroid-orbit-contained-entirely-within-t...</td>\n",
       "    </tr>\n",
       "    <tr>\n",
       "      <th>300</th>\n",
       "      <td>3803762-(2018 GY4)</td>\n",
       "      <td>False</td>\n",
       "      <td>421.264611</td>\n",
       "      <td>941.976306</td>\n",
       "      <td>1995-02-21</td>\n",
       "      <td>793371240000</td>\n",
       "      <td>earth</td>\n",
       "      <td>29.732426</td>\n",
       "      <td>107036.733058</td>\n",
       "      <td>Near-Earth-asteroid-orbits-similar-to-that-o...</td>\n",
       "    </tr>\n",
       "  </tbody>\n",
       "</table>\n",
       "<p>301 rows × 10 columns</p>\n",
       "</div>"
      ],
      "text/plain": [
       "                         id_name  is_potentially_hazardous_asteroid  \\\n",
       "0     2154652-154652 (2004 EP20)                              False   \n",
       "1              3153509-(2003 HM)                               True   \n",
       "2             3837644-(2019 AY3)                              False   \n",
       "3              3843493-(2019 PY)                              False   \n",
       "4            3765015-(2016 WR48)                              False   \n",
       "..                           ...                                ...   \n",
       "296  2311554-311554 (2006 BQ147)                              False   \n",
       "297  2267136-267136 (2000 EF104)                              False   \n",
       "298           3360486-(2006 WE4)                              False   \n",
       "299           3656919-(2014 BG3)                              False   \n",
       "300           3803762-(2018 GY4)                              False   \n",
       "\n",
       "     estimated_diameter.meters.estimated_diameter_min  \\\n",
       "0                                          483.676488   \n",
       "1                                           96.506147   \n",
       "2                                           46.190746   \n",
       "3                                           22.108281   \n",
       "4                                          160.160338   \n",
       "..                                                ...   \n",
       "296                                        483.676488   \n",
       "297                                        441.118200   \n",
       "298                                        441.118200   \n",
       "299                                        160.160338   \n",
       "300                                        421.264611   \n",
       "\n",
       "     estimated_diameter.meters.estimated_diameter_max close_approach_date  \\\n",
       "0                                         1081.533507          1995-01-07   \n",
       "1                                          215.794305          1995-01-07   \n",
       "2                                          103.285648          1995-01-07   \n",
       "3                                           49.435619          1995-01-07   \n",
       "4                                          358.129403          1995-01-08   \n",
       "..                                                ...                 ...   \n",
       "296                                       1081.533507          1995-02-21   \n",
       "297                                        986.370281          1995-02-21   \n",
       "298                                        986.370281          1995-02-21   \n",
       "299                                        358.129403          1995-02-21   \n",
       "300                                        941.976306          1995-02-21   \n",
       "\n",
       "     epoch_date_close_approach orbiting_body  \\\n",
       "0                 789467580000         earth   \n",
       "1                 789491340000         earth   \n",
       "2                 789513900000         earth   \n",
       "3                 789446700000         earth   \n",
       "4                 789569160000         earth   \n",
       "..                         ...           ...   \n",
       "296               793387740000         earth   \n",
       "297               793340220000         earth   \n",
       "298               793381440000         earth   \n",
       "299               793368480000         earth   \n",
       "300               793371240000         earth   \n",
       "\n",
       "     relative_velocity.kilometers_per_second  \\\n",
       "0                                  16.142864   \n",
       "1                                  12.351044   \n",
       "2                                  22.478615   \n",
       "3                                   4.998691   \n",
       "4                                   7.465089   \n",
       "..                                       ...   \n",
       "296                                15.474761   \n",
       "297                                16.180392   \n",
       "298                                15.106140   \n",
       "299                                20.343173   \n",
       "300                                29.732426   \n",
       "\n",
       "     relative_velocity.kilometers_per_hour  \\\n",
       "0                             58114.308667   \n",
       "1                             44463.757734   \n",
       "2                             80923.015021   \n",
       "3                             17995.288355   \n",
       "4                             26874.321682   \n",
       "..                                     ...   \n",
       "296                           55709.139812   \n",
       "297                           58249.410194   \n",
       "298                           54382.104639   \n",
       "299                           73235.423517   \n",
       "300                          107036.733058   \n",
       "\n",
       "                               orbit_class_description  \n",
       "0      Near-Earth-asteroid-orbits-similar-to-that-o...  \n",
       "1      Near-Earth-asteroid-orbits-which-cross-the-E...  \n",
       "2      Near-Earth-asteroid-orbits-similar-to-that-o...  \n",
       "3     Near-Earth-asteroid-orbits-similar-to-that-of...  \n",
       "4     An-asteroid-orbit-contained-entirely-within-t...  \n",
       "..                                                 ...  \n",
       "296   Near-Earth-asteroid-orbits-similar-to-that-of...  \n",
       "297    Near-Earth-asteroid-orbits-similar-to-that-o...  \n",
       "298    Near-Earth-asteroid-orbits-which-cross-the-E...  \n",
       "299   An-asteroid-orbit-contained-entirely-within-t...  \n",
       "300    Near-Earth-asteroid-orbits-similar-to-that-o...  \n",
       "\n",
       "[301 rows x 10 columns]"
      ]
     },
     "execution_count": 19,
     "metadata": {},
     "output_type": "execute_result"
    }
   ],
   "source": [
    "df_reto_1 = df_reto_1.dropna().reset_index(drop=True)\n",
    "df_reto_1"
   ]
  },
  {
   "cell_type": "code",
   "execution_count": 20,
   "metadata": {},
   "outputs": [
    {
     "data": {
      "text/plain": [
       "id_name                                             0\n",
       "is_potentially_hazardous_asteroid                   0\n",
       "estimated_diameter.meters.estimated_diameter_min    0\n",
       "estimated_diameter.meters.estimated_diameter_max    0\n",
       "close_approach_date                                 0\n",
       "epoch_date_close_approach                           0\n",
       "orbiting_body                                       0\n",
       "relative_velocity.kilometers_per_second             0\n",
       "relative_velocity.kilometers_per_hour               0\n",
       "orbit_class_description                             0\n",
       "dtype: int64"
      ]
     },
     "execution_count": 20,
     "metadata": {},
     "output_type": "execute_result"
    }
   ],
   "source": [
    "df_reto_1.isna().sum()"
   ]
  },
  {
   "cell_type": "markdown",
   "metadata": {},
   "source": [
    "4. Convierte la columna `close_approach_date` a tipo de dato `datetime64[ms]` usando el método `astype` y un diccionario de conversión."
   ]
  },
  {
   "cell_type": "code",
   "execution_count": 22,
   "metadata": {},
   "outputs": [
    {
     "data": {
      "text/plain": [
       "id_name                                                     object\n",
       "is_potentially_hazardous_asteroid                             bool\n",
       "estimated_diameter.meters.estimated_diameter_min           float64\n",
       "estimated_diameter.meters.estimated_diameter_max           float64\n",
       "close_approach_date                                 datetime64[ns]\n",
       "epoch_date_close_approach                                    int64\n",
       "orbiting_body                                               object\n",
       "relative_velocity.kilometers_per_second                    float64\n",
       "relative_velocity.kilometers_per_hour                      float64\n",
       "orbit_class_description                                     object\n",
       "dtype: object"
      ]
     },
     "execution_count": 22,
     "metadata": {},
     "output_type": "execute_result"
    }
   ],
   "source": [
    "str_to_date = {\n",
    "    \"close_approach_date\":\"datetime64[ns]\",\n",
    "}\n",
    "df_reto_1 = df_reto_1.astype(str_to_date)\n",
    "df_reto_1.dtypes"
   ]
  },
  {
   "cell_type": "code",
   "execution_count": null,
   "metadata": {},
   "outputs": [],
   "source": [
    "...\n",
    "\n",
    "df_reto_1.dtypes"
   ]
  },
  {
   "cell_type": "markdown",
   "metadata": {},
   "source": [
    "5. Convierte la columna `epoch_date_close_approach` a tipo de dato `datetime64[ms]` usando el método `to_datetime`:"
   ]
  },
  {
   "cell_type": "code",
   "execution_count": 23,
   "metadata": {
    "scrolled": true
   },
   "outputs": [
    {
     "data": {
      "text/plain": [
       "id_name                                                     object\n",
       "is_potentially_hazardous_asteroid                             bool\n",
       "estimated_diameter.meters.estimated_diameter_min           float64\n",
       "estimated_diameter.meters.estimated_diameter_max           float64\n",
       "close_approach_date                                 datetime64[ns]\n",
       "epoch_date_close_approach                           datetime64[ns]\n",
       "orbiting_body                                               object\n",
       "relative_velocity.kilometers_per_second                    float64\n",
       "relative_velocity.kilometers_per_hour                      float64\n",
       "orbit_class_description                                     object\n",
       "dtype: object"
      ]
     },
     "execution_count": 23,
     "metadata": {},
     "output_type": "execute_result"
    }
   ],
   "source": [
    "df_reto_1[\"epoch_date_close_approach\"] = pd.to_datetime(\n",
    "    df_reto_1[\"epoch_date_close_approach\"], unit=\"ms\")\n",
    "df_reto_1.dtypes"
   ]
  },
  {
   "cell_type": "code",
   "execution_count": 24,
   "metadata": {},
   "outputs": [
    {
     "data": {
      "text/html": [
       "<div>\n",
       "<style scoped>\n",
       "    .dataframe tbody tr th:only-of-type {\n",
       "        vertical-align: middle;\n",
       "    }\n",
       "\n",
       "    .dataframe tbody tr th {\n",
       "        vertical-align: top;\n",
       "    }\n",
       "\n",
       "    .dataframe thead th {\n",
       "        text-align: right;\n",
       "    }\n",
       "</style>\n",
       "<table border=\"1\" class=\"dataframe\">\n",
       "  <thead>\n",
       "    <tr style=\"text-align: right;\">\n",
       "      <th></th>\n",
       "      <th>id_name</th>\n",
       "      <th>is_potentially_hazardous_asteroid</th>\n",
       "      <th>estimated_diameter.meters.estimated_diameter_min</th>\n",
       "      <th>estimated_diameter.meters.estimated_diameter_max</th>\n",
       "      <th>close_approach_date</th>\n",
       "      <th>epoch_date_close_approach</th>\n",
       "      <th>orbiting_body</th>\n",
       "      <th>relative_velocity.kilometers_per_second</th>\n",
       "      <th>relative_velocity.kilometers_per_hour</th>\n",
       "      <th>orbit_class_description</th>\n",
       "    </tr>\n",
       "  </thead>\n",
       "  <tbody>\n",
       "    <tr>\n",
       "      <th>0</th>\n",
       "      <td>2154652-154652 (2004 EP20)</td>\n",
       "      <td>False</td>\n",
       "      <td>483.676488</td>\n",
       "      <td>1081.533507</td>\n",
       "      <td>1995-01-07</td>\n",
       "      <td>1995-01-07 08:33:00</td>\n",
       "      <td>earth</td>\n",
       "      <td>16.142864</td>\n",
       "      <td>58114.308667</td>\n",
       "      <td>Near-Earth-asteroid-orbits-similar-to-that-o...</td>\n",
       "    </tr>\n",
       "    <tr>\n",
       "      <th>1</th>\n",
       "      <td>3153509-(2003 HM)</td>\n",
       "      <td>True</td>\n",
       "      <td>96.506147</td>\n",
       "      <td>215.794305</td>\n",
       "      <td>1995-01-07</td>\n",
       "      <td>1995-01-07 15:09:00</td>\n",
       "      <td>earth</td>\n",
       "      <td>12.351044</td>\n",
       "      <td>44463.757734</td>\n",
       "      <td>Near-Earth-asteroid-orbits-which-cross-the-E...</td>\n",
       "    </tr>\n",
       "    <tr>\n",
       "      <th>2</th>\n",
       "      <td>3837644-(2019 AY3)</td>\n",
       "      <td>False</td>\n",
       "      <td>46.190746</td>\n",
       "      <td>103.285648</td>\n",
       "      <td>1995-01-07</td>\n",
       "      <td>1995-01-07 21:25:00</td>\n",
       "      <td>earth</td>\n",
       "      <td>22.478615</td>\n",
       "      <td>80923.015021</td>\n",
       "      <td>Near-Earth-asteroid-orbits-similar-to-that-o...</td>\n",
       "    </tr>\n",
       "    <tr>\n",
       "      <th>3</th>\n",
       "      <td>3843493-(2019 PY)</td>\n",
       "      <td>False</td>\n",
       "      <td>22.108281</td>\n",
       "      <td>49.435619</td>\n",
       "      <td>1995-01-07</td>\n",
       "      <td>1995-01-07 02:45:00</td>\n",
       "      <td>earth</td>\n",
       "      <td>4.998691</td>\n",
       "      <td>17995.288355</td>\n",
       "      <td>Near-Earth-asteroid-orbits-similar-to-that-of...</td>\n",
       "    </tr>\n",
       "    <tr>\n",
       "      <th>4</th>\n",
       "      <td>3765015-(2016 WR48)</td>\n",
       "      <td>False</td>\n",
       "      <td>160.160338</td>\n",
       "      <td>358.129403</td>\n",
       "      <td>1995-01-08</td>\n",
       "      <td>1995-01-08 12:46:00</td>\n",
       "      <td>earth</td>\n",
       "      <td>7.465089</td>\n",
       "      <td>26874.321682</td>\n",
       "      <td>An-asteroid-orbit-contained-entirely-within-t...</td>\n",
       "    </tr>\n",
       "  </tbody>\n",
       "</table>\n",
       "</div>"
      ],
      "text/plain": [
       "                      id_name  is_potentially_hazardous_asteroid  \\\n",
       "0  2154652-154652 (2004 EP20)                              False   \n",
       "1           3153509-(2003 HM)                               True   \n",
       "2          3837644-(2019 AY3)                              False   \n",
       "3           3843493-(2019 PY)                              False   \n",
       "4         3765015-(2016 WR48)                              False   \n",
       "\n",
       "   estimated_diameter.meters.estimated_diameter_min  \\\n",
       "0                                        483.676488   \n",
       "1                                         96.506147   \n",
       "2                                         46.190746   \n",
       "3                                         22.108281   \n",
       "4                                        160.160338   \n",
       "\n",
       "   estimated_diameter.meters.estimated_diameter_max close_approach_date  \\\n",
       "0                                       1081.533507          1995-01-07   \n",
       "1                                        215.794305          1995-01-07   \n",
       "2                                        103.285648          1995-01-07   \n",
       "3                                         49.435619          1995-01-07   \n",
       "4                                        358.129403          1995-01-08   \n",
       "\n",
       "  epoch_date_close_approach orbiting_body  \\\n",
       "0       1995-01-07 08:33:00         earth   \n",
       "1       1995-01-07 15:09:00         earth   \n",
       "2       1995-01-07 21:25:00         earth   \n",
       "3       1995-01-07 02:45:00         earth   \n",
       "4       1995-01-08 12:46:00         earth   \n",
       "\n",
       "   relative_velocity.kilometers_per_second  \\\n",
       "0                                16.142864   \n",
       "1                                12.351044   \n",
       "2                                22.478615   \n",
       "3                                 4.998691   \n",
       "4                                 7.465089   \n",
       "\n",
       "   relative_velocity.kilometers_per_hour  \\\n",
       "0                           58114.308667   \n",
       "1                           44463.757734   \n",
       "2                           80923.015021   \n",
       "3                           17995.288355   \n",
       "4                           26874.321682   \n",
       "\n",
       "                             orbit_class_description  \n",
       "0    Near-Earth-asteroid-orbits-similar-to-that-o...  \n",
       "1    Near-Earth-asteroid-orbits-which-cross-the-E...  \n",
       "2    Near-Earth-asteroid-orbits-similar-to-that-o...  \n",
       "3   Near-Earth-asteroid-orbits-similar-to-that-of...  \n",
       "4   An-asteroid-orbit-contained-entirely-within-t...  "
      ]
     },
     "execution_count": 24,
     "metadata": {},
     "output_type": "execute_result"
    }
   ],
   "source": [
    "df_reto_1.head()"
   ]
  },
  {
   "cell_type": "markdown",
   "metadata": {},
   "source": [
    "6. Reinicia los índices con `df.reset_index(drop=True)`:"
   ]
  },
  {
   "cell_type": "code",
   "execution_count": 25,
   "metadata": {},
   "outputs": [
    {
     "data": {
      "text/html": [
       "<div>\n",
       "<style scoped>\n",
       "    .dataframe tbody tr th:only-of-type {\n",
       "        vertical-align: middle;\n",
       "    }\n",
       "\n",
       "    .dataframe tbody tr th {\n",
       "        vertical-align: top;\n",
       "    }\n",
       "\n",
       "    .dataframe thead th {\n",
       "        text-align: right;\n",
       "    }\n",
       "</style>\n",
       "<table border=\"1\" class=\"dataframe\">\n",
       "  <thead>\n",
       "    <tr style=\"text-align: right;\">\n",
       "      <th></th>\n",
       "      <th>id_name</th>\n",
       "      <th>is_potentially_hazardous_asteroid</th>\n",
       "      <th>estimated_diameter.meters.estimated_diameter_min</th>\n",
       "      <th>estimated_diameter.meters.estimated_diameter_max</th>\n",
       "      <th>close_approach_date</th>\n",
       "      <th>epoch_date_close_approach</th>\n",
       "      <th>orbiting_body</th>\n",
       "      <th>relative_velocity.kilometers_per_second</th>\n",
       "      <th>relative_velocity.kilometers_per_hour</th>\n",
       "      <th>orbit_class_description</th>\n",
       "    </tr>\n",
       "  </thead>\n",
       "  <tbody>\n",
       "    <tr>\n",
       "      <th>0</th>\n",
       "      <td>2154652-154652 (2004 EP20)</td>\n",
       "      <td>False</td>\n",
       "      <td>483.676488</td>\n",
       "      <td>1081.533507</td>\n",
       "      <td>1995-01-07</td>\n",
       "      <td>1995-01-07 08:33:00</td>\n",
       "      <td>earth</td>\n",
       "      <td>16.142864</td>\n",
       "      <td>58114.308667</td>\n",
       "      <td>Near-Earth-asteroid-orbits-similar-to-that-o...</td>\n",
       "    </tr>\n",
       "    <tr>\n",
       "      <th>1</th>\n",
       "      <td>3153509-(2003 HM)</td>\n",
       "      <td>True</td>\n",
       "      <td>96.506147</td>\n",
       "      <td>215.794305</td>\n",
       "      <td>1995-01-07</td>\n",
       "      <td>1995-01-07 15:09:00</td>\n",
       "      <td>earth</td>\n",
       "      <td>12.351044</td>\n",
       "      <td>44463.757734</td>\n",
       "      <td>Near-Earth-asteroid-orbits-which-cross-the-E...</td>\n",
       "    </tr>\n",
       "    <tr>\n",
       "      <th>2</th>\n",
       "      <td>3837644-(2019 AY3)</td>\n",
       "      <td>False</td>\n",
       "      <td>46.190746</td>\n",
       "      <td>103.285648</td>\n",
       "      <td>1995-01-07</td>\n",
       "      <td>1995-01-07 21:25:00</td>\n",
       "      <td>earth</td>\n",
       "      <td>22.478615</td>\n",
       "      <td>80923.015021</td>\n",
       "      <td>Near-Earth-asteroid-orbits-similar-to-that-o...</td>\n",
       "    </tr>\n",
       "    <tr>\n",
       "      <th>3</th>\n",
       "      <td>3843493-(2019 PY)</td>\n",
       "      <td>False</td>\n",
       "      <td>22.108281</td>\n",
       "      <td>49.435619</td>\n",
       "      <td>1995-01-07</td>\n",
       "      <td>1995-01-07 02:45:00</td>\n",
       "      <td>earth</td>\n",
       "      <td>4.998691</td>\n",
       "      <td>17995.288355</td>\n",
       "      <td>Near-Earth-asteroid-orbits-similar-to-that-of...</td>\n",
       "    </tr>\n",
       "    <tr>\n",
       "      <th>4</th>\n",
       "      <td>3765015-(2016 WR48)</td>\n",
       "      <td>False</td>\n",
       "      <td>160.160338</td>\n",
       "      <td>358.129403</td>\n",
       "      <td>1995-01-08</td>\n",
       "      <td>1995-01-08 12:46:00</td>\n",
       "      <td>earth</td>\n",
       "      <td>7.465089</td>\n",
       "      <td>26874.321682</td>\n",
       "      <td>An-asteroid-orbit-contained-entirely-within-t...</td>\n",
       "    </tr>\n",
       "    <tr>\n",
       "      <th>...</th>\n",
       "      <td>...</td>\n",
       "      <td>...</td>\n",
       "      <td>...</td>\n",
       "      <td>...</td>\n",
       "      <td>...</td>\n",
       "      <td>...</td>\n",
       "      <td>...</td>\n",
       "      <td>...</td>\n",
       "      <td>...</td>\n",
       "      <td>...</td>\n",
       "    </tr>\n",
       "    <tr>\n",
       "      <th>296</th>\n",
       "      <td>2311554-311554 (2006 BQ147)</td>\n",
       "      <td>False</td>\n",
       "      <td>483.676488</td>\n",
       "      <td>1081.533507</td>\n",
       "      <td>1995-02-21</td>\n",
       "      <td>1995-02-21 17:29:00</td>\n",
       "      <td>earth</td>\n",
       "      <td>15.474761</td>\n",
       "      <td>55709.139812</td>\n",
       "      <td>Near-Earth-asteroid-orbits-similar-to-that-of...</td>\n",
       "    </tr>\n",
       "    <tr>\n",
       "      <th>297</th>\n",
       "      <td>2267136-267136 (2000 EF104)</td>\n",
       "      <td>False</td>\n",
       "      <td>441.118200</td>\n",
       "      <td>986.370281</td>\n",
       "      <td>1995-02-21</td>\n",
       "      <td>1995-02-21 04:17:00</td>\n",
       "      <td>earth</td>\n",
       "      <td>16.180392</td>\n",
       "      <td>58249.410194</td>\n",
       "      <td>Near-Earth-asteroid-orbits-similar-to-that-o...</td>\n",
       "    </tr>\n",
       "    <tr>\n",
       "      <th>298</th>\n",
       "      <td>3360486-(2006 WE4)</td>\n",
       "      <td>False</td>\n",
       "      <td>441.118200</td>\n",
       "      <td>986.370281</td>\n",
       "      <td>1995-02-21</td>\n",
       "      <td>1995-02-21 15:44:00</td>\n",
       "      <td>earth</td>\n",
       "      <td>15.106140</td>\n",
       "      <td>54382.104639</td>\n",
       "      <td>Near-Earth-asteroid-orbits-which-cross-the-E...</td>\n",
       "    </tr>\n",
       "    <tr>\n",
       "      <th>299</th>\n",
       "      <td>3656919-(2014 BG3)</td>\n",
       "      <td>False</td>\n",
       "      <td>160.160338</td>\n",
       "      <td>358.129403</td>\n",
       "      <td>1995-02-21</td>\n",
       "      <td>1995-02-21 12:08:00</td>\n",
       "      <td>earth</td>\n",
       "      <td>20.343173</td>\n",
       "      <td>73235.423517</td>\n",
       "      <td>An-asteroid-orbit-contained-entirely-within-t...</td>\n",
       "    </tr>\n",
       "    <tr>\n",
       "      <th>300</th>\n",
       "      <td>3803762-(2018 GY4)</td>\n",
       "      <td>False</td>\n",
       "      <td>421.264611</td>\n",
       "      <td>941.976306</td>\n",
       "      <td>1995-02-21</td>\n",
       "      <td>1995-02-21 12:54:00</td>\n",
       "      <td>earth</td>\n",
       "      <td>29.732426</td>\n",
       "      <td>107036.733058</td>\n",
       "      <td>Near-Earth-asteroid-orbits-similar-to-that-o...</td>\n",
       "    </tr>\n",
       "  </tbody>\n",
       "</table>\n",
       "<p>301 rows × 10 columns</p>\n",
       "</div>"
      ],
      "text/plain": [
       "                         id_name  is_potentially_hazardous_asteroid  \\\n",
       "0     2154652-154652 (2004 EP20)                              False   \n",
       "1              3153509-(2003 HM)                               True   \n",
       "2             3837644-(2019 AY3)                              False   \n",
       "3              3843493-(2019 PY)                              False   \n",
       "4            3765015-(2016 WR48)                              False   \n",
       "..                           ...                                ...   \n",
       "296  2311554-311554 (2006 BQ147)                              False   \n",
       "297  2267136-267136 (2000 EF104)                              False   \n",
       "298           3360486-(2006 WE4)                              False   \n",
       "299           3656919-(2014 BG3)                              False   \n",
       "300           3803762-(2018 GY4)                              False   \n",
       "\n",
       "     estimated_diameter.meters.estimated_diameter_min  \\\n",
       "0                                          483.676488   \n",
       "1                                           96.506147   \n",
       "2                                           46.190746   \n",
       "3                                           22.108281   \n",
       "4                                          160.160338   \n",
       "..                                                ...   \n",
       "296                                        483.676488   \n",
       "297                                        441.118200   \n",
       "298                                        441.118200   \n",
       "299                                        160.160338   \n",
       "300                                        421.264611   \n",
       "\n",
       "     estimated_diameter.meters.estimated_diameter_max close_approach_date  \\\n",
       "0                                         1081.533507          1995-01-07   \n",
       "1                                          215.794305          1995-01-07   \n",
       "2                                          103.285648          1995-01-07   \n",
       "3                                           49.435619          1995-01-07   \n",
       "4                                          358.129403          1995-01-08   \n",
       "..                                                ...                 ...   \n",
       "296                                       1081.533507          1995-02-21   \n",
       "297                                        986.370281          1995-02-21   \n",
       "298                                        986.370281          1995-02-21   \n",
       "299                                        358.129403          1995-02-21   \n",
       "300                                        941.976306          1995-02-21   \n",
       "\n",
       "    epoch_date_close_approach orbiting_body  \\\n",
       "0         1995-01-07 08:33:00         earth   \n",
       "1         1995-01-07 15:09:00         earth   \n",
       "2         1995-01-07 21:25:00         earth   \n",
       "3         1995-01-07 02:45:00         earth   \n",
       "4         1995-01-08 12:46:00         earth   \n",
       "..                        ...           ...   \n",
       "296       1995-02-21 17:29:00         earth   \n",
       "297       1995-02-21 04:17:00         earth   \n",
       "298       1995-02-21 15:44:00         earth   \n",
       "299       1995-02-21 12:08:00         earth   \n",
       "300       1995-02-21 12:54:00         earth   \n",
       "\n",
       "     relative_velocity.kilometers_per_second  \\\n",
       "0                                  16.142864   \n",
       "1                                  12.351044   \n",
       "2                                  22.478615   \n",
       "3                                   4.998691   \n",
       "4                                   7.465089   \n",
       "..                                       ...   \n",
       "296                                15.474761   \n",
       "297                                16.180392   \n",
       "298                                15.106140   \n",
       "299                                20.343173   \n",
       "300                                29.732426   \n",
       "\n",
       "     relative_velocity.kilometers_per_hour  \\\n",
       "0                             58114.308667   \n",
       "1                             44463.757734   \n",
       "2                             80923.015021   \n",
       "3                             17995.288355   \n",
       "4                             26874.321682   \n",
       "..                                     ...   \n",
       "296                           55709.139812   \n",
       "297                           58249.410194   \n",
       "298                           54382.104639   \n",
       "299                           73235.423517   \n",
       "300                          107036.733058   \n",
       "\n",
       "                               orbit_class_description  \n",
       "0      Near-Earth-asteroid-orbits-similar-to-that-o...  \n",
       "1      Near-Earth-asteroid-orbits-which-cross-the-E...  \n",
       "2      Near-Earth-asteroid-orbits-similar-to-that-o...  \n",
       "3     Near-Earth-asteroid-orbits-similar-to-that-of...  \n",
       "4     An-asteroid-orbit-contained-entirely-within-t...  \n",
       "..                                                 ...  \n",
       "296   Near-Earth-asteroid-orbits-similar-to-that-of...  \n",
       "297    Near-Earth-asteroid-orbits-similar-to-that-o...  \n",
       "298    Near-Earth-asteroid-orbits-which-cross-the-E...  \n",
       "299   An-asteroid-orbit-contained-entirely-within-t...  \n",
       "300    Near-Earth-asteroid-orbits-similar-to-that-o...  \n",
       "\n",
       "[301 rows x 10 columns]"
      ]
     },
     "execution_count": 25,
     "metadata": {},
     "output_type": "execute_result"
    }
   ],
   "source": [
    "df_reto_1"
   ]
  },
  {
   "cell_type": "markdown",
   "metadata": {},
   "source": [
    "7. Guarda tu resultado en un archivo .csv."
   ]
  },
  {
   "cell_type": "code",
   "execution_count": 26,
   "metadata": {},
   "outputs": [],
   "source": [
    "df_reto_1.to_csv('near_earth_objects-jan_feb_1995-reto_1.csv')"
   ]
  },
  {
   "cell_type": "markdown",
   "metadata": {},
   "source": [
    "En este caso, la celda de validación sólo verifica que los tipos de datos de las columnas de tu DataFrame sean las correctas, si tienes alguna duda de tu resultado pregunta a quién más confianza le tengas!!"
   ]
  },
  {
   "cell_type": "code",
   "execution_count": 27,
   "metadata": {},
   "outputs": [
    {
     "name": "stdout",
     "output_type": "stream",
     "text": [
      "¡Éxito! ¡Todas tus conversiones fueron realizadas adecuadamente!\n"
     ]
    }
   ],
   "source": [
    "def checar_conversiones(df):\n",
    "    \n",
    "    import pandas as pd\n",
    "    import pandas.api.types as ptypes\n",
    "    \n",
    "    assert ptypes.is_float_dtype(df['relative_velocity.kilometers_per_hour']), 'Cuidado... La columna `relative_velocity.kilometers_per_hour` no es de tipo `float64`'\n",
    "    assert ptypes.is_datetime64_any_dtype(df['close_approach_date']), 'Cuidado... La columna `close_approach_date` no es de tipo `datetime64[ns]`'\n",
    "    assert ptypes.is_datetime64_any_dtype(df['epoch_date_close_approach']), 'Cuidado... La columna `epoch_date_close_approach` no es de tipo `datetime64[ns]'\n",
    "    \n",
    "    print(f'¡Éxito! ¡Todas tus conversiones fueron realizadas adecuadamente!')\n",
    "\n",
    "checar_conversiones(df_reto_1)"
   ]
  }
 ],
 "metadata": {
  "kernelspec": {
   "display_name": "Python 3 (ipykernel)",
   "language": "python",
   "name": "python3"
  },
  "language_info": {
   "codemirror_mode": {
    "name": "ipython",
    "version": 3
   },
   "file_extension": ".py",
   "mimetype": "text/x-python",
   "name": "python",
   "nbconvert_exporter": "python",
   "pygments_lexer": "ipython3",
   "version": "3.12.0"
  }
 },
 "nbformat": 4,
 "nbformat_minor": 4
}
