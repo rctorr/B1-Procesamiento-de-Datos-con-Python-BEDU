{
 "cells": [
  {
   "cell_type": "markdown",
   "metadata": {},
   "source": [
    "## Ejemplo 6: Sort\n",
    "\n",
    "### 1. Objetivos:\n",
    "    - Aprender a usar `sort_values` para reordenar nuestros datos\n",
    " \n",
    "### 2. Desarrollo:"
   ]
  },
  {
   "cell_type": "code",
   "execution_count": null,
   "metadata": {},
   "outputs": [],
   "source": [
    "import pandas as pd"
   ]
  },
  {
   "cell_type": "code",
   "execution_count": null,
   "metadata": {},
   "outputs": [],
   "source": [
    "df = pd.read_csv('../../Datasets/new_york_times_bestsellers-dirty.csv', index_col=0)\n",
    "df.head(3)"
   ]
  },
  {
   "cell_type": "markdown",
   "metadata": {},
   "source": [
    "Finalmente veamos como podemos ordenar los elementos de una DataFrame, por ejemplo, queremos ordenar nuestras entradas empezando por el libro de mayor precio hasta el libro de menor precio, así que se ordena en base a la columna `price.numberDouble` de manera descendente usando la siguiente forma de la función `sort_values()`:\n",
    "\n",
    "`dataframe.sort_values(-columna-, ascending=False)`"
   ]
  },
  {
   "cell_type": "code",
   "execution_count": null,
   "metadata": {},
   "outputs": [],
   "source": [
    "..."
   ]
  },
  {
   "cell_type": "markdown",
   "metadata": {},
   "source": [
    "Si ordenamos en base a `published_date.numberLong` podemos también obtener la lista desde la publicación más antigua hasta la publicación más reciente:"
   ]
  },
  {
   "cell_type": "code",
   "execution_count": null,
   "metadata": {},
   "outputs": [],
   "source": [
    "df.sort_values(\"published_date.numberLong\")"
   ]
  },
  {
   "cell_type": "markdown",
   "metadata": {},
   "source": [
    "Pero como seguramente no lo crees aún porque estamos usando la columna del Timestamp, vamos a convertir la fechas a datetime con el método:\n",
    "\n",
    "`pd.to_datetime(-dataframe[columna]-, unit=\"ms\")`\n",
    "\n",
    "y aplicarlo desde el DataFrame original, ordenamos nuevamente y obtenemos un DataFrame sólo con las columnas `amazon_product_url` y `published_date.numberLong` para simplificar el resultado:"
   ]
  },
  {
   "cell_type": "code",
   "execution_count": null,
   "metadata": {},
   "outputs": [],
   "source": [
    "df[\"published_date.numberLong\"] = ...\n",
    "\n",
    "df.head()"
   ]
  },
  {
   "cell_type": "code",
   "execution_count": null,
   "metadata": {},
   "outputs": [],
   "source": [
    "df_ordenado = ...\n",
    "\n",
    "df_ordenado[[ ... ]]"
   ]
  },
  {
   "cell_type": "markdown",
   "metadata": {},
   "source": [
    "**NOTA PYTHONESCA:** Para trabajar con fechas se pueden usar los tipos de datos `datetime` o `int` (en alguna unidad de segundos), el ordenamiento u otra operación se realizará de forma correcta, pero procesar fechas de tipo `object` o `str` podríamos obtener resultados inesperados."
   ]
  },
  {
   "cell_type": "markdown",
   "metadata": {},
   "source": [
    "Por ejemplo, podríamos primero filtrar para sólo tener los libros de la editorial que tiene más libros como 'best sellers' usando la columna `publisher` y después ordenarlos del que pasó más días en la lista de 'best sellers' al que pasó menos días en la lista usando la columna `weeks_on_list.numberInt`.\n",
    "\n",
    "Primero encontramos la editorial con más bestsellers con el método:\n",
    "\n",
    "`dataframe[-columna-].value_counts()`"
   ]
  },
  {
   "cell_type": "code",
   "execution_count": null,
   "metadata": {},
   "outputs": [],
   "source": [
    "..."
   ]
  },
  {
   "cell_type": "markdown",
   "metadata": {},
   "source": [
    "Filtra sólo los que perteneces a la editorial encontrada (Putnam?) usando la aplicación de filtros con:\n",
    "\n",
    "`dataframe[ dataframe[-columna-] op -valor- ]`"
   ]
  },
  {
   "cell_type": "code",
   "execution_count": null,
   "metadata": {},
   "outputs": [],
   "source": [
    "df_1 =  ...\n",
    "df_1.head(3)"
   ]
  },
  {
   "cell_type": "markdown",
   "metadata": {},
   "source": [
    "Ordenando en base a la cantidad de días como bestsellers usando:\n",
    "\n",
    "`dataframe.sort_values(-columna-, ascending=False)`"
   ]
  },
  {
   "cell_type": "code",
   "execution_count": null,
   "metadata": {},
   "outputs": [],
   "source": [
    "..."
   ]
  },
  {
   "cell_type": "markdown",
   "metadata": {},
   "source": [
    "---\n",
    "---"
   ]
  },
  {
   "cell_type": "markdown",
   "metadata": {},
   "source": [
    "## Reto 6: Sort\n",
    "\n",
    "### 1. Objetivos:\n",
    "    - Practicar el uso de `sort_values` para obtener datos específicos\n",
    "    \n",
    "### 2. Desarrollo:"
   ]
  },
  {
   "cell_type": "markdown",
   "metadata": {},
   "source": [
    "#### a) Reordenamiento para hallazgo de valores\n",
    "\n",
    "Vamos a trabajar sobre el dataset que guardaste en la sesión anterior. Tu Reto consiste en lo siguiente:\n",
    "\n",
    "1. Usa `sort_values` y `loc` para obtener el valor de la velocidad en kilómetros por segundo más lenta de todos los objetos que tenemos en el dataset y asígnalo a `velocidad_en_kilometros_por_segundo_de_objeto_mas_lento`.\n",
    "2. Usa `sort_values` y `loc` para obtener el valor del diámetro más grande medido que existe en nuestro dataset y asígnalo a `medida_de_diametro_mas_grande`"
   ]
  },
  {
   "cell_type": "code",
   "execution_count": 2,
   "metadata": {
    "scrolled": true
   },
   "outputs": [
    {
     "data": {
      "text/html": [
       "<div>\n",
       "<style scoped>\n",
       "    .dataframe tbody tr th:only-of-type {\n",
       "        vertical-align: middle;\n",
       "    }\n",
       "\n",
       "    .dataframe tbody tr th {\n",
       "        vertical-align: top;\n",
       "    }\n",
       "\n",
       "    .dataframe thead th {\n",
       "        text-align: right;\n",
       "    }\n",
       "</style>\n",
       "<table border=\"1\" class=\"dataframe\">\n",
       "  <thead>\n",
       "    <tr style=\"text-align: right;\">\n",
       "      <th></th>\n",
       "      <th>is_potentially_hazardous_asteroid</th>\n",
       "      <th>estimated_diameter.meters.estimated_diameter_min</th>\n",
       "      <th>estimated_diameter.meters.estimated_diameter_max</th>\n",
       "      <th>close_approach_date</th>\n",
       "      <th>epoch_date_close_approach</th>\n",
       "      <th>orbiting_body</th>\n",
       "      <th>relative_velocity.kilometers_per_second</th>\n",
       "      <th>relative_velocity.kilometers_per_hour</th>\n",
       "      <th>orbit_class_description</th>\n",
       "      <th>id</th>\n",
       "      <th>name</th>\n",
       "      <th>relative_velocity.kilometers_per_minute</th>\n",
       "      <th>proportion_of_max_diameter_to_earth</th>\n",
       "    </tr>\n",
       "  </thead>\n",
       "  <tbody>\n",
       "    <tr>\n",
       "      <th>0</th>\n",
       "      <td>0</td>\n",
       "      <td>483.676488</td>\n",
       "      <td>1081.533507</td>\n",
       "      <td>1995-01-07</td>\n",
       "      <td>1995-01-07 08:33:00</td>\n",
       "      <td>Earth</td>\n",
       "      <td>16.142864</td>\n",
       "      <td>58114.308667</td>\n",
       "      <td>Near Earth asteroid orbits similar to that of ...</td>\n",
       "      <td>2154652</td>\n",
       "      <td>154652 (2004 EP20)</td>\n",
       "      <td>968.571811</td>\n",
       "      <td>0.000085</td>\n",
       "    </tr>\n",
       "    <tr>\n",
       "      <th>1</th>\n",
       "      <td>1</td>\n",
       "      <td>96.506147</td>\n",
       "      <td>215.794305</td>\n",
       "      <td>1995-01-07</td>\n",
       "      <td>1995-01-07 15:09:00</td>\n",
       "      <td>Earth</td>\n",
       "      <td>12.351044</td>\n",
       "      <td>44463.757734</td>\n",
       "      <td>Near Earth asteroid orbits which cross the Ear...</td>\n",
       "      <td>3153509</td>\n",
       "      <td>(2003 HM)</td>\n",
       "      <td>741.062629</td>\n",
       "      <td>0.000017</td>\n",
       "    </tr>\n",
       "    <tr>\n",
       "      <th>2</th>\n",
       "      <td>0</td>\n",
       "      <td>46.190746</td>\n",
       "      <td>103.285648</td>\n",
       "      <td>1995-01-07</td>\n",
       "      <td>1995-01-07 21:25:00</td>\n",
       "      <td>Earth</td>\n",
       "      <td>22.478615</td>\n",
       "      <td>80923.015021</td>\n",
       "      <td>Near Earth asteroid orbits similar to that of ...</td>\n",
       "      <td>3837644</td>\n",
       "      <td>(2019 AY3)</td>\n",
       "      <td>1348.716917</td>\n",
       "      <td>0.000008</td>\n",
       "    </tr>\n",
       "  </tbody>\n",
       "</table>\n",
       "</div>"
      ],
      "text/plain": [
       "   is_potentially_hazardous_asteroid  \\\n",
       "0                                  0   \n",
       "1                                  1   \n",
       "2                                  0   \n",
       "\n",
       "   estimated_diameter.meters.estimated_diameter_min  \\\n",
       "0                                        483.676488   \n",
       "1                                         96.506147   \n",
       "2                                         46.190746   \n",
       "\n",
       "   estimated_diameter.meters.estimated_diameter_max close_approach_date  \\\n",
       "0                                       1081.533507          1995-01-07   \n",
       "1                                        215.794305          1995-01-07   \n",
       "2                                        103.285648          1995-01-07   \n",
       "\n",
       "  epoch_date_close_approach orbiting_body  \\\n",
       "0       1995-01-07 08:33:00         Earth   \n",
       "1       1995-01-07 15:09:00         Earth   \n",
       "2       1995-01-07 21:25:00         Earth   \n",
       "\n",
       "   relative_velocity.kilometers_per_second  \\\n",
       "0                                16.142864   \n",
       "1                                12.351044   \n",
       "2                                22.478615   \n",
       "\n",
       "   relative_velocity.kilometers_per_hour  \\\n",
       "0                           58114.308667   \n",
       "1                           44463.757734   \n",
       "2                           80923.015021   \n",
       "\n",
       "                             orbit_class_description       id  \\\n",
       "0  Near Earth asteroid orbits similar to that of ...  2154652   \n",
       "1  Near Earth asteroid orbits which cross the Ear...  3153509   \n",
       "2  Near Earth asteroid orbits similar to that of ...  3837644   \n",
       "\n",
       "                 name  relative_velocity.kilometers_per_minute  \\\n",
       "0  154652 (2004 EP20)                               968.571811   \n",
       "1           (2003 HM)                               741.062629   \n",
       "2          (2019 AY3)                              1348.716917   \n",
       "\n",
       "   proportion_of_max_diameter_to_earth  \n",
       "0                             0.000085  \n",
       "1                             0.000017  \n",
       "2                             0.000008  "
      ]
     },
     "execution_count": 2,
     "metadata": {},
     "output_type": "execute_result"
    }
   ],
   "source": [
    "import pandas as pd\n",
    "\n",
    "df_reto_6 = pd.read_csv(\"near_earth_objects-jan_feb_1995-reto_4.csv\", index_col=0)\n",
    "df_reto_6.head(3)"
   ]
  },
  {
   "cell_type": "code",
   "execution_count": 7,
   "metadata": {},
   "outputs": [
    {
     "data": {
      "text/plain": [
       "0.681436673"
      ]
     },
     "execution_count": 7,
     "metadata": {},
     "output_type": "execute_result"
    }
   ],
   "source": [
    "df_reto_6.sort_values(\"relative_velocity.kilometers_per_second\").reset_index(drop=True).loc[0, \"relative_velocity.kilometers_per_second\"]"
   ]
  },
  {
   "cell_type": "code",
   "execution_count": 8,
   "metadata": {},
   "outputs": [
    {
     "data": {
      "text/plain": [
       "0.681436673"
      ]
     },
     "execution_count": 8,
     "metadata": {},
     "output_type": "execute_result"
    }
   ],
   "source": [
    "velocidad_de_objeto_mas_lento = df_reto_6.sort_values(\"relative_velocity.kilometers_per_second\").reset_index(drop=True).loc[0, \"relative_velocity.kilometers_per_second\"]\n",
    "velocidad_de_objeto_mas_lento"
   ]
  },
  {
   "cell_type": "code",
   "execution_count": 12,
   "metadata": {},
   "outputs": [
    {
     "data": {
      "text/plain": [
       "0.681436673"
      ]
     },
     "execution_count": 12,
     "metadata": {},
     "output_type": "execute_result"
    }
   ],
   "source": [
    "df_reto_6.sort_values(\"relative_velocity.kilometers_per_second\").iloc[0][\"relative_velocity.kilometers_per_second\"]"
   ]
  },
  {
   "cell_type": "code",
   "execution_count": 26,
   "metadata": {},
   "outputs": [
    {
     "data": {
      "text/plain": [
       "6516.883821679"
      ]
     },
     "execution_count": 26,
     "metadata": {},
     "output_type": "execute_result"
    }
   ],
   "source": [
    "df_reto_6_2 = df_reto_6.sort_values(\"estimated_diameter.meters.estimated_diameter_max\", ascending=False)\n",
    "df_reto_6_2.iloc[0, 2]"
   ]
  },
  {
   "cell_type": "code",
   "execution_count": 27,
   "metadata": {},
   "outputs": [
    {
     "data": {
      "text/plain": [
       "6516.883821679"
      ]
     },
     "execution_count": 27,
     "metadata": {},
     "output_type": "execute_result"
    }
   ],
   "source": [
    "medida_de_diametro_mas_grande = df_reto_6_2.iloc[0, 2]\n",
    "medida_de_diametro_mas_grande"
   ]
  },
  {
   "cell_type": "markdown",
   "metadata": {},
   "source": [
    "En este caso la celda de valición si comprueba si tus resultados son correctos, adelante ..."
   ]
  },
  {
   "cell_type": "code",
   "execution_count": 28,
   "metadata": {},
   "outputs": [
    {
     "name": "stdout",
     "output_type": "stream",
     "text": [
      "Tus hallazgos son correctos. ¡Bien hecho!\n"
     ]
    }
   ],
   "source": [
    "def corroborar_hallazgos(velocidad_en_kilometros_por_segundo_de_objeto_mas_lento, medida_de_diametro_mas_grande):\n",
    "    \n",
    "    assert velocidad_en_kilometros_por_segundo_de_objeto_mas_lento == 0.681436673, 'Esa no es la velocidad en kilómetros por segundo del objeto más lento'\n",
    "    assert medida_de_diametro_mas_grande == 6516.883821679, 'Ese no es el diámetro más grande medido en nuestro dataset'\n",
    "    \n",
    "    print('Tus hallazgos son correctos. ¡Bien hecho!')\n",
    "    \n",
    "corroborar_hallazgos(velocidad_de_objeto_mas_lento, medida_de_diametro_mas_grande)"
   ]
  },
  {
   "cell_type": "code",
   "execution_count": 30,
   "metadata": {},
   "outputs": [
    {
     "data": {
      "text/html": [
       "<div>\n",
       "<style scoped>\n",
       "    .dataframe tbody tr th:only-of-type {\n",
       "        vertical-align: middle;\n",
       "    }\n",
       "\n",
       "    .dataframe tbody tr th {\n",
       "        vertical-align: top;\n",
       "    }\n",
       "\n",
       "    .dataframe thead th {\n",
       "        text-align: right;\n",
       "    }\n",
       "</style>\n",
       "<table border=\"1\" class=\"dataframe\">\n",
       "  <thead>\n",
       "    <tr style=\"text-align: right;\">\n",
       "      <th></th>\n",
       "      <th>is_potentially_hazardous_asteroid</th>\n",
       "      <th>estimated_diameter.meters.estimated_diameter_min</th>\n",
       "      <th>estimated_diameter.meters.estimated_diameter_max</th>\n",
       "      <th>close_approach_date</th>\n",
       "      <th>epoch_date_close_approach</th>\n",
       "      <th>orbiting_body</th>\n",
       "      <th>relative_velocity.kilometers_per_second</th>\n",
       "      <th>relative_velocity.kilometers_per_hour</th>\n",
       "      <th>orbit_class_description</th>\n",
       "      <th>id</th>\n",
       "      <th>name</th>\n",
       "      <th>relative_velocity.kilometers_per_minute</th>\n",
       "      <th>proportion_of_max_diameter_to_earth</th>\n",
       "    </tr>\n",
       "  </thead>\n",
       "  <tbody>\n",
       "    <tr>\n",
       "      <th>0</th>\n",
       "      <td>0</td>\n",
       "      <td>483.676488</td>\n",
       "      <td>1081.533507</td>\n",
       "      <td>1995-01-07</td>\n",
       "      <td>1995-01-07 08:33:00</td>\n",
       "      <td>Earth</td>\n",
       "      <td>16.142864</td>\n",
       "      <td>58114.308667</td>\n",
       "      <td>Near Earth asteroid orbits similar to that of ...</td>\n",
       "      <td>2154652</td>\n",
       "      <td>154652 (2004 EP20)</td>\n",
       "      <td>968.571811</td>\n",
       "      <td>0.000085</td>\n",
       "    </tr>\n",
       "    <tr>\n",
       "      <th>1</th>\n",
       "      <td>1</td>\n",
       "      <td>96.506147</td>\n",
       "      <td>215.794305</td>\n",
       "      <td>1995-01-07</td>\n",
       "      <td>1995-01-07 15:09:00</td>\n",
       "      <td>Earth</td>\n",
       "      <td>12.351044</td>\n",
       "      <td>44463.757734</td>\n",
       "      <td>Near Earth asteroid orbits which cross the Ear...</td>\n",
       "      <td>3153509</td>\n",
       "      <td>(2003 HM)</td>\n",
       "      <td>741.062629</td>\n",
       "      <td>0.000017</td>\n",
       "    </tr>\n",
       "    <tr>\n",
       "      <th>2</th>\n",
       "      <td>0</td>\n",
       "      <td>46.190746</td>\n",
       "      <td>103.285648</td>\n",
       "      <td>1995-01-07</td>\n",
       "      <td>1995-01-07 21:25:00</td>\n",
       "      <td>Earth</td>\n",
       "      <td>22.478615</td>\n",
       "      <td>80923.015021</td>\n",
       "      <td>Near Earth asteroid orbits similar to that of ...</td>\n",
       "      <td>3837644</td>\n",
       "      <td>(2019 AY3)</td>\n",
       "      <td>1348.716917</td>\n",
       "      <td>0.000008</td>\n",
       "    </tr>\n",
       "    <tr>\n",
       "      <th>3</th>\n",
       "      <td>0</td>\n",
       "      <td>22.108281</td>\n",
       "      <td>49.435619</td>\n",
       "      <td>1995-01-07</td>\n",
       "      <td>1995-01-07 02:45:00</td>\n",
       "      <td>Earth</td>\n",
       "      <td>4.998691</td>\n",
       "      <td>17995.288355</td>\n",
       "      <td>Near Earth asteroid orbits similar to that of ...</td>\n",
       "      <td>3843493</td>\n",
       "      <td>(2019 PY)</td>\n",
       "      <td>299.921473</td>\n",
       "      <td>0.000004</td>\n",
       "    </tr>\n",
       "    <tr>\n",
       "      <th>4</th>\n",
       "      <td>0</td>\n",
       "      <td>160.160338</td>\n",
       "      <td>358.129403</td>\n",
       "      <td>1995-01-08</td>\n",
       "      <td>1995-01-08 12:46:00</td>\n",
       "      <td>Earth</td>\n",
       "      <td>7.465089</td>\n",
       "      <td>26874.321682</td>\n",
       "      <td>An asteroid orbit contained entirely within th...</td>\n",
       "      <td>3765015</td>\n",
       "      <td>(2016 WR48)</td>\n",
       "      <td>447.905361</td>\n",
       "      <td>0.000028</td>\n",
       "    </tr>\n",
       "    <tr>\n",
       "      <th>...</th>\n",
       "      <td>...</td>\n",
       "      <td>...</td>\n",
       "      <td>...</td>\n",
       "      <td>...</td>\n",
       "      <td>...</td>\n",
       "      <td>...</td>\n",
       "      <td>...</td>\n",
       "      <td>...</td>\n",
       "      <td>...</td>\n",
       "      <td>...</td>\n",
       "      <td>...</td>\n",
       "      <td>...</td>\n",
       "      <td>...</td>\n",
       "    </tr>\n",
       "    <tr>\n",
       "      <th>296</th>\n",
       "      <td>0</td>\n",
       "      <td>483.676488</td>\n",
       "      <td>1081.533507</td>\n",
       "      <td>1995-02-21</td>\n",
       "      <td>1995-02-21 17:29:00</td>\n",
       "      <td>Earth</td>\n",
       "      <td>15.474761</td>\n",
       "      <td>55709.139812</td>\n",
       "      <td>Near Earth asteroid orbits similar to that of ...</td>\n",
       "      <td>2311554</td>\n",
       "      <td>311554 (2006 BQ147)</td>\n",
       "      <td>928.485664</td>\n",
       "      <td>0.000085</td>\n",
       "    </tr>\n",
       "    <tr>\n",
       "      <th>297</th>\n",
       "      <td>0</td>\n",
       "      <td>441.118200</td>\n",
       "      <td>986.370281</td>\n",
       "      <td>1995-02-21</td>\n",
       "      <td>1995-02-21 04:17:00</td>\n",
       "      <td>Earth</td>\n",
       "      <td>16.180392</td>\n",
       "      <td>58249.410194</td>\n",
       "      <td>Near Earth asteroid orbits similar to that of ...</td>\n",
       "      <td>2267136</td>\n",
       "      <td>267136 (2000 EF104)</td>\n",
       "      <td>970.823503</td>\n",
       "      <td>0.000077</td>\n",
       "    </tr>\n",
       "    <tr>\n",
       "      <th>298</th>\n",
       "      <td>0</td>\n",
       "      <td>441.118200</td>\n",
       "      <td>986.370281</td>\n",
       "      <td>1995-02-21</td>\n",
       "      <td>1995-02-21 15:44:00</td>\n",
       "      <td>Earth</td>\n",
       "      <td>15.106140</td>\n",
       "      <td>54382.104639</td>\n",
       "      <td>Near Earth asteroid orbits which cross the Ear...</td>\n",
       "      <td>3360486</td>\n",
       "      <td>(2006 WE4)</td>\n",
       "      <td>906.368411</td>\n",
       "      <td>0.000077</td>\n",
       "    </tr>\n",
       "    <tr>\n",
       "      <th>299</th>\n",
       "      <td>0</td>\n",
       "      <td>160.160338</td>\n",
       "      <td>358.129403</td>\n",
       "      <td>1995-02-21</td>\n",
       "      <td>1995-02-21 12:08:00</td>\n",
       "      <td>Earth</td>\n",
       "      <td>20.343173</td>\n",
       "      <td>73235.423517</td>\n",
       "      <td>An asteroid orbit contained entirely within th...</td>\n",
       "      <td>3656919</td>\n",
       "      <td>(2014 BG3)</td>\n",
       "      <td>1220.590392</td>\n",
       "      <td>0.000028</td>\n",
       "    </tr>\n",
       "    <tr>\n",
       "      <th>300</th>\n",
       "      <td>0</td>\n",
       "      <td>421.264611</td>\n",
       "      <td>941.976306</td>\n",
       "      <td>1995-02-21</td>\n",
       "      <td>1995-02-21 12:54:00</td>\n",
       "      <td>Earth</td>\n",
       "      <td>29.732426</td>\n",
       "      <td>107036.733058</td>\n",
       "      <td>Near Earth asteroid orbits similar to that of ...</td>\n",
       "      <td>3803762</td>\n",
       "      <td>(2018 GY4)</td>\n",
       "      <td>1783.945551</td>\n",
       "      <td>0.000074</td>\n",
       "    </tr>\n",
       "  </tbody>\n",
       "</table>\n",
       "<p>301 rows × 13 columns</p>\n",
       "</div>"
      ],
      "text/plain": [
       "     is_potentially_hazardous_asteroid  \\\n",
       "0                                    0   \n",
       "1                                    1   \n",
       "2                                    0   \n",
       "3                                    0   \n",
       "4                                    0   \n",
       "..                                 ...   \n",
       "296                                  0   \n",
       "297                                  0   \n",
       "298                                  0   \n",
       "299                                  0   \n",
       "300                                  0   \n",
       "\n",
       "     estimated_diameter.meters.estimated_diameter_min  \\\n",
       "0                                          483.676488   \n",
       "1                                           96.506147   \n",
       "2                                           46.190746   \n",
       "3                                           22.108281   \n",
       "4                                          160.160338   \n",
       "..                                                ...   \n",
       "296                                        483.676488   \n",
       "297                                        441.118200   \n",
       "298                                        441.118200   \n",
       "299                                        160.160338   \n",
       "300                                        421.264611   \n",
       "\n",
       "     estimated_diameter.meters.estimated_diameter_max close_approach_date  \\\n",
       "0                                         1081.533507          1995-01-07   \n",
       "1                                          215.794305          1995-01-07   \n",
       "2                                          103.285648          1995-01-07   \n",
       "3                                           49.435619          1995-01-07   \n",
       "4                                          358.129403          1995-01-08   \n",
       "..                                                ...                 ...   \n",
       "296                                       1081.533507          1995-02-21   \n",
       "297                                        986.370281          1995-02-21   \n",
       "298                                        986.370281          1995-02-21   \n",
       "299                                        358.129403          1995-02-21   \n",
       "300                                        941.976306          1995-02-21   \n",
       "\n",
       "    epoch_date_close_approach orbiting_body  \\\n",
       "0         1995-01-07 08:33:00         Earth   \n",
       "1         1995-01-07 15:09:00         Earth   \n",
       "2         1995-01-07 21:25:00         Earth   \n",
       "3         1995-01-07 02:45:00         Earth   \n",
       "4         1995-01-08 12:46:00         Earth   \n",
       "..                        ...           ...   \n",
       "296       1995-02-21 17:29:00         Earth   \n",
       "297       1995-02-21 04:17:00         Earth   \n",
       "298       1995-02-21 15:44:00         Earth   \n",
       "299       1995-02-21 12:08:00         Earth   \n",
       "300       1995-02-21 12:54:00         Earth   \n",
       "\n",
       "     relative_velocity.kilometers_per_second  \\\n",
       "0                                  16.142864   \n",
       "1                                  12.351044   \n",
       "2                                  22.478615   \n",
       "3                                   4.998691   \n",
       "4                                   7.465089   \n",
       "..                                       ...   \n",
       "296                                15.474761   \n",
       "297                                16.180392   \n",
       "298                                15.106140   \n",
       "299                                20.343173   \n",
       "300                                29.732426   \n",
       "\n",
       "     relative_velocity.kilometers_per_hour  \\\n",
       "0                             58114.308667   \n",
       "1                             44463.757734   \n",
       "2                             80923.015021   \n",
       "3                             17995.288355   \n",
       "4                             26874.321682   \n",
       "..                                     ...   \n",
       "296                           55709.139812   \n",
       "297                           58249.410194   \n",
       "298                           54382.104639   \n",
       "299                           73235.423517   \n",
       "300                          107036.733058   \n",
       "\n",
       "                               orbit_class_description       id  \\\n",
       "0    Near Earth asteroid orbits similar to that of ...  2154652   \n",
       "1    Near Earth asteroid orbits which cross the Ear...  3153509   \n",
       "2    Near Earth asteroid orbits similar to that of ...  3837644   \n",
       "3    Near Earth asteroid orbits similar to that of ...  3843493   \n",
       "4    An asteroid orbit contained entirely within th...  3765015   \n",
       "..                                                 ...      ...   \n",
       "296  Near Earth asteroid orbits similar to that of ...  2311554   \n",
       "297  Near Earth asteroid orbits similar to that of ...  2267136   \n",
       "298  Near Earth asteroid orbits which cross the Ear...  3360486   \n",
       "299  An asteroid orbit contained entirely within th...  3656919   \n",
       "300  Near Earth asteroid orbits similar to that of ...  3803762   \n",
       "\n",
       "                    name  relative_velocity.kilometers_per_minute  \\\n",
       "0     154652 (2004 EP20)                               968.571811   \n",
       "1              (2003 HM)                               741.062629   \n",
       "2             (2019 AY3)                              1348.716917   \n",
       "3              (2019 PY)                               299.921473   \n",
       "4            (2016 WR48)                               447.905361   \n",
       "..                   ...                                      ...   \n",
       "296  311554 (2006 BQ147)                               928.485664   \n",
       "297  267136 (2000 EF104)                               970.823503   \n",
       "298           (2006 WE4)                               906.368411   \n",
       "299           (2014 BG3)                              1220.590392   \n",
       "300           (2018 GY4)                              1783.945551   \n",
       "\n",
       "     proportion_of_max_diameter_to_earth  \n",
       "0                               0.000085  \n",
       "1                               0.000017  \n",
       "2                               0.000008  \n",
       "3                               0.000004  \n",
       "4                               0.000028  \n",
       "..                                   ...  \n",
       "296                             0.000085  \n",
       "297                             0.000077  \n",
       "298                             0.000077  \n",
       "299                             0.000028  \n",
       "300                             0.000074  \n",
       "\n",
       "[301 rows x 13 columns]"
      ]
     },
     "execution_count": 30,
     "metadata": {},
     "output_type": "execute_result"
    }
   ],
   "source": [
    "df_reto_6_2.sort_index()"
   ]
  }
 ],
 "metadata": {
  "kernelspec": {
   "display_name": "Python 3 (ipykernel)",
   "language": "python",
   "name": "python3"
  },
  "language_info": {
   "codemirror_mode": {
    "name": "ipython",
    "version": 3
   },
   "file_extension": ".py",
   "mimetype": "text/x-python",
   "name": "python",
   "nbconvert_exporter": "python",
   "pygments_lexer": "ipython3",
   "version": "3.12.0"
  }
 },
 "nbformat": 4,
 "nbformat_minor": 4
}
