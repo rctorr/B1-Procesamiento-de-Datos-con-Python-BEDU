{
 "cells": [
  {
   "cell_type": "markdown",
   "metadata": {},
   "source": [
    "## Ejemplo 1: Map\n",
    "\n",
    "### 1. Objetivos:\n",
    "    - Entender cómo funciona la función `map` y verla aplicada en ejemplos para después poder reproducir su uso\n",
    " \n",
    "---\n",
    "    \n",
    "### 2. Desarrollo:"
   ]
  },
  {
   "cell_type": "markdown",
   "metadata": {},
   "source": [
    "Muchas veces vamos a querer aplicar funciones a cada uno de los elementos en una `lista`. Esto es un procedimiento muy común en la ciencia de datos y existen varias formas de aplicar operaciones \"elemento por elemento\" a una `lista` y las veremos a continuación. "
   ]
  },
  {
   "cell_type": "markdown",
   "metadata": {},
   "source": [
    "Primero necesitamos una `lista` de números y en este caso la creamos de forma directa, pero podríamos haber usado la función `range(valor_inicial, valor_final)`, ya la usaremos más adelante."
   ]
  },
  {
   "cell_type": "code",
   "execution_count": 1,
   "metadata": {},
   "outputs": [],
   "source": [
    "numeros = [1, 2, 3, 4, 5, 6, 7, 8, 9, 10]"
   ]
  },
  {
   "cell_type": "markdown",
   "metadata": {},
   "source": [
    "Ahora tenemos que pensar qué operaciones o transformaciones queremos aplicar a cada uno de los elementos de la lista.\n",
    "\n",
    "Digamos que queremos multiplicarlos por 10 cada uno de los elementos de la lista, así que una forma **artesanal** de resolverlo sería tomando elemento a elemento, veamos como"
   ]
  },
  {
   "cell_type": "code",
   "execution_count": 2,
   "metadata": {},
   "outputs": [
    {
     "data": {
      "text/plain": [
       "[10, 20, 30, 40]"
      ]
     },
     "execution_count": 2,
     "metadata": {},
     "output_type": "execute_result"
    }
   ],
   "source": [
    "numeros_por_10 = []\n",
    "# multiplica elemento a elemento y agregalo a la nueva lista, si elemento a elemento!\n",
    "numeros_por_10.append(numeros[0] * 10)\n",
    "numeros_por_10.append(numeros[1] * 10)\n",
    "numeros_por_10.append(numeros[2] * 10)\n",
    "numeros_por_10.append(numeros[3] * 10)\n",
    "\n",
    "numeros_por_10"
   ]
  },
  {
   "cell_type": "markdown",
   "metadata": {},
   "source": [
    "Ahora veamos la forma **clásica** (usando ciclos for) como se resolvería con cualquier lenguaje de programación (o más o menos):"
   ]
  },
  {
   "cell_type": "code",
   "execution_count": 3,
   "metadata": {},
   "outputs": [
    {
     "data": {
      "text/plain": [
       "[10, 20, 30, 40, 50, 60, 70, 80, 90, 100]"
      ]
     },
     "execution_count": 3,
     "metadata": {},
     "output_type": "execute_result"
    }
   ],
   "source": [
    "numeros_por_10 = []\n",
    "for n in numeros: # n = 1, 2, ..., 10\n",
    "    numeros_por_10.append( n * 10 )\n",
    "numeros_por_10"
   ]
  },
  {
   "cell_type": "markdown",
   "metadata": {},
   "source": [
    "Finalmente usando la función:\n",
    "\n",
    "    map(funcion, lista)\n",
    "\n",
    "Donde:\n",
    "\n",
    "`funcion` es el nombre de una función que realiza la operación, en este caso multiplica por 10 a un sólo elemento.\n",
    "\n",
    "`lista` es la lista de elementos a aplicar la operación.\n",
    "\n",
    "Es importante notar que `map()` construye y regresa una nueva lista, por lo que la lista original se mantiene intacta."
   ]
  },
  {
   "cell_type": "markdown",
   "metadata": {},
   "source": [
    "Entonces en la siguiente celda vamos a crear la función y ejecutamos la celda:"
   ]
  },
  {
   "cell_type": "code",
   "execution_count": 4,
   "metadata": {},
   "outputs": [],
   "source": [
    "def por_10(valor):\n",
    "    return valor * 10"
   ]
  },
  {
   "cell_type": "markdown",
   "metadata": {},
   "source": [
    "Ahora aplicamos la función usando `map()`:"
   ]
  },
  {
   "cell_type": "code",
   "execution_count": 8,
   "metadata": {},
   "outputs": [
    {
     "data": {
      "text/plain": [
       "[10, 20, 30, 40, 50, 60, 70, 80, 90, 100]"
      ]
     },
     "execution_count": 8,
     "metadata": {},
     "output_type": "execute_result"
    }
   ],
   "source": [
    "list(map(por_10, numeros))"
   ]
  },
  {
   "cell_type": "markdown",
   "metadata": {},
   "source": [
    "¿Qué pasa? `map()` no regresa una lista, pero queremos una lista, así que aplicamos la función `list(objeto)` al resultado de `map()`"
   ]
  },
  {
   "cell_type": "code",
   "execution_count": null,
   "metadata": {},
   "outputs": [],
   "source": [
    "..."
   ]
  },
  {
   "cell_type": "markdown",
   "metadata": {},
   "source": [
    "¿Por qué estamos agregando esa función `list`? Como viste en el Prework, `list` nos ayuda a convertir el resultado de `map` en una lista común y corriente.\n",
    "\n",
    "Con `map()` podemos examinar el resultado sin necesidad de asígnar una nueva variable, claro, los resultados se pierden, así que ahora guardemos los resultados:"
   ]
  },
  {
   "cell_type": "code",
   "execution_count": 9,
   "metadata": {},
   "outputs": [
    {
     "data": {
      "text/plain": [
       "[10, 20, 30, 40, 50, 60, 70, 80, 90, 100]"
      ]
     },
     "execution_count": 9,
     "metadata": {},
     "output_type": "execute_result"
    }
   ],
   "source": [
    "numeros_por_10 = list(map(por_10, numeros))\n",
    "numeros_por_10"
   ]
  },
  {
   "cell_type": "markdown",
   "metadata": {},
   "source": [
    "También existe la forma **Pythonesca** y es usando un concepto llamado **listas de compresión** (o ¿podría llamarse notación de conjuntos?) y se realiza de la siguiente forma:\n",
    "\n",
    "    [-aplicar operacion a x- for x in conjunto]"
   ]
  },
  {
   "cell_type": "code",
   "execution_count": 11,
   "metadata": {},
   "outputs": [
    {
     "data": {
      "text/plain": [
       "[10, 20, 30, 40, 50, 60, 70, 80, 90, 100]"
      ]
     },
     "execution_count": 11,
     "metadata": {},
     "output_type": "execute_result"
    }
   ],
   "source": [
    "[ n * 10 for n in numeros]"
   ]
  },
  {
   "cell_type": "markdown",
   "metadata": {},
   "source": [
    "O si la operación o transformación es muy compleja, también se puede usar la función usada en `map()` de la forma:\n",
    "\n",
    "    [-operacion(x)- for x in conjunto]"
   ]
  },
  {
   "cell_type": "code",
   "execution_count": 12,
   "metadata": {},
   "outputs": [
    {
     "data": {
      "text/plain": [
       "[10, 20, 30, 40, 50, 60, 70, 80, 90, 100]"
      ]
     },
     "execution_count": 12,
     "metadata": {},
     "output_type": "execute_result"
    }
   ],
   "source": [
    "[ por_10(n) for n in numeros]"
   ]
  },
  {
   "cell_type": "markdown",
   "metadata": {},
   "source": [
    "¿Un respiro? Nooooo!"
   ]
  },
  {
   "cell_type": "markdown",
   "metadata": {},
   "source": [
    "Veamos otro ejemplo, convirtiendo la lista de números en cadenas con formato agregando la unidad de segundos `seg` haciendo uso de una función y `map()`:"
   ]
  },
  {
   "cell_type": "code",
   "execution_count": 15,
   "metadata": {},
   "outputs": [
    {
     "data": {
      "text/plain": [
       "['1 s', '2 s', '3 s', '4 s', '5 s', '6 s', '7 s', '8 s', '9 s', '10 s']"
      ]
     },
     "execution_count": 15,
     "metadata": {},
     "output_type": "execute_result"
    }
   ],
   "source": [
    "def en_cadenas_con_segundos(entero):\n",
    "    # return str(entero) + \" seg\"\n",
    "    return f\"{entero} s\"\n",
    "\n",
    "list(map(en_cadenas_con_segundos, numeros))"
   ]
  },
  {
   "cell_type": "markdown",
   "metadata": {},
   "source": [
    "Y si queremos convertir en cero todos los números que son menores a 5:"
   ]
  },
  {
   "cell_type": "code",
   "execution_count": null,
   "metadata": {},
   "outputs": [],
   "source": [
    "def convertir_en_0_si_ma_5(valor):\n",
    "    pass\n",
    "\n",
    "list( map(convertir_en_0_si_ma_5, numeros) )"
   ]
  },
  {
   "cell_type": "markdown",
   "metadata": {},
   "source": [
    "Nos ponemos más *rudos*, queremos convertir en cero todos los números que son menores a m:"
   ]
  },
  {
   "cell_type": "code",
   "execution_count": 21,
   "metadata": {},
   "outputs": [],
   "source": [
    "def convertir_en_0_si_me_m(valor, m):\n",
    "    if valor < m:\n",
    "        return 0\n",
    "    else:\n",
    "        return valor\n",
    "\n",
    "# list(map(convertir_en_0_si_me_m, numeros))"
   ]
  },
  {
   "cell_type": "markdown",
   "metadata": {},
   "source": [
    "Upsss! `map()` no nos deja pasarle otro valor a nuestra función de conversión, se puede usar un truco, pero lo veremos más adelante, así que por el momento lo hacemos usando **listas de compresión** y la función creada anteriormente de la forma:\n",
    "\n",
    "    [-función aplicada a x- for x in conjunto]\n",
    "    \n",
    "donde `-función-` en éste caso si podemos darle el valor de x y m puede ser 5 u otro límite.\n",
    "\n",
    "Entonces veamos como quedaría nuestra lista de compresión usando la función de transformación:"
   ]
  },
  {
   "cell_type": "code",
   "execution_count": 19,
   "metadata": {},
   "outputs": [
    {
     "data": {
      "text/plain": [
       "[0, 0, 0, 0, 0, 6, 7, 8, 9, 10]"
      ]
     },
     "execution_count": 19,
     "metadata": {},
     "output_type": "execute_result"
    }
   ],
   "source": [
    "[ convertir_en_0_si_me_m(n, 6) for n in numeros ]"
   ]
  },
  {
   "cell_type": "markdown",
   "metadata": {},
   "source": [
    "## ¿Hás llegad@ viv@ hasta aquí? Felicidadez!"
   ]
  },
  {
   "cell_type": "markdown",
   "metadata": {},
   "source": [
    "---\n",
    "---\n",
    "## Reto 1: Map\n",
    "\n",
    "### 1. Objetivos:\n",
    "    - Practicar el uso de `map` para transformar los datos en una `lista`\n",
    " \n",
    "### 2. Desarrollo:"
   ]
  },
  {
   "cell_type": "markdown",
   "metadata": {},
   "source": [
    "#### a) Proporción a porcentajes\n",
    "\n",
    "Tenemos una lista que contiene proporciones:"
   ]
  },
  {
   "cell_type": "code",
   "execution_count": null,
   "metadata": {},
   "outputs": [],
   "source": [
    "proporciones = [0.45, 0.2, 0.78, 0.4, 0.77, 0.9, 0.4, 0.5, 0.67, 0.24, 0.07]"
   ]
  },
  {
   "cell_type": "markdown",
   "metadata": {},
   "source": [
    "Queremos convertir esta lista en una lista de `porcentajes`, donde las proporciones hayan sido convertidas a porcentajes. Termina la función `proporcion_a_porcentajes` y después utiliza `map` para convertir `proporciones` y asignar la lista transformada a `porcentajes`:"
   ]
  },
  {
   "cell_type": "code",
   "execution_count": null,
   "metadata": {},
   "outputs": [],
   "source": [
    "def proporcion_a_porcentajes(valor):\n",
    "    pass\n",
    "\n",
    "porcentajes = "
   ]
  },
  {
   "cell_type": "markdown",
   "metadata": {},
   "source": [
    "Corre después la siguiente celda para obtener una representación en `string`. No importa si no entiendes por completo qué está pasando en la siguiente celda. Más adelante en el módulo aprenderemos a hacer esto y más."
   ]
  },
  {
   "cell_type": "code",
   "execution_count": null,
   "metadata": {},
   "outputs": [],
   "source": [
    "def imprime(proporciones, porcentajes):\n",
    "    print('== Proporciones y su equivalencia en porcentajes ==')\n",
    "    cadenas = [f\"- {i} equivale a el {j:.0f}%\" for i, j in zip(proporciones, porcentajes)]\n",
    "    print(\"\\n\".join(cadenas))\n",
    "    print('-' * 51)\n",
    "        \n",
    "imprime(proporciones, porcentajes)"
   ]
  },
  {
   "cell_type": "markdown",
   "metadata": {},
   "source": [
    "#### b) Strings a números\n",
    "\n",
    "Tenemos una `lista` con strings que representan valores númericos:"
   ]
  },
  {
   "cell_type": "code",
   "execution_count": null,
   "metadata": {},
   "outputs": [],
   "source": [
    "numeros_string = [\n",
    "    \"3\", \"7\", \"45\", \"89\", \"12\", \"9\", \"5\", \"89\", \"78\", \"87\", \"44\", \"45\", \"26\", \"84\", \"98\",\n",
    "    \"46\", \"99\", \"84\"]"
   ]
  },
  {
   "cell_type": "markdown",
   "metadata": {},
   "source": [
    "Para poder realizar algunos cálculos, necesitamos que estas cadenas sean convertidas a enteros. Escribe la función `en_entero` y aplicala a lista guardando el resultado en la variable `numeros`:"
   ]
  },
  {
   "cell_type": "code",
   "execution_count": null,
   "metadata": {},
   "outputs": [],
   "source": [
    "def en_entero(valor):\n",
    "    pass    \n",
    "\n",
    "numeros = "
   ]
  },
  {
   "cell_type": "markdown",
   "metadata": {},
   "source": [
    "Ahora ejecuta la siguiente celda y observa algunos valores estadísticos"
   ]
  },
  {
   "cell_type": "code",
   "execution_count": null,
   "metadata": {},
   "outputs": [],
   "source": [
    "def imprimir_analisis_estadistico(datos):\n",
    "    titulo = \"== Análisis estadístico de los datos recibidos ==\"\n",
    "    print(titulo)\n",
    "    print('-' * len(titulo))\n",
    "    print(f'Valor mínimo:     {min(datos):>3}')\n",
    "    print(f'Valor máximo:     {max(datos):>3}')\n",
    "    print(f'Rango de valores: {max(datos) - min(datos):>3}')\n",
    "    print(f'Promedio:         {sum(datos) / len(datos):>3}')\n",
    "    print('-' * len(titulo))\n",
    "\n",
    "imprimir_analisis_estadistico(numeros)"
   ]
  },
  {
   "cell_type": "markdown",
   "metadata": {},
   "source": [
    "#### c) Ingresos con formato\n",
    "\n",
    "Recuerda la lista de ingresos del tema de listas de la Sesión 2, bueno hay un archivo llamado `ventas.py` que ya tiene una variable llamada `ingresos` y que puedes acceder a ella como se muestra a continuación:"
   ]
  },
  {
   "cell_type": "code",
   "execution_count": 20,
   "metadata": {},
   "outputs": [
    {
     "data": {
      "text/plain": [
       "[23613.3220016323,\n",
       " 16748.3031429707,\n",
       " 16584.3838123815,\n",
       " 18009.7564873118,\n",
       " 13189.5125661809,\n",
       " 18537.9543119903,\n",
       " 14553.0653491856,\n",
       " 18225.2947535868,\n",
       " 15930.6588022569,\n",
       " 18474.7363448092,\n",
       " 13554.4701253944,\n",
       " 16213.5044058355,\n",
       " 16111.1528143134,\n",
       " 17625.0236529209,\n",
       " 14968.2188031998,\n",
       " 18221.849496707,\n",
       " 17230.2421526306,\n",
       " 18742.0433405474,\n",
       " 19083.6630292448,\n",
       " 17967.7942571412,\n",
       " 16673.1041701619,\n",
       " 16700.4265551564,\n",
       " 19398.6793430791,\n",
       " 17234.6186274932,\n",
       " 13452.5504392637,\n",
       " 20346.5094557155,\n",
       " 18741.4291860601,\n",
       " 13717.4357689342,\n",
       " 20271.9520995866,\n",
       " 12497.1457546176,\n",
       " 20064.7972917191,\n",
       " 17038.7682566921,\n",
       " 17034.1795739783,\n",
       " 16895.2608248342,\n",
       " 16259.5460198768,\n",
       " 17202.6251732073,\n",
       " 14356.7056795415,\n",
       " 17691.2849303458,\n",
       " 19099.4363140031,\n",
       " 19720.4213975179,\n",
       " 19295.5463273516,\n",
       " 18258.5689446692,\n",
       " 19640.5763210474,\n",
       " 13347.7147675999,\n",
       " 19273.1771232625,\n",
       " 15433.5282070074,\n",
       " 16795.5356175422,\n",
       " 19411.5915666894,\n",
       " 17661.0865048256,\n",
       " 16535.3088743482,\n",
       " 17089.4834365877,\n",
       " 19292.09108422,\n",
       " 19794.8189736176,\n",
       " 17457.9836186363,\n",
       " 20600.7194821846,\n",
       " 18079.3406900316,\n",
       " 14783.6878488429,\n",
       " 15504.0960555321,\n",
       " 19721.0155795015,\n",
       " 10381.1388828158]"
      ]
     },
     "execution_count": 20,
     "metadata": {},
     "output_type": "execute_result"
    }
   ],
   "source": [
    "import ventas\n",
    "\n",
    "ventas.ingresos"
   ]
  },
  {
   "cell_type": "markdown",
   "metadata": {},
   "source": [
    "La variable `ventas.ingresos` es una lista con los valores de las ventas de tipo float o números decimales tu **reto** consiste en obtener una lista de cadenas donde cada valor se represente de la forma `$ 12345.67 M.N.` (si el formato para representar moneda cambia en tu región ajústalo). Imprime la lista resultante que deberá ser similar a la siguiente:\n",
    "\n",
    "```\n",
    "['$23613.32 M.N.',\n",
    " '$16748.30 M.N.',\n",
    " '$16584.38 M.N.',\n",
    " '$18009.76 M.N.',\n",
    " '$13189.51 M.N.',\n",
    " '$18537.95 M.N.',\n",
    " '$14553.07 M.N.',\n",
    " '$18225.29 M.N.',\n",
    "...\n",
    "```\n",
    "\n",
    "Si no recuerda como aplicar formato a números con decimales (floats) recuerda que puedes consultar el sitio https://pyformat.info y no olvides aplicar la función `map()`."
   ]
  },
  {
   "cell_type": "code",
   "execution_count": 23,
   "metadata": {},
   "outputs": [
    {
     "data": {
      "text/plain": [
       "['$23613.3220016323 M.N.',\n",
       " '$16748.3031429707 M.N.',\n",
       " '$16584.3838123815 M.N.',\n",
       " '$18009.7564873118 M.N.',\n",
       " '$13189.5125661809 M.N.',\n",
       " '$18537.9543119903 M.N.',\n",
       " '$14553.0653491856 M.N.',\n",
       " '$18225.2947535868 M.N.',\n",
       " '$15930.6588022569 M.N.',\n",
       " '$18474.7363448092 M.N.',\n",
       " '$13554.4701253944 M.N.',\n",
       " '$16213.5044058355 M.N.',\n",
       " '$16111.1528143134 M.N.',\n",
       " '$17625.0236529209 M.N.',\n",
       " '$14968.2188031998 M.N.',\n",
       " '$18221.849496707 M.N.',\n",
       " '$17230.2421526306 M.N.',\n",
       " '$18742.0433405474 M.N.',\n",
       " '$19083.6630292448 M.N.',\n",
       " '$17967.7942571412 M.N.',\n",
       " '$16673.1041701619 M.N.',\n",
       " '$16700.4265551564 M.N.',\n",
       " '$19398.6793430791 M.N.',\n",
       " '$17234.6186274932 M.N.',\n",
       " '$13452.5504392637 M.N.',\n",
       " '$20346.5094557155 M.N.',\n",
       " '$18741.4291860601 M.N.',\n",
       " '$13717.4357689342 M.N.',\n",
       " '$20271.9520995866 M.N.',\n",
       " '$12497.1457546176 M.N.',\n",
       " '$20064.7972917191 M.N.',\n",
       " '$17038.7682566921 M.N.',\n",
       " '$17034.1795739783 M.N.',\n",
       " '$16895.2608248342 M.N.',\n",
       " '$16259.5460198768 M.N.',\n",
       " '$17202.6251732073 M.N.',\n",
       " '$14356.7056795415 M.N.',\n",
       " '$17691.2849303458 M.N.',\n",
       " '$19099.4363140031 M.N.',\n",
       " '$19720.4213975179 M.N.',\n",
       " '$19295.5463273516 M.N.',\n",
       " '$18258.5689446692 M.N.',\n",
       " '$19640.5763210474 M.N.',\n",
       " '$13347.7147675999 M.N.',\n",
       " '$19273.1771232625 M.N.',\n",
       " '$15433.5282070074 M.N.',\n",
       " '$16795.5356175422 M.N.',\n",
       " '$19411.5915666894 M.N.',\n",
       " '$17661.0865048256 M.N.',\n",
       " '$16535.3088743482 M.N.',\n",
       " '$17089.4834365877 M.N.',\n",
       " '$19292.09108422 M.N.',\n",
       " '$19794.8189736176 M.N.',\n",
       " '$17457.9836186363 M.N.',\n",
       " '$20600.7194821846 M.N.',\n",
       " '$18079.3406900316 M.N.',\n",
       " '$14783.6878488429 M.N.',\n",
       " '$15504.0960555321 M.N.',\n",
       " '$19721.0155795015 M.N.',\n",
       " '$10381.1388828158 M.N.']"
      ]
     },
     "execution_count": 23,
     "metadata": {},
     "output_type": "execute_result"
    }
   ],
   "source": [
    "list(map(lambda n: f\"${n} M.N.\", ventas.ingresos))"
   ]
  },
  {
   "cell_type": "code",
   "execution_count": 24,
   "metadata": {
    "scrolled": true
   },
   "outputs": [
    {
     "data": {
      "text/plain": [
       "['Q. 23613.32',\n",
       " 'Q. 16748.3',\n",
       " 'Q. 16584.38',\n",
       " 'Q. 18009.76',\n",
       " 'Q. 13189.51',\n",
       " 'Q. 18537.95',\n",
       " 'Q. 14553.07',\n",
       " 'Q. 18225.29',\n",
       " 'Q. 15930.66',\n",
       " 'Q. 18474.74',\n",
       " 'Q. 13554.47',\n",
       " 'Q. 16213.5',\n",
       " 'Q. 16111.15',\n",
       " 'Q. 17625.02',\n",
       " 'Q. 14968.22',\n",
       " 'Q. 18221.85',\n",
       " 'Q. 17230.24',\n",
       " 'Q. 18742.04',\n",
       " 'Q. 19083.66',\n",
       " 'Q. 17967.79',\n",
       " 'Q. 16673.1',\n",
       " 'Q. 16700.43',\n",
       " 'Q. 19398.68',\n",
       " 'Q. 17234.62',\n",
       " 'Q. 13452.55',\n",
       " 'Q. 20346.51',\n",
       " 'Q. 18741.43',\n",
       " 'Q. 13717.44',\n",
       " 'Q. 20271.95',\n",
       " 'Q. 12497.15',\n",
       " 'Q. 20064.8',\n",
       " 'Q. 17038.77',\n",
       " 'Q. 17034.18',\n",
       " 'Q. 16895.26',\n",
       " 'Q. 16259.55',\n",
       " 'Q. 17202.63',\n",
       " 'Q. 14356.71',\n",
       " 'Q. 17691.28',\n",
       " 'Q. 19099.44',\n",
       " 'Q. 19720.42',\n",
       " 'Q. 19295.55',\n",
       " 'Q. 18258.57',\n",
       " 'Q. 19640.58',\n",
       " 'Q. 13347.71',\n",
       " 'Q. 19273.18',\n",
       " 'Q. 15433.53',\n",
       " 'Q. 16795.54',\n",
       " 'Q. 19411.59',\n",
       " 'Q. 17661.09',\n",
       " 'Q. 16535.31',\n",
       " 'Q. 17089.48',\n",
       " 'Q. 19292.09',\n",
       " 'Q. 19794.82',\n",
       " 'Q. 17457.98',\n",
       " 'Q. 20600.72',\n",
       " 'Q. 18079.34',\n",
       " 'Q. 14783.69',\n",
       " 'Q. 15504.1',\n",
       " 'Q. 19721.02',\n",
       " 'Q. 10381.14']"
      ]
     },
     "execution_count": 24,
     "metadata": {},
     "output_type": "execute_result"
    }
   ],
   "source": [
    "def format_money_gt(entero):\n",
    "    # return f'{entero}s'\n",
    "    return f'Q. {round(entero,2)}'\n",
    "list(map(format_money_gt, ventas.ingresos))"
   ]
  },
  {
   "cell_type": "code",
   "execution_count": 26,
   "metadata": {},
   "outputs": [
    {
     "data": {
      "text/plain": [
       "['23613.32 Q',\n",
       " '16748.30 Q',\n",
       " '16584.38 Q',\n",
       " '18009.76 Q',\n",
       " '13189.51 Q',\n",
       " '18537.95 Q',\n",
       " '14553.07 Q',\n",
       " '18225.29 Q',\n",
       " '15930.66 Q',\n",
       " '18474.74 Q',\n",
       " '13554.47 Q',\n",
       " '16213.50 Q',\n",
       " '16111.15 Q',\n",
       " '17625.02 Q',\n",
       " '14968.22 Q',\n",
       " '18221.85 Q',\n",
       " '17230.24 Q',\n",
       " '18742.04 Q',\n",
       " '19083.66 Q',\n",
       " '17967.79 Q',\n",
       " '16673.10 Q',\n",
       " '16700.43 Q',\n",
       " '19398.68 Q',\n",
       " '17234.62 Q',\n",
       " '13452.55 Q',\n",
       " '20346.51 Q',\n",
       " '18741.43 Q',\n",
       " '13717.44 Q',\n",
       " '20271.95 Q',\n",
       " '12497.15 Q',\n",
       " '20064.80 Q',\n",
       " '17038.77 Q',\n",
       " '17034.18 Q',\n",
       " '16895.26 Q',\n",
       " '16259.55 Q',\n",
       " '17202.63 Q',\n",
       " '14356.71 Q',\n",
       " '17691.28 Q',\n",
       " '19099.44 Q',\n",
       " '19720.42 Q',\n",
       " '19295.55 Q',\n",
       " '18258.57 Q',\n",
       " '19640.58 Q',\n",
       " '13347.71 Q',\n",
       " '19273.18 Q',\n",
       " '15433.53 Q',\n",
       " '16795.54 Q',\n",
       " '19411.59 Q',\n",
       " '17661.09 Q',\n",
       " '16535.31 Q',\n",
       " '17089.48 Q',\n",
       " '19292.09 Q',\n",
       " '19794.82 Q',\n",
       " '17457.98 Q',\n",
       " '20600.72 Q',\n",
       " '18079.34 Q',\n",
       " '14783.69 Q',\n",
       " '15504.10 Q',\n",
       " '19721.02 Q',\n",
       " '10381.14 Q']"
      ]
     },
     "execution_count": 26,
     "metadata": {},
     "output_type": "execute_result"
    }
   ],
   "source": [
    "list(map(lambda x: f\"{x:.2f} Q\", ventas.ingresos))"
   ]
  },
  {
   "cell_type": "code",
   "execution_count": 27,
   "metadata": {},
   "outputs": [
    {
     "data": {
      "text/plain": [
       "['Q 23613.32 M. N.',\n",
       " 'Q 16748.3 M. N.',\n",
       " 'Q 16584.38 M. N.',\n",
       " 'Q 18009.76 M. N.',\n",
       " 'Q 13189.51 M. N.',\n",
       " 'Q 18537.95 M. N.',\n",
       " 'Q 14553.07 M. N.',\n",
       " 'Q 18225.29 M. N.',\n",
       " 'Q 15930.66 M. N.',\n",
       " 'Q 18474.74 M. N.',\n",
       " 'Q 13554.47 M. N.',\n",
       " 'Q 16213.5 M. N.',\n",
       " 'Q 16111.15 M. N.',\n",
       " 'Q 17625.02 M. N.',\n",
       " 'Q 14968.22 M. N.',\n",
       " 'Q 18221.85 M. N.',\n",
       " 'Q 17230.24 M. N.',\n",
       " 'Q 18742.04 M. N.',\n",
       " 'Q 19083.66 M. N.',\n",
       " 'Q 17967.79 M. N.',\n",
       " 'Q 16673.1 M. N.',\n",
       " 'Q 16700.43 M. N.',\n",
       " 'Q 19398.68 M. N.',\n",
       " 'Q 17234.62 M. N.',\n",
       " 'Q 13452.55 M. N.',\n",
       " 'Q 20346.51 M. N.',\n",
       " 'Q 18741.43 M. N.',\n",
       " 'Q 13717.44 M. N.',\n",
       " 'Q 20271.95 M. N.',\n",
       " 'Q 12497.15 M. N.',\n",
       " 'Q 20064.8 M. N.',\n",
       " 'Q 17038.77 M. N.',\n",
       " 'Q 17034.18 M. N.',\n",
       " 'Q 16895.26 M. N.',\n",
       " 'Q 16259.55 M. N.',\n",
       " 'Q 17202.63 M. N.',\n",
       " 'Q 14356.71 M. N.',\n",
       " 'Q 17691.28 M. N.',\n",
       " 'Q 19099.44 M. N.',\n",
       " 'Q 19720.42 M. N.',\n",
       " 'Q 19295.55 M. N.',\n",
       " 'Q 18258.57 M. N.',\n",
       " 'Q 19640.58 M. N.',\n",
       " 'Q 13347.71 M. N.',\n",
       " 'Q 19273.18 M. N.',\n",
       " 'Q 15433.53 M. N.',\n",
       " 'Q 16795.54 M. N.',\n",
       " 'Q 19411.59 M. N.',\n",
       " 'Q 17661.09 M. N.',\n",
       " 'Q 16535.31 M. N.',\n",
       " 'Q 17089.48 M. N.',\n",
       " 'Q 19292.09 M. N.',\n",
       " 'Q 19794.82 M. N.',\n",
       " 'Q 17457.98 M. N.',\n",
       " 'Q 20600.72 M. N.',\n",
       " 'Q 18079.34 M. N.',\n",
       " 'Q 14783.69 M. N.',\n",
       " 'Q 15504.1 M. N.',\n",
       " 'Q 19721.02 M. N.',\n",
       " 'Q 10381.14 M. N.']"
      ]
     },
     "execution_count": 27,
     "metadata": {},
     "output_type": "execute_result"
    }
   ],
   "source": [
    "def formato(valor):\n",
    "\n",
    "    return f\"Q {round(valor,2)} M. N.\"\n",
    "\n",
    "list(map(formato, ventas.ingresos))"
   ]
  },
  {
   "cell_type": "code",
   "execution_count": 28,
   "metadata": {},
   "outputs": [
    {
     "data": {
      "text/plain": [
       "['Q 23613.322',\n",
       " 'Q 16748.303',\n",
       " 'Q 16584.384',\n",
       " 'Q 18009.756',\n",
       " 'Q 13189.513',\n",
       " 'Q 18537.954',\n",
       " 'Q 14553.065',\n",
       " 'Q 18225.295',\n",
       " 'Q 15930.659',\n",
       " 'Q 18474.736',\n",
       " 'Q 13554.470',\n",
       " 'Q 16213.504',\n",
       " 'Q 16111.153',\n",
       " 'Q 17625.024',\n",
       " 'Q 14968.219',\n",
       " 'Q 18221.849',\n",
       " 'Q 17230.242',\n",
       " 'Q 18742.043',\n",
       " 'Q 19083.663',\n",
       " 'Q 17967.794',\n",
       " 'Q 16673.104',\n",
       " 'Q 16700.427',\n",
       " 'Q 19398.679',\n",
       " 'Q 17234.619',\n",
       " 'Q 13452.550',\n",
       " 'Q 20346.509',\n",
       " 'Q 18741.429',\n",
       " 'Q 13717.436',\n",
       " 'Q 20271.952',\n",
       " 'Q 12497.146',\n",
       " 'Q 20064.797',\n",
       " 'Q 17038.768',\n",
       " 'Q 17034.180',\n",
       " 'Q 16895.261',\n",
       " 'Q 16259.546',\n",
       " 'Q 17202.625',\n",
       " 'Q 14356.706',\n",
       " 'Q 17691.285',\n",
       " 'Q 19099.436',\n",
       " 'Q 19720.421',\n",
       " 'Q 19295.546',\n",
       " 'Q 18258.569',\n",
       " 'Q 19640.576',\n",
       " 'Q 13347.715',\n",
       " 'Q 19273.177',\n",
       " 'Q 15433.528',\n",
       " 'Q 16795.536',\n",
       " 'Q 19411.592',\n",
       " 'Q 17661.087',\n",
       " 'Q 16535.309',\n",
       " 'Q 17089.483',\n",
       " 'Q 19292.091',\n",
       " 'Q 19794.819',\n",
       " 'Q 17457.984',\n",
       " 'Q 20600.719',\n",
       " 'Q 18079.341',\n",
       " 'Q 14783.688',\n",
       " 'Q 15504.096',\n",
       " 'Q 19721.016',\n",
       " 'Q 10381.139']"
      ]
     },
     "execution_count": 28,
     "metadata": {},
     "output_type": "execute_result"
    }
   ],
   "source": [
    "def formato(valor):\n",
    "\n",
    "    return f\"Q {valor:.3f}\"\n",
    "\n",
    "list(map(formato, ventas.ingresos))"
   ]
  }
 ],
 "metadata": {
  "kernelspec": {
   "display_name": "Python 3 (ipykernel)",
   "language": "python",
   "name": "python3"
  },
  "language_info": {
   "codemirror_mode": {
    "name": "ipython",
    "version": 3
   },
   "file_extension": ".py",
   "mimetype": "text/x-python",
   "name": "python",
   "nbconvert_exporter": "python",
   "pygments_lexer": "ipython3",
   "version": "3.11.4"
  }
 },
 "nbformat": 4,
 "nbformat_minor": 4
}
